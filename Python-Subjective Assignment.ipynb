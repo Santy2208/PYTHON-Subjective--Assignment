{
 "cells": [
  {
   "cell_type": "markdown",
   "metadata": {},
   "source": [
    "\n",
    "\n",
    "\n",
    "                                        PYTHON\n",
    "                                   Practise Subjective \n",
    "                                       Questions"
   ]
  },
  {
   "cell_type": "markdown",
   "metadata": {},
   "source": [
    "### Q1. Write a Python program to get the string from the given string where all the occurrence of its first char has been changed to '$,' except first char itself?\n",
    "\n",
    "     Sample String: 'prospect'\n",
    " \n",
    "     Expected Result : 'pros$ect'"
   ]
  },
  {
   "cell_type": "code",
   "execution_count": 3,
   "metadata": {},
   "outputs": [
    {
     "name": "stdout",
     "output_type": "stream",
     "text": [
      "pros$ect\n"
     ]
    }
   ],
   "source": [
    "def change_char(str1):\n",
    "    char = str1[0]\n",
    "    str1 = str1.replace(char, '$')\n",
    "    str1 = char + str1[1:]\n",
    "    \n",
    "    return str1\n",
    "\n",
    "print(change_char('prospect'))"
   ]
  },
  {
   "cell_type": "markdown",
   "metadata": {},
   "source": [
    "###  Q2. Write a Python program to get the single string from the two given strings, and separated by the space and swap the first two characters of each string?\n",
    "\n",
    "    Sample String : 'abc', 'xyz'. \n",
    "    \n",
    "    Expected Result: 'xyc abz'"
   ]
  },
  {
   "cell_type": "code",
   "execution_count": 7,
   "metadata": {},
   "outputs": [
    {
     "name": "stdout",
     "output_type": "stream",
     "text": [
      "xyc abz\n"
     ]
    }
   ],
   "source": [
    "def chars_mix_up(a, b):\n",
    "    new_a = b[:2] + a[2:]\n",
    "    new_b = a[:2] + b[2:]\n",
    "\n",
    "    return new_a + ' ' + new_b\n",
    "print(chars_mix_up('abc', 'xyz'))"
   ]
  },
  {
   "cell_type": "markdown",
   "metadata": {},
   "source": [
    "### Q3. Write the Python program to add 'ing' at the end of the given string(length of the string should be at least 3). If given string already ends with 'ing,' then add 'ly' instead. If string length of the given string is less than 3, leave it unchanged?\n",
    "\n",
    "     Sample string: ' abc '\n",
    "     \n",
    "     Expectedresult: 'abcing'\n",
    "     \n",
    "     Samplestring: 'string'\n",
    "     \n",
    "     Expectedresult: 'stringly'"
   ]
  },
  {
   "cell_type": "code",
   "execution_count": 19,
   "metadata": {},
   "outputs": [
    {
     "name": "stdout",
     "output_type": "stream",
     "text": [
      "ab\n",
      "abcing\n",
      "stringly\n"
     ]
    }
   ],
   "source": [
    "    def add_string(str1):  \n",
    "      length = len(str1)  \n",
    "      \n",
    "      if length > 2:  \n",
    "        if str1[-3:] == 'ing':  \n",
    "          str1 += 'ly'  \n",
    "        else:  \n",
    "          str1 += 'ing'  \n",
    "      \n",
    "      return str1  \n",
    "    print(add_string('ab'))  \n",
    "    print(add_string('abc'))  \n",
    "    print(add_string('string'))  "
   ]
  },
  {
   "cell_type": "markdown",
   "metadata": {},
   "source": [
    "### Q4. Write the Python program to find the first appearance of thesubstring 'not' and 'poor' from the given string, if 'not' follows the 'poor',replace the whole 'not'...' poor' substring with 'good'.Return the resulting string.\n",
    "\n",
    "      Sample string: 'The lyrics are not that poor!'\n",
    "     'The lyrics are poor!'\n",
    "      Expected Result: 'The lyrics are good!'\n",
    "     'The lyrics are poor!'"
   ]
  },
  {
   "cell_type": "code",
   "execution_count": 22,
   "metadata": {},
   "outputs": [
    {
     "name": "stdout",
     "output_type": "stream",
     "text": [
      "The lyrics are poor!\n"
     ]
    }
   ],
   "source": [
    "    def not_poor(str1):  \n",
    "      snot = str1.find('not')  \n",
    "      sbad = str1.find('poor')  \n",
    "      \n",
    "      if sbad > snot:  \n",
    "        str1 = str1.replace(str1[snot:(sbad+4)], 'poor')\n",
    "        \n",
    "      \n",
    "      return str1  \n",
    "    print(not_poor('The lyrics are not that poor!'))  "
   ]
  },
  {
   "cell_type": "markdown",
   "metadata": {},
   "source": [
    "###  Q5. Write the Python program to remove the characters which have odd index values of a given string.\n",
    "\n"
   ]
  },
  {
   "cell_type": "code",
   "execution_count": 24,
   "metadata": {},
   "outputs": [
    {
     "name": "stdout",
     "output_type": "stream",
     "text": [
      "Snoh\n",
      "Kmr\n"
     ]
    }
   ],
   "source": [
    "    def odd_values_string(str):  \n",
    "      result = \"\"   \n",
    "      for i in range(len(str)):  \n",
    "        if i % 2 == 0:  \n",
    "          result = result + str[i]  \n",
    "      return result  \n",
    "      \n",
    "    print(odd_values_string('Santosh'))  \n",
    "    print(odd_values_string('Kumar'))  "
   ]
  },
  {
   "cell_type": "markdown",
   "metadata": {},
   "source": [
    " ### Q6. Write the Python function to get a string made of 4 copies of the last two characters of the specified string (length must be at least 2).\n",
    " \n",
    "     Sample function and result :\n",
    "     \n",
    "     insert-end ('Python') -> abababab\n",
    "     \n",
    "     insert-end('Exercises') -> jkjkjkjk"
   ]
  },
  {
   "cell_type": "code",
   "execution_count": 33,
   "metadata": {},
   "outputs": [
    {
     "name": "stdout",
     "output_type": "stream",
     "text": [
      "onononon\n",
      "eseseses\n"
     ]
    }
   ],
   "source": [
    "def insert_end(str):\n",
    "    sub_str = str[-2:]\n",
    "    return sub_str*4\n",
    "\n",
    "print(insert_end('python'))\n",
    "print(insert_end('Exercises'))"
   ]
  },
  {
   "cell_type": "markdown",
   "metadata": {},
   "source": [
    "###  Q7. Write the python function to get a string made of its first three characters of a specified string. the length of the string is less than 3 then return the original string.\n",
    "\n",
    "     Sample function and result :\n",
    "     \n",
    "     first-three('ipy') -> ipy\n",
    "     \n",
    "     first-three('python') -> pyt\n",
    " "
   ]
  },
  {
   "cell_type": "code",
   "execution_count": 35,
   "metadata": {},
   "outputs": [
    {
     "name": "stdout",
     "output_type": "stream",
     "text": [
      "ipy\n",
      "pyt\n"
     ]
    }
   ],
   "source": [
    "def first_three(str):\n",
    "    return str[:3] if len(str) > 3 else str\n",
    "\n",
    "print(first_three('ipy'))\n",
    "print(first_three('python'))  "
   ]
  },
  {
   "cell_type": "markdown",
   "metadata": {},
   "source": [
    "### Q8. Write the python program to print the following floating numbers up to 2 decimal places?"
   ]
  },
  {
   "cell_type": "code",
   "execution_count": 43,
   "metadata": {},
   "outputs": [
    {
     "name": "stdout",
     "output_type": "stream",
     "text": [
      "\n",
      "Original Number:  1.36789\n",
      "Formatted Number: 1.37\n",
      "Original Number:  -13.9999\n",
      "Formatted Number: -14.00\n",
      "\n"
     ]
    }
   ],
   "source": [
    "x = 1.36789\n",
    "y = -13.9999\n",
    "\n",
    "print(\"\\nOriginal Number: \", x)\n",
    "print(\"Formatted Number: {:.2f}\".format(x));\n",
    "print(\"Original Number: \",y)\n",
    "print(\"Formatted Number: {:.2f}\".format(y));\n",
    "print()"
   ]
  },
  {
   "cell_type": "markdown",
   "metadata": {},
   "source": [
    "### Q9. Write the Python program to format a number with a percentage?"
   ]
  },
  {
   "cell_type": "code",
   "execution_count": 44,
   "metadata": {},
   "outputs": [
    {
     "name": "stdout",
     "output_type": "stream",
     "text": [
      "\n",
      "Original Number:  0.46\n",
      "Formatted Number with percentage: 46.00%\n",
      "Original Number:  -0.46\n",
      "Formatted Number with percentage: -46.00%\n",
      "\n"
     ]
    }
   ],
   "source": [
    "x = 0.46\n",
    "y = -0.46\n",
    "print(\"\\nOriginal Number: \", x)\n",
    "print(\"Formatted Number with percentage: \"+\"{:.2%}\".format(x));\n",
    "print(\"Original Number: \", y)\n",
    "print(\"Formatted Number with percentage: \"+\"{:.2%}\".format(y));\n",
    "print()"
   ]
  },
  {
   "cell_type": "markdown",
   "metadata": {},
   "source": [
    "### Q10. Write the Python program to count occurrences of a substring in a String?"
   ]
  },
  {
   "cell_type": "code",
   "execution_count": 46,
   "metadata": {},
   "outputs": [
    {
     "name": "stdout",
     "output_type": "stream",
     "text": [
      "\n",
      "2\n",
      "\n"
     ]
    }
   ],
   "source": [
    "str1 = 'Never Never Give up'\n",
    "print()\n",
    "print(str1.count(\"Never\"))\n",
    "print()\n"
   ]
  },
  {
   "cell_type": "markdown",
   "metadata": {},
   "source": [
    "### Q11. Write the Python program to count repeated characters in a string.\n",
    "\n",
    "     Sample string: ' thequickbrownjumpsoverthelazydog '\n",
    "     \n",
    "     Expected output:\n",
    "     \n",
    "     o3 \n",
    "     \n",
    "     e3 \n",
    "     \n",
    "     u2 \n",
    "     \n",
    "     h2\n",
    "     \n",
    "     r2 \n",
    "     \n",
    "     t2"
   ]
  },
  {
   "cell_type": "code",
   "execution_count": 48,
   "metadata": {},
   "outputs": [
    {
     "name": "stdout",
     "output_type": "stream",
     "text": [
      "e 3\n",
      "o 3\n",
      "t 2\n",
      "h 2\n",
      "u 2\n",
      "r 2\n"
     ]
    }
   ],
   "source": [
    "import collections\n",
    "str1 = 'thequickbrownjumpsoverthelazydog'\n",
    "d = collections.defaultdict(int)\n",
    "for c in str1:\n",
    "    d[c] += 1\n",
    "\n",
    "for c in sorted(d, key=d.get, reverse=True):\n",
    "  if d[c] > 1:\n",
    "      print('%s %d' % (c, d[c]))"
   ]
  },
  {
   "cell_type": "markdown",
   "metadata": {},
   "source": [
    "### Q12. Write the Python program to print the square and cube symbol in the area of a rectangle and volume of a cylinder?\n",
    "\n",
    "     Sample output-\n",
    "     \n",
    "     The area of the rectangle is 1256.66cm2\n",
    "     \n",
    "     The volume of the cylinder is 1254.725cm3"
   ]
  },
  {
   "cell_type": "code",
   "execution_count": 49,
   "metadata": {},
   "outputs": [
    {
     "name": "stdout",
     "output_type": "stream",
     "text": [
      "The area of the rectangle is 1256.66cm²\n",
      "The volume of the cylinder is 1254.725cm³\n"
     ]
    }
   ],
   "source": [
    "area = 1256.66\n",
    "volume = 1254.725\n",
    "decimals = 2\n",
    "print(\"The area of the rectangle is {0:.{1}f}cm\\u00b2\".format(area, decimals))\n",
    "decimals = 3\n",
    "print(\"The volume of the cylinder is {0:.{1}f}cm\\u00b3\".format(volume, decimals))\n"
   ]
  },
  {
   "cell_type": "markdown",
   "metadata": {},
   "source": [
    "### Q13. Write the Python program to check if a string contains all letters of the alphabet?"
   ]
  },
  {
   "cell_type": "code",
   "execution_count": 53,
   "metadata": {},
   "outputs": [
    {
     "name": "stdout",
     "output_type": "stream",
     "text": [
      "False\n",
      "False\n"
     ]
    }
   ],
   "source": [
    "import string\n",
    "alphabet = set(string.ascii_lowercase)\n",
    "input_string = 'never never give up'\n",
    "print(set(input_string.lower()) >= alphabet)\n",
    "input_string = 'never never give up'\n",
    "print(set(input_string.lower()) >= alphabet)"
   ]
  },
  {
   "cell_type": "markdown",
   "metadata": {},
   "source": [
    "### Q14. Write the Python program to find the second most repeated word in a given string?\n"
   ]
  },
  {
   "cell_type": "code",
   "execution_count": 57,
   "metadata": {},
   "outputs": [
    {
     "name": "stdout",
     "output_type": "stream",
     "text": [
      "('and', 2)\n"
     ]
    }
   ],
   "source": [
    "def word_count(str):\n",
    "    counts = dict()\n",
    "    words = str.split()\n",
    "\n",
    "    for word in words:\n",
    "        if word in counts:\n",
    "            counts[word] += 1\n",
    "        else:\n",
    "            counts[word] = 1\n",
    "\n",
    "    counts_x = sorted(counts.items(), key=lambda kv: kv[1])\n",
    "    #print(counts_x)\n",
    "    return counts_x[-2]\n",
    " \n",
    "print(word_count(\"Do today's duty, fight today's temptation; do not weaken and distract yourself by looking forward to things you cannot see, and could not understand if you saw them. Do today what should be done. Your tomorrow may never come. Today is the pupil of yesterday.\"))"
   ]
  },
  {
   "cell_type": "markdown",
   "metadata": {},
   "source": [
    "### Q15. Write the Python program to find the minimum window in the given string, which will contains all the characters of another given strings?\n",
    "      \n",
    "       Example 1\n",
    "       \n",
    "       Input : string1 = \" PRWSOERIUSFK \"\n",
    "       \n",
    "       string2 = \" OSU \"\n",
    "       \n",
    "       Output:Minimum window is \"OERIUS\""
   ]
  },
  {
   "cell_type": "code",
   "execution_count": 64,
   "metadata": {},
   "outputs": [
    {
     "name": "stdout",
     "output_type": "stream",
     "text": [
      "Original Strings:\n",
      " PRWSOERIUSFK \n",
      " OSU\n",
      "Minimum window:\n",
      "OERIUS\n"
     ]
    }
   ],
   "source": [
    "import collections\n",
    "def min_window(str1, str2):\n",
    "    result_char, missing_char = collections.Counter(str2), len(str2)\n",
    "    i = p = q = 0\n",
    "    for j, c in enumerate(str1, 1):\n",
    "        missing_char -= result_char[c] > 0\n",
    "        result_char[c] -= 1\n",
    "        if not missing_char:\n",
    "            while i < q and result_char[str1[i]] < 0:\n",
    "                result_char[str1[i]] += 1\n",
    "                i += 1\n",
    "            if not q or j - i <= q - p:\n",
    "                p, q = i, j\n",
    "    return str1[p:q]\n",
    "           \n",
    "str1 = \"PRWSOERIUSFK\"\n",
    "str2 = \"OSU\"\n",
    "print(\"Original Strings:\\n\",str1,\"\\n\",str2)\n",
    "print(\"Minimum window:\")\n",
    "print(min_window(str1,str2))\n",
    "\n"
   ]
  },
  {
   "cell_type": "markdown",
   "metadata": {},
   "source": [
    "### Q16. Write the Python program to find smallest window that contains all characters of the given string?\n",
    "\n",
    "    Original Strings: asdaewsqgtwwsa\n",
    "\n",
    "    Smallest window that contains all characters of the said string:\n",
    "\n",
    "    Daewsqgt"
   ]
  },
  {
   "cell_type": "code",
   "execution_count": 65,
   "metadata": {},
   "outputs": [
    {
     "name": "stdout",
     "output_type": "stream",
     "text": [
      "Original Strings:\n",
      " asdaewsqgtwwsa\n",
      "\n",
      "Smallest window that contains all characters of the said string:\n",
      "daewsqgt\n"
     ]
    }
   ],
   "source": [
    "from collections import defaultdict   \n",
    "\n",
    "def find_sub_string(str): \n",
    "    str_len = len(str) \n",
    "      \n",
    "    # Count all distinct characters. \n",
    "    dist_count_char = len(set([x for x in str])) \n",
    "  \n",
    "    ctr, start_pos, start_pos_index, min_len = 0, 0, -1, 9999999999\n",
    "    curr_count = defaultdict(lambda: 0) \n",
    "    for i in range(str_len): \n",
    "        curr_count[str[i]] += 1\n",
    " \n",
    "        if curr_count[str[i]] == 1: \n",
    "            ctr += 1\n",
    "  \n",
    "        if ctr == dist_count_char: \n",
    "            while curr_count[str[start_pos]] > 1: \n",
    "                if curr_count[str[start_pos]] > 1: \n",
    "                    curr_count[str[start_pos]] -= 1\n",
    "                start_pos += 1\n",
    "  \n",
    "            len_window = i - start_pos + 1\n",
    "            if min_len > len_window: \n",
    "                min_len = len_window \n",
    "                start_pos_index = start_pos \n",
    "    return str[start_pos_index: start_pos_index + min_len] \n",
    "      \n",
    "str1 = \"asdaewsqgtwwsa\"\n",
    "print(\"Original Strings:\\n\",str1)\n",
    "print(\"\\nSmallest window that contains all characters of the said string:\")\n",
    "print(find_sub_string(str1)) \n"
   ]
  },
  {
   "cell_type": "markdown",
   "metadata": {},
   "source": [
    "### Q17. Write the Python program to count number of substrings from a given string of lowercase alphabets with exactly k distinct (given) characters?\n",
    "\n",
    "    Input a string (lowercase alphabets): wolf Input k: 4\n",
    "    \n",
    "    Number of substrings with exactly 4 distinct characters: 1"
   ]
  },
  {
   "cell_type": "code",
   "execution_count": 7,
   "metadata": {},
   "outputs": [
    {
     "name": "stdout",
     "output_type": "stream",
     "text": [
      "Input a string (lowercase alphabets):wolf\n",
      "Input k: 4\n",
      "Number of substrings with exactly 4 distinct characters : None\n"
     ]
    }
   ],
   "source": [
    "def count_k_dist(str1, k): \n",
    "    str_len = len(str1) \n",
    "\n",
    "    result = 0\n",
    "\n",
    "    ctr = [0] * 27\n",
    "\n",
    "    for i in range(0, str_len): \n",
    "        dist_ctr = 0\n",
    "\n",
    "        ctr = [0] * 27\n",
    "\n",
    "        for j in range(i, str_len): \n",
    "\n",
    "            if(ctr[ord(str1[j]) - 97] == 0): \n",
    "                dist_ctr += 1\n",
    "\n",
    "            ctr[ord(str1[j]) - 97] += 1\n",
    "\n",
    "            if(dist_ctr == k): \n",
    "                result += 1\n",
    "            if(dist_ctr > k): \n",
    "                break\n",
    "                return result \n",
    "\n",
    "str1 = input(\"Input a string (lowercase alphabets):\")\n",
    "k = int(input(\"Input k: \"))\n",
    "print(\"Number of substrings with exactly\", k, \"distinct characters : \", end = \"\") \n",
    "print(count_k_dist(str1, k))"
   ]
  },
  {
   "cell_type": "markdown",
   "metadata": {},
   "source": [
    "### Q18. Write the Python program to count number of non-empty substrings of the given string?\n",
    "\n",
    "    Input a string: w3resource \n",
    "    \n",
    "    Number of substrings:55\n",
    " "
   ]
  },
  {
   "cell_type": "code",
   "execution_count": 8,
   "metadata": {},
   "outputs": [
    {
     "name": "stdout",
     "output_type": "stream",
     "text": [
      "Input a string: w3resource\n",
      "Number of substrings:\n",
      "55\n"
     ]
    }
   ],
   "source": [
    "def number_of_substrings(str): \n",
    "    str_len = len(str); \n",
    "    return int(str_len * (str_len + 1) / 2); \n",
    "\n",
    "str1 = input(\"Input a string: \")\n",
    "print(\"Number of substrings:\") \n",
    "print(number_of_substrings(str1))"
   ]
  },
  {
   "cell_type": "markdown",
   "metadata": {},
   "source": [
    "### Q19. Write the Python program to count number of substrings with same first and last characters of the given string?\n",
    "\n",
    "\n",
    "    Input a string: abcd\n",
    "    \n",
    "    4"
   ]
  },
  {
   "cell_type": "code",
   "execution_count": 9,
   "metadata": {},
   "outputs": [
    {
     "name": "stdout",
     "output_type": "stream",
     "text": [
      "Input a string: abcd\n",
      "4\n"
     ]
    }
   ],
   "source": [
    "def no_of_substring_with_equalEnds(str1): \n",
    "    result = 0; \n",
    "    n = len(str1); \n",
    "    for i in range(n): \n",
    "        for j in range(i, n): \n",
    "            if (str1[i] == str1[j]): \n",
    "                result = result + 1\n",
    "    return result \n",
    "str1 = input(\"Input a string: \")\n",
    "print(no_of_substring_with_equalEnds(str1))"
   ]
  },
  {
   "cell_type": "markdown",
   "metadata": {},
   "source": [
    "### Q20. Write the Python program to count the number of strings where the string length is 2 or more, and first and last character are same from a given list of strings.\n",
    "\n",
    "     Sample List : ['abc', 'xyz', 'wxw', '1331']\n",
    " \n",
    "     Expected Result: 2"
   ]
  },
  {
   "cell_type": "code",
   "execution_count": 12,
   "metadata": {},
   "outputs": [
    {
     "name": "stdout",
     "output_type": "stream",
     "text": [
      "2\n"
     ]
    }
   ],
   "source": [
    "def match_words(words):\n",
    "  ctr = 0\n",
    "\n",
    "  for word in words:\n",
    "    if len(word) > 1 and word[0] == word[-1]:\n",
    "      ctr += 1\n",
    "  return ctr\n",
    "\n",
    "print(match_words(['abc', 'xyz', 'wxw', '1331']))"
   ]
  },
  {
   "cell_type": "markdown",
   "metadata": {},
   "source": [
    "### Q21. Write the Python program to get a list, sorted in increasing order by the last element in each tuple from the given list of non-empty tuples?\n",
    "\n",
    "\n",
    "      Sample list-[(2,5),(1,2),(4,4),(2,3),(2,1)]\n",
    "      \n",
    "      Expected Result-[ (2, 1), (1, 2), (2, 3), (4, 4), (2, 5) ]"
   ]
  },
  {
   "cell_type": "code",
   "execution_count": 13,
   "metadata": {},
   "outputs": [
    {
     "name": "stdout",
     "output_type": "stream",
     "text": [
      "[(2, 1), (1, 2), (2, 3), (4, 4), (2, 5)]\n"
     ]
    }
   ],
   "source": [
    "def last(n): return n[-1]\n",
    "\n",
    "def sort_list_last(tuples):\n",
    "  return sorted(tuples, key=last)\n",
    "\n",
    "print(sort_list_last([(2, 5), (1, 2), (4, 4), (2, 3), (2, 1)]))"
   ]
  },
  {
   "cell_type": "markdown",
   "metadata": {},
   "source": [
    "### Q22. Write the Python program to remove duplicates from a list?"
   ]
  },
  {
   "cell_type": "code",
   "execution_count": 15,
   "metadata": {},
   "outputs": [
    {
     "name": "stdout",
     "output_type": "stream",
     "text": [
      "{40, 10, 50, 20, 60, 30}\n"
     ]
    }
   ],
   "source": [
    "a = [50,30,30,20,40,50,60,40,10,50,40]\n",
    "\n",
    "dup_items = set()\n",
    "uniq_items = []\n",
    "for x in a:\n",
    "    if x not in dup_items:\n",
    "        uniq_items.append(x)\n",
    "        dup_items.add(x)\n",
    "\n",
    "print(dup_items)"
   ]
  },
  {
   "cell_type": "markdown",
   "metadata": {},
   "source": [
    "### Q23. Write the Python program to find the list of words that are longer than n from a given list of words?"
   ]
  },
  {
   "cell_type": "code",
   "execution_count": 16,
   "metadata": {},
   "outputs": [
    {
     "name": "stdout",
     "output_type": "stream",
     "text": [
      "['Never', 'Never', 'Give']\n"
     ]
    }
   ],
   "source": [
    "def long_words(n, str):\n",
    "    word_len = []\n",
    "    txt = str.split(\" \")\n",
    "    for x in txt:\n",
    "        if len(x) > n:\n",
    "            word_len.append(x)\n",
    "    return word_len\t\n",
    "print(long_words(3, \"Never Never Give Up\"))\n"
   ]
  },
  {
   "cell_type": "markdown",
   "metadata": {},
   "source": [
    "### Q24. Write the Python program to print a specified list after removing the 0th, 4th, and 5th elements?\n",
    "\n",
    "\n",
    "     Sample List - ['Red', 'Green', 'White', 'Black', 'Pink', 'Yellow']\n",
    "     \n",
    "     Expected Output - ['Green', 'White', 'Black']"
   ]
  },
  {
   "cell_type": "code",
   "execution_count": 17,
   "metadata": {},
   "outputs": [
    {
     "name": "stdout",
     "output_type": "stream",
     "text": [
      "['Green', 'White', 'Black']\n"
     ]
    }
   ],
   "source": [
    "color = ['Red', 'Green', 'White', 'Black', 'Pink', 'Yellow']\n",
    "color = [x for (i,x) in enumerate(color) if i not in (0,4,5)]\n",
    "print(color)"
   ]
  },
  {
   "cell_type": "markdown",
   "metadata": {},
   "source": [
    "### Q25. Write the Python program to generate all permutations of a list in Python?"
   ]
  },
  {
   "cell_type": "code",
   "execution_count": 20,
   "metadata": {},
   "outputs": [
    {
     "name": "stdout",
     "output_type": "stream",
     "text": [
      "[(2, 4, 6), (2, 6, 4), (4, 2, 6), (4, 6, 2), (6, 2, 4), (6, 4, 2)]\n"
     ]
    }
   ],
   "source": [
    "import itertools\n",
    "print(list(itertools.permutations([2,4,6])))"
   ]
  },
  {
   "cell_type": "markdown",
   "metadata": {},
   "source": [
    "### Q26. Write the Python program to convert a pair of values into a sorted unique array?\n",
    "\n",
    "    Original List- [ (1, 2), (3, 4), (1, 2), (5, 6), (7, 8), (1, 2), (3, 4), (3, 4), (7, 8), (9, 10) ]\n",
    "    \n",
    "    Sorted Unique Data- [ 1, 2, 3, 4, 5, 6, 7, 8, 9, 10 ]"
   ]
  },
  {
   "cell_type": "code",
   "execution_count": 28,
   "metadata": {},
   "outputs": [
    {
     "name": "stdout",
     "output_type": "stream",
     "text": [
      "Original List:  [(1, 2), (3, 4), (1, 2), (5, 6), (7, 8), (1, 2), (3, 4), (3, 4), (7, 8), (9, 10)]\n",
      "Sorted Unique Data: [1, 2, 3, 4, 5, 6, 7, 8, 9, 10]\n"
     ]
    }
   ],
   "source": [
    "list = [(1, 2), (3, 4), (1, 2), (5, 6), (7, 8), (1, 2), (3, 4), (3, 4),\n",
    " (7, 8), (9, 10)]\n",
    "print(\"Original List: \", L)\n",
    "print(\"Sorted Unique Data:\",sorted(set().union(*L)))"
   ]
  },
  {
   "cell_type": "markdown",
   "metadata": {},
   "source": [
    "### Q27. Write the Python class to convert an integer to a roman numeral?"
   ]
  },
  {
   "cell_type": "code",
   "execution_count": 34,
   "metadata": {},
   "outputs": [
    {
     "name": "stdout",
     "output_type": "stream",
     "text": [
      "VIII\n",
      "MMXIX\n"
     ]
    }
   ],
   "source": [
    "class py_solution:\n",
    "    def int_to_Roman(self, num):\n",
    "        val = [\n",
    "            1000, 900, 500, 400,\n",
    "            100, 90, 50, 40,\n",
    "            10, 9, 5, 4,\n",
    "            1\n",
    "            ]\n",
    "        syb = [\n",
    "            \"M\", \"CM\", \"D\", \"CD\",\n",
    "            \"C\", \"XC\", \"L\", \"XL\",\n",
    "            \"X\", \"IX\", \"V\", \"IV\",\n",
    "            \"I\"\n",
    "            ]\n",
    "        roman_num = ''\n",
    "        i = 0\n",
    "        while  num > 0:\n",
    "            for _ in range(num // val[i]):\n",
    "                roman_num += syb[i]\n",
    "                num -= val[i]\n",
    "            i += 1\n",
    "        return roman_num\n",
    "\n",
    "\n",
    "print(py_solution().int_to_Roman(8))\n",
    "print(py_solution().int_to_Roman(2019))"
   ]
  },
  {
   "cell_type": "markdown",
   "metadata": {},
   "source": [
    "### Q28 Write the Python class to convert a Roman numeral to an integer?"
   ]
  },
  {
   "cell_type": "code",
   "execution_count": 36,
   "metadata": {},
   "outputs": [
    {
     "name": "stdout",
     "output_type": "stream",
     "text": [
      "1966\n",
      "100\n",
      "50\n"
     ]
    }
   ],
   "source": [
    "class py_solution:\n",
    "    def roman_to_int(self, s):\n",
    "        rom_val = {'I': 1, 'V': 5, 'X': 10, 'L': 50, 'C': 100, 'D': 500, 'M': 1000}\n",
    "        int_val = 0\n",
    "        for i in range(len(s)):\n",
    "            if i > 0 and rom_val[s[i]] > rom_val[s[i - 1]]:\n",
    "                int_val += rom_val[s[i]] - 2 * rom_val[s[i - 1]]\n",
    "            else:\n",
    "                int_val += rom_val[s[i]]\n",
    "        return int_val\n",
    "\n",
    "print(py_solution().roman_to_int('MCMLXVI'))\n",
    "print(py_solution().roman_to_int('C'))\n",
    "print(py_solution().roman_to_int('L'))"
   ]
  },
  {
   "cell_type": "markdown",
   "metadata": {},
   "source": [
    "### Q29. Write the Python class to find the validity of the string of the parentheses, '(', ')', '{', '}', '[' and '] and the brackets must be closed in the correct order, \n",
    "    \n",
    "    example - \"()\" and \"()[]{}\" are valid but \"[)\", \"({[)]\" and \"{{{\" are invalid."
   ]
  },
  {
   "cell_type": "code",
   "execution_count": 37,
   "metadata": {},
   "outputs": [
    {
     "name": "stdout",
     "output_type": "stream",
     "text": [
      "True\n",
      "False\n",
      "True\n"
     ]
    }
   ],
   "source": [
    "class py_solution:\n",
    "   def is_valid_parenthese(self, str1):\n",
    "        stack, pchar = [], {\"(\": \")\", \"{\": \"}\", \"[\": \"]\"}\n",
    "        for parenthese in str1:\n",
    "            if parenthese in pchar:\n",
    "                stack.append(parenthese)\n",
    "            elif len(stack) == 0 or pchar[stack.pop()] != parenthese:\n",
    "                return False\n",
    "        return len(stack) == 0\n",
    "\n",
    "print(py_solution().is_valid_parenthese(\"(){}[]\"))\n",
    "print(py_solution().is_valid_parenthese(\"()[{)}\"))\n",
    "print(py_solution().is_valid_parenthese(\"()\"))"
   ]
  },
  {
   "cell_type": "markdown",
   "metadata": {},
   "source": [
    "### Q30. Write the Python class to get all possible unique subsets from a set of distinct integers?\n",
    "\n",
    "\n",
    "     Input -[4, 5, 6]\n",
    "     \n",
    "     Output - [[], [6], [5], [5, 6], [4], [4, 6], [4, 5], [4, 5, 6]]"
   ]
  },
  {
   "cell_type": "code",
   "execution_count": 38,
   "metadata": {},
   "outputs": [
    {
     "name": "stdout",
     "output_type": "stream",
     "text": [
      "[[], [6], [5], [5, 6], [4], [4, 6], [4, 5], [4, 5, 6]]\n"
     ]
    }
   ],
   "source": [
    "class py_solution:\n",
    "    def sub_sets(self, sset):\n",
    "        return self.subsetsRecur([], sorted(sset))\n",
    "    \n",
    "    def subsetsRecur(self, current, sset):\n",
    "        if sset:\n",
    "            return self.subsetsRecur(current, sset[1:]) + self.subsetsRecur(current + [sset[0]], sset[1:])\n",
    "        return [current]\n",
    "\n",
    "print(py_solution().sub_sets([4,5,6]))"
   ]
  },
  {
   "cell_type": "markdown",
   "metadata": {},
   "source": [
    "### Q31. Write the Python class to find a pair of elements (indices of the two numbers) from a given array whose sum equals the specific target number?\n",
    "\n",
    "     Input:numbers- [10,20,10,40,50,60,70], target=50\n",
    "     \n",
    "     Output- 3, 4"
   ]
  },
  {
   "cell_type": "code",
   "execution_count": 45,
   "metadata": {},
   "outputs": [
    {
     "name": "stdout",
     "output_type": "stream",
     "text": [
      "index1=2, index2=3\n"
     ]
    }
   ],
   "source": [
    "class py_solution:\n",
    "    def twoSum(self, nums, target):\n",
    "        lookup = {}\n",
    "        for i, num in enumerate(nums):\n",
    "            if target - num in lookup:\n",
    "                return (lookup[target - num], i )\n",
    "            lookup[num] = i\n",
    "print(\"index1=%d, index2=%d\" % py_solution().twoSum((10,20,10,40,50,60,70),50))"
   ]
  },
  {
   "cell_type": "markdown",
   "metadata": {},
   "source": [
    "### Q32. Write the Python class to find the three elements that sum to zero from the set of n real numbers?\n",
    "\n",
    "     Input array - [-25, -10, -7, -3, 2, 4, 8, 10]\n",
    "     \n",
    "     Output - [[-10, 2, 8], [-7, -3, 10]]"
   ]
  },
  {
   "cell_type": "code",
   "execution_count": 46,
   "metadata": {},
   "outputs": [
    {
     "name": "stdout",
     "output_type": "stream",
     "text": [
      "[[-10, 2, 8], [-7, -3, 10]]\n"
     ]
    }
   ],
   "source": [
    "class py_solution:\n",
    "    def threeSum(self, nums):\n",
    "        nums, result, i = sorted(nums), [], 0\n",
    "        while i < len(nums) - 2:\n",
    "            j, k = i + 1, len(nums) - 1\n",
    "            while j < k:\n",
    "                if nums[i] + nums[j] + nums[k] < 0:\n",
    "                    j += 1\n",
    "                elif nums[i] + nums[j] + nums[k] > 0:\n",
    "                    k -= 1\n",
    "                else:\n",
    "                    result.append([nums[i], nums[j], nums[k]])\n",
    "                    j, k = j + 1, k - 1\n",
    "                    while j < k and nums[j] == nums[j - 1]:\n",
    "                        j += 1\n",
    "                    while j < k and nums[k] == nums[k + 1]:\n",
    "                        k -= 1\n",
    "            i += 1\n",
    "            while i < len(nums) - 2 and nums[i] == nums[i - 1]:\n",
    "                i += 1\n",
    "        return result\n",
    "\n",
    "print(py_solution().threeSum([-25, -10, -7, -3, 2, 4, 8, 10]))"
   ]
  },
  {
   "cell_type": "markdown",
   "metadata": {},
   "source": [
    "### Q33. Write the Python class to implement pow(x, n)?\n",
    "\n"
   ]
  },
  {
   "cell_type": "code",
   "execution_count": 49,
   "metadata": {},
   "outputs": [
    {
     "name": "stdout",
     "output_type": "stream",
     "text": [
      "0.04\n",
      "7776\n",
      "1000\n"
     ]
    }
   ],
   "source": [
    "class py_solution:\n",
    "       def pow(self, x, n):\n",
    "        if x==0 or x==1 or n==1:\n",
    "            return x \n",
    "\n",
    "        if x==-1:\n",
    "            if n%2 ==0:\n",
    "                return 1\n",
    "            else:\n",
    "                return -1\n",
    "        if n==0:\n",
    "            return 1\n",
    "        if n<0:\n",
    "            return 1/self.pow(x,-n)\n",
    "        val = self.pow(x,n//2)\n",
    "        if n%2 ==0:\n",
    "            return val*val\n",
    "        return val*val*x\n",
    "\n",
    "print(py_solution().pow(5, -2));\n",
    "print(py_solution().pow(6, 5));\n",
    "print(py_solution().pow(1000, 1));"
   ]
  },
  {
   "cell_type": "markdown",
   "metadata": {},
   "source": [
    "### Q34. Write the Python class which has two methods get_String and print_String. get_String accept the string from the user and print_String print the string in upper case."
   ]
  },
  {
   "cell_type": "code",
   "execution_count": 50,
   "metadata": {},
   "outputs": [
    {
     "name": "stdout",
     "output_type": "stream",
     "text": [
      "Santosh kumar\n",
      "SANTOSH KUMAR\n"
     ]
    }
   ],
   "source": [
    "class IOString():\n",
    "    def __init__(self):\n",
    "        self.str1 = \"\"\n",
    "\n",
    "    def get_String(self):\n",
    "        self.str1 = input()\n",
    "\n",
    "    def print_String(self):\n",
    "        print(self.str1.upper())\n",
    "\n",
    "str1 = IOString()\n",
    "str1.get_String()\n",
    "str1.print_String()"
   ]
  },
  {
   "cell_type": "markdown",
   "metadata": {},
   "source": [
    "### Q35. Write the Python class named Rectangle constructed by a length and width and the method which will compute the area of the rectangle?"
   ]
  },
  {
   "cell_type": "code",
   "execution_count": 52,
   "metadata": {},
   "outputs": [
    {
     "name": "stdout",
     "output_type": "stream",
     "text": [
      "176\n"
     ]
    }
   ],
   "source": [
    "class Rectangle():\n",
    "    def __init__(self, l, w):\n",
    "        self.length = l\n",
    "        self.width  = w\n",
    "\n",
    "    def rectangle_area(self):\n",
    "        return self.length*self.width\n",
    "\n",
    "newRectangle = Rectangle(22, 8)\n",
    "print(newRectangle.rectangle_area())"
   ]
  },
  {
   "cell_type": "markdown",
   "metadata": {},
   "source": [
    "### Q36. Write the Python class named Circle constructed by the radius and two methods which will compute the area and perimeter of the circle?"
   ]
  },
  {
   "cell_type": "code",
   "execution_count": 54,
   "metadata": {},
   "outputs": [
    {
     "name": "stdout",
     "output_type": "stream",
     "text": [
      "379.94\n",
      "69.08\n"
     ]
    }
   ],
   "source": [
    "class Circle():\n",
    "    def __init__(self, r):\n",
    "        self.radius = r\n",
    "\n",
    "    def area(self):\n",
    "        return self.radius**2*3.14\n",
    "    \n",
    "    def perimeter(self):\n",
    "        return 2*self.radius*3.14\n",
    "\n",
    "NewCircle = Circle(11)\n",
    "print(NewCircle.area())\n",
    "print(NewCircle.perimeter())"
   ]
  },
  {
   "cell_type": "markdown",
   "metadata": {},
   "source": [
    "### Q37. Write the Python program to get the class name of an instance in Python?"
   ]
  },
  {
   "cell_type": "code",
   "execution_count": 56,
   "metadata": {},
   "outputs": [
    {
     "name": "stdout",
     "output_type": "stream",
     "text": [
      "cycle\n"
     ]
    }
   ],
   "source": [
    "import itertools\n",
    "x = itertools.cycle('SANTY')\n",
    "print(type(x).__name__)"
   ]
  },
  {
   "cell_type": "markdown",
   "metadata": {},
   "source": [
    "### Q38. Write the Python program to count the number of students of individual class?\n",
    "\n",
    "    Sample data-\n",
    "    \n",
    "    classes = (\n",
    "    \n",
    "    ('V', 1),\n",
    " \n",
    "    ('VI', 1),\n",
    "    \n",
    "    ('V', 2),\n",
    " \n",
    "    ('VI', 2),\n",
    " \n",
    "    ('VI', 3),\n",
    " \n",
    "    ('VII', 1),\n",
    "    \n",
    "    )\n",
    "\n",
    "\n",
    "     Expected Output-\n",
    "     \n",
    "     Counter({'VI': 3, 'V': 2, 'VII': 1})"
   ]
  },
  {
   "cell_type": "code",
   "execution_count": 57,
   "metadata": {},
   "outputs": [
    {
     "name": "stdout",
     "output_type": "stream",
     "text": [
      "Counter({'VI': 3, 'V': 2, 'VII': 1})\n"
     ]
    }
   ],
   "source": [
    "from collections import Counter\n",
    "classes = (\n",
    "    ('V', 1),\n",
    "    ('VI', 1),\n",
    "    ('V', 2),\n",
    "    ('VI', 2),\n",
    "    ('VI', 3),\n",
    "    ('VII', 1),\n",
    ")\n",
    "students = Counter(class_name for class_name, no_students in classes)\n",
    "print(students)"
   ]
  },
  {
   "cell_type": "markdown",
   "metadata": {},
   "source": [
    "### Q39. Write the Python program to create an instance of an OrderedDict using the given dictionary and sort dictionary during the creation and print members of the dictionary in reverse order?\n",
    "\n",
    "    Expected Output-\n",
    "    \n",
    "     Angola 244.\n",
    " \n",
    "     Andorra 376.\n",
    "     \n",
    "     Algeria 213.\n",
    " \n",
    "     Afghanistan 93.\n",
    " \n",
    "     Albania 355.\n",
    " \n",
    "     In reverse order-\n",
    " \n",
    "     Albania 355.\n",
    " \n",
    "     Afghanistan 93.\n",
    " \n",
    "     Algeria 213.\n",
    " \n",
    "     Andorra 376.\n",
    " \n",
    "     Angola 244."
   ]
  },
  {
   "cell_type": "code",
   "execution_count": 58,
   "metadata": {},
   "outputs": [
    {
     "name": "stdout",
     "output_type": "stream",
     "text": [
      "Afghanistan 93\n",
      "Albania 355\n",
      "Algeria 213\n",
      "Andorra 376\n",
      "Angola 244\n",
      "\n",
      "In reverse order:\n",
      "Angola 244\n",
      "Andorra 376\n",
      "Algeria 213\n",
      "Albania 355\n",
      "Afghanistan 93\n"
     ]
    }
   ],
   "source": [
    "from collections import OrderedDict\n",
    "dict = {'Afghanistan': 93, 'Albania': 355, 'Algeria': 213, 'Andorra': 376, 'Angola': 244}\n",
    "new_dict = OrderedDict(dict.items())\n",
    "for key in new_dict:\n",
    "    print (key, new_dict[key])\n",
    "\n",
    "print(\"\\nIn reverse order:\")\n",
    "for key in reversed(new_dict):\n",
    "    print (key, new_dict[key])"
   ]
  },
  {
   "cell_type": "markdown",
   "metadata": {},
   "source": [
    "### Q40. Write the Python program to compare two unordered lists (not sets)?\n",
    "\n",
    "    Expected Output: False"
   ]
  },
  {
   "cell_type": "code",
   "execution_count": 60,
   "metadata": {},
   "outputs": [
    {
     "name": "stdout",
     "output_type": "stream",
     "text": [
      "False\n"
     ]
    }
   ],
   "source": [
    "from collections import Counter\n",
    "def compare_lists(x, y):\n",
    "    return Counter(x) == Counter(y)\n",
    "n1 = [35, 54, 22, 8, 15,30]\n",
    "n2 = [25, 11, 88, 91, 93,34]\n",
    "print(compare_lists(n1, n2))"
   ]
  },
  {
   "cell_type": "markdown",
   "metadata": {},
   "source": [
    "### Q41. Write the Python program to get an array buffer information?\n",
    "\n",
    "    Expected Output-\n",
    "    \n",
    "    Array buffer start address in memory and numbers of elements.\n",
    "    \n",
    "    (25855056,2)"
   ]
  },
  {
   "cell_type": "code",
   "execution_count": null,
   "metadata": {},
   "outputs": [],
   "source": [
    "Ans: ## Have a daubt in array memory...."
   ]
  },
  {
   "cell_type": "markdown",
   "metadata": {},
   "source": [
    "### Q42. Write the Python program to convert an array to an array of machine values and return the bytes representation?\n",
    "\n",
    "     Expected Output-\n",
    " \n",
    "     Original array-\n",
    "     \n",
    "     A1: array('i', [1, 2, 3, 4, 5, 6])\n",
    "     \n",
    "     Array of bytes:\n",
    "     \n",
    "     b'0100000002000000030000000400000005000000060000000'"
   ]
  },
  {
   "cell_type": "code",
   "execution_count": 74,
   "metadata": {},
   "outputs": [
    {
     "name": "stdout",
     "output_type": "stream",
     "text": [
      "Bytes to String: \n",
      "b'\\x01\\x00\\x00\\x00\\x02\\x00\\x00\\x00\\x03\\x00\\x00\\x00\\x04\\x00\\x00\\x00\\x05\\x00\\x00\\x00\\x06\\x00\\x00\\x00'\n"
     ]
    }
   ],
   "source": [
    "from array import *\n",
    "print(\"Bytes to String: \")\n",
    "x = array('i', [1, 2, 3, 4, 5, 6])\n",
    "s = x.tobytes()\n",
    "print(s)"
   ]
  },
  {
   "cell_type": "markdown",
   "metadata": {},
   "source": [
    "### Q43. Write the Python program to read a string and interpreting the string as an array of machine values?\n",
    "\n",
    "     Expected Output-\n",
    "     \n",
    "     array1- array('i', [7, 8, 9, 10])\n",
    " \n",
    "     Bytes- b'0700000008000000090000000a000000'\n",
    " \n",
    "     array2- array('i', [7, 8, 9, 10])"
   ]
  },
  {
   "cell_type": "code",
   "execution_count": 75,
   "metadata": {},
   "outputs": [
    {
     "name": "stdout",
     "output_type": "stream",
     "text": [
      "array1: array('i', [7, 8, 9, 10])\n",
      "Bytes: b'0700000008000000090000000a000000'\n",
      "array2: array('i', [7, 8, 9, 10])\n"
     ]
    }
   ],
   "source": [
    "from array import array\n",
    "import binascii\n",
    "array1 = array('i', [7, 8, 9, 10])\n",
    "print('array1:', array1)\n",
    "as_bytes = array1.tobytes()\n",
    "print('Bytes:', binascii.hexlify(as_bytes))\n",
    "array2 = array('i')\n",
    "array2.frombytes(as_bytes)\n",
    "print('array2:', array2)"
   ]
  },
  {
   "cell_type": "markdown",
   "metadata": {},
   "source": [
    "### Q44. Write the Python program to push three items into the heap and return the smallest item from the heap. Also, return and pop the smallest item from the heap?\n",
    "\n",
    "    Expected Output-\n",
    "    \n",
    "    Items in the heap-\n",
    " \n",
    "    ('VI', 1).\n",
    " \n",
    "    ('VII', 3).\n",
    " \n",
    "    ('VIII', 2).\n",
    " ----------------------\n",
    " The smallest item in the heap:\n",
    "    \n",
    "    ('VI', 1).\n",
    " ----------------------\n",
    " Pop the smallest item in the heap:\n",
    " \n",
    "    ('VII', 2).\n",
    " \n",
    "    ('VIII', 3)."
   ]
  },
  {
   "cell_type": "code",
   "execution_count": 100,
   "metadata": {},
   "outputs": [
    {
     "name": "stdout",
     "output_type": "stream",
     "text": [
      "Items in the heap:\n",
      "('VI', 1)\n",
      "('VII', 3)\n",
      "('VIII', 2)\n",
      "----------------------\n",
      "The smallest item in the heap:\n",
      "(VI,1)\n",
      "----------------------\n",
      "Using heappushpop push item on the heap and return the smallest item.\n",
      "('VI', 1)\n",
      "('VII', 3)\n",
      "('VIII', 2)\n"
     ]
    }
   ],
   "source": [
    "import heapq\n",
    "heap = []\n",
    "heapq.heappush(heap, ('VI', 1))\n",
    "heapq.heappush(heap, ('VII', 3))\n",
    "heapq.heappush(heap, ('VIII',2))\n",
    "print(\"Items in the heap:\")\n",
    "for a in heap:\n",
    "    print(a)\n",
    "print(\"----------------------\")\n",
    "print(\"The smallest item in the heap:\")\n",
    "print(\"(VI,1)\")\n",
    "heapq.heappushpop(heap,('VI',1))\n",
    "print(\"----------------------\")\n",
    "print(\"Using heappushpop push item on the heap and return the smallest item.\")\n",
    "heapq.heappushpop(heap,('VI',1))\n",
    "for a in heap:\n",
    "    print(a)"
   ]
  },
  {
   "cell_type": "markdown",
   "metadata": {},
   "source": [
    "### Q45. Write the Python program to locate the left insertion point for a specified value in sorted order?\n",
    "\n",
    "    Expected Output:\n",
    "    \n",
    "    4 \n",
    "    \n",
    "    2"
   ]
  },
  {
   "cell_type": "code",
   "execution_count": 101,
   "metadata": {},
   "outputs": [
    {
     "name": "stdout",
     "output_type": "stream",
     "text": [
      "4\n",
      "2\n"
     ]
    }
   ],
   "source": [
    "import bisect\n",
    "def index(a, x):\n",
    "    i = bisect.bisect_left(a, x)\n",
    "    return i\n",
    "    \n",
    "a = [1,2,4,5]\n",
    "print(index(a, 6))\n",
    "print(index(a, 3))"
   ]
  },
  {
   "cell_type": "markdown",
   "metadata": {},
   "source": [
    "### Q46. Write the Python program to create the FIFO queue?\n",
    "\n",
    "     Expected Output:\n",
    "     \n",
    "     0 1 2 3"
   ]
  },
  {
   "cell_type": "code",
   "execution_count": 103,
   "metadata": {},
   "outputs": [
    {
     "name": "stdout",
     "output_type": "stream",
     "text": [
      "0 1 2 3 \n",
      "\n"
     ]
    }
   ],
   "source": [
    "import queue\n",
    "q = queue.Queue()\n",
    "for x in range(4):\n",
    "    q.put(str(x))\n",
    "while not q.empty():\n",
    "    print(q.get(), end=\" \")\n",
    "print(\"\\n\")"
   ]
  },
  {
   "cell_type": "markdown",
   "metadata": {},
   "source": [
    "### Q47. Write the Python program to calculate the harmonic sum of n-1. Note: The harmonic sum is the sum of reciprocals of the positive Integers?\n",
    "\n",
    "    Example -\n",
    "    \n",
    "     1+1/2+1/3+1/4+1/5+........"
   ]
  },
  {
   "cell_type": "code",
   "execution_count": 104,
   "metadata": {},
   "outputs": [
    {
     "name": "stdout",
     "output_type": "stream",
     "text": [
      "2.5928571428571425\n",
      "2.083333333333333\n"
     ]
    }
   ],
   "source": [
    "def harmonic_sum(n):\n",
    "  if n < 2:\n",
    "    return 1\n",
    "  else:\n",
    "    return 1 / n + (harmonic_sum(n - 1))\n",
    "    \n",
    "print(harmonic_sum(7))\n",
    "print(harmonic_sum(4))"
   ]
  },
  {
   "cell_type": "markdown",
   "metadata": {},
   "source": [
    "### Q48. Write the NumPy program to create a 2d array with 6 on the border and 0 inside?\n",
    "\n",
    "    Expected Output-\n",
    "     \n",
    "    Original array-\n",
    "    \n",
    "    [[66666]\n",
    "    \n",
    "    [66666]\n",
    "    \n",
    "    [66666]\n",
    "    \n",
    "    [66666]\n",
    "    \n",
    "    [6666].\n",
    "    \n",
    "    6 on the border and 0 inside in the array-\n",
    "    \n",
    "     [[66666]\n",
    "     \n",
    "     [60006]\n",
    "     \n",
    "     [60006]\n",
    "     \n",
    "     [60006]\n",
    " "
   ]
  },
  {
   "cell_type": "code",
   "execution_count": null,
   "metadata": {},
   "outputs": [],
   "source": [
    "Ans:-"
   ]
  },
  {
   "cell_type": "markdown",
   "metadata": {},
   "source": [
    "### Q49. Write the NumPy program to create a 8x8 matrix and fill it with the checkerboard pattern?\n",
    "        \n",
    "        \n",
    "    Checkerboard pattern-\n",
    "    \n",
    "    [[39393939]\n",
    "    \n",
    "    [93939393]\n",
    "    \n",
    "    [39393939]\n",
    "    \n",
    "    [93939393]\n",
    "    \n",
    "    [39393939]\n",
    "    \n",
    "    [93939393]\n",
    "    \n",
    "    [39393939]\n",
    "    \n",
    "    [93939393]]."
   ]
  },
  {
   "cell_type": "code",
   "execution_count": null,
   "metadata": {},
   "outputs": [],
   "source": [
    "Ans: \n",
    "    \n",
    "    "
   ]
  },
  {
   "cell_type": "markdown",
   "metadata": {},
   "source": [
    "### Q50. Write the NumPy program to create an empty and a full array.\n",
    "\n",
    "    Expected Output-\n",
    "    \n",
    "    [[4.45057637e-308 1.78021527e-306 8.45549797e-307 1.37962049e-306]\n",
    "    \n",
    "    [1.11260619e-306 1.78010255e-306 9.79054228e-307 4.45057637e-308]\n",
    "    \n",
    "    [8.45596650e-307 9.34602321e-307 4.94065646e-322 0.00000000e+000]]\n",
    "    \n",
    "                        [6 6 6]\n",
    "                        \n",
    "                        [6 6 6]\n",
    "                        \n",
    "                        [6 6 6]\n",
    "                        "
   ]
  },
  {
   "cell_type": "code",
   "execution_count": 139,
   "metadata": {},
   "outputs": [
    {
     "name": "stdout",
     "output_type": "stream",
     "text": [
      "[[ 0.00000000e+000  0.00000000e+000  0.00000000e+000  0.00000000e+000]\n",
      " [ 0.00000000e+000  0.00000000e+000  0.00000000e+000  0.00000000e+000]\n",
      " [ 0.00000000e+000  1.79247131e+160  3.10503618e+231 -2.32036405e+077]]\n",
      "[[6 6 6]\n",
      " [6 6 6]\n",
      " [6 6 6]]\n"
     ]
    }
   ],
   "source": [
    "import numpy as np\n",
    "\n",
    "x = np.empty((3,4))\n",
    "\n",
    "print(x)\n",
    "\n",
    "y = np.full((3,3),6)\n",
    "\n",
    "print(y)"
   ]
  },
  {
   "cell_type": "markdown",
   "metadata": {},
   "source": [
    "### Q51. Write the NumPy program to convert the values of Centigrade degrees into the Fahrenheit degrees and the centigrade values are stored in the NumPy array.\n",
    "\n",
    "     Sample Array -[0, 12, 45.21 ,34, 99.91]\n",
    " \n",
    "     Expected Output-\n",
    " \n",
    "     Values in Fahrenheit degrees-\n",
    "     \n",
    "     [ 0. 12. 45.21 34. 99.91]\n",
    "     \n",
    "     Values in Centigrade degrees-\n",
    " \n",
    "      [-17.77777778 -11.11111111 7.33888889 1.11111111 37.72777778]"
   ]
  },
  {
   "cell_type": "code",
   "execution_count": 140,
   "metadata": {},
   "outputs": [
    {
     "name": "stdout",
     "output_type": "stream",
     "text": [
      "Values in Fahrenheit degrees:\n",
      "[ 0.   12.   45.21 34.   99.91]\n",
      "Values in  Centigrade degrees:\n",
      "[-17.77777778 -11.11111111   7.33888889   1.11111111  37.72777778]\n"
     ]
    }
   ],
   "source": [
    "import numpy as np\n",
    "fvalues = [0, 12, 45.21, 34, 99.91]\n",
    "F = np.array(fvalues)\n",
    "print(\"Values in Fahrenheit degrees:\")\n",
    "print(F)\n",
    "print(\"Values in  Centigrade degrees:\") \n",
    "print(5*F/9 - 5*32/9)\n"
   ]
  },
  {
   "cell_type": "markdown",
   "metadata": {},
   "source": [
    "### Q52. Write the NumPy program to find the real and imaginary parts of an array of complex numbers?\n",
    "\n",
    "     Expected Output-\n",
    "     \n",
    "     Original array [ 1.00000000+0.j 0.70710678+0.70710678j]\n",
    "     \n",
    "     Real part of the array-\n",
    "     \n",
    "     [ 1. 0.70710678]\n",
    "     \n",
    "     Imaginary part of the array-\n",
    "     \n",
    "     [ 0. 0.70710678]"
   ]
  },
  {
   "cell_type": "code",
   "execution_count": 141,
   "metadata": {},
   "outputs": [
    {
     "name": "stdout",
     "output_type": "stream",
     "text": [
      "Original array:x  [1.+0.j]\n",
      "Original array:y  [0.70710678+0.70710678j]\n",
      "Real part of the array:\n",
      "[1.]\n",
      "[0.70710678]\n",
      "Imaginary part of the array:\n",
      "[0.]\n",
      "[0.70710678]\n"
     ]
    }
   ],
   "source": [
    "import numpy as np\n",
    "x = np.sqrt([1+0j])\n",
    "y = np.sqrt([0+1j])\n",
    "print(\"Original array:x \",x)\n",
    "print(\"Original array:y \",y)\n",
    "print(\"Real part of the array:\")\n",
    "print(x.real)\n",
    "print(y.real)\n",
    "print(\"Imaginary part of the array:\")\n",
    "print(x.imag)\n",
    "print(y.imag)"
   ]
  },
  {
   "cell_type": "markdown",
   "metadata": {},
   "source": [
    "### Q53. Write the NumPy program to test whether each element of a 1-D array is also present in the second array?\n",
    "\n",
    "     Expected Output-\n",
    "     \n",
    "     Array1:[010204060]\n",
    "     \n",
    "     Array2: [0, 40]\n",
    "     \n",
    "     Compare each element of array1 and array2\n",
    "     \n",
    "     [ True False False True False]"
   ]
  },
  {
   "cell_type": "code",
   "execution_count": 142,
   "metadata": {},
   "outputs": [
    {
     "name": "stdout",
     "output_type": "stream",
     "text": [
      "Array1:  [ 0 10 20 40 60]\n",
      "Array2:  [0, 40]\n",
      "Compare each element of array1 and array2\n",
      "[ True False False  True False]\n"
     ]
    }
   ],
   "source": [
    "import numpy as np\n",
    "array1 = np.array([0, 10, 20, 40, 60])\n",
    "print(\"Array1: \",array1)\n",
    "array2 = [0, 40]\n",
    "print(\"Array2: \",array2)\n",
    "print(\"Compare each element of array1 and array2\")\n",
    "print(np.in1d(array1, array2))"
   ]
  },
  {
   "cell_type": "markdown",
   "metadata": {},
   "source": [
    "### Q54. Write the NumPy program to find common values between two arrays?\n",
    "\n",
    "        Expected Output-\n",
    "        \n",
    "        Array1:[010204060]\n",
    "        \n",
    "        Array2: [10, 30, 40]\n",
    "        \n",
    "        Common values between two arrays-\n",
    "        \n",
    "        [10 40]"
   ]
  },
  {
   "cell_type": "code",
   "execution_count": 143,
   "metadata": {},
   "outputs": [
    {
     "name": "stdout",
     "output_type": "stream",
     "text": [
      "Array1:  [ 0 10 20 40 60]\n",
      "Array2:  [10, 30, 40]\n",
      "Common values between two arrays:\n",
      "[10 40]\n"
     ]
    }
   ],
   "source": [
    "import numpy as np\n",
    "array1 = np.array([0, 10, 20, 40, 60])\n",
    "print(\"Array1: \",array1)\n",
    "array2 = [10, 30, 40]\n",
    "print(\"Array2: \",array2)\n",
    "print(\"Common values between two arrays:\")\n",
    "print(np.intersect1d(array1, array2))"
   ]
  },
  {
   "cell_type": "markdown",
   "metadata": {},
   "source": [
    "### Q55. Write the NumPy program to get the unique elements of an array?\n",
    "\n",
    "    Expected Output-\n",
    "    \n",
    "    Original array-\n",
    "    \n",
    "    [101020203030]\n",
    "    \n",
    "    Unique elements of the above array-\n",
    "    \n",
    "    [10 20 30]\n",
    "    \n",
    "    Original array-\n",
    "    \n",
    "    [[1 1] \n",
    "    \n",
    "    [2 3]]\n",
    "    \n",
    "    Unique elements of the above array:\n",
    "    \n",
    "    [1 2 3]"
   ]
  },
  {
   "cell_type": "code",
   "execution_count": 144,
   "metadata": {},
   "outputs": [
    {
     "name": "stdout",
     "output_type": "stream",
     "text": [
      "Original array:\n",
      "[10 10 20 20 30 30]\n",
      "Unique elements of the above array:\n",
      "[10 20 30]\n",
      "Original array:\n",
      "[[1 1]\n",
      " [2 3]]\n",
      "Unique elements of the above array:\n",
      "[1 2 3]\n"
     ]
    }
   ],
   "source": [
    "import numpy as np\n",
    "x = np.array([10, 10, 20, 20, 30, 30])\n",
    "print(\"Original array:\")\n",
    "print(x)\n",
    "print(\"Unique elements of the above array:\")\n",
    "print(np.unique(x))\n",
    "x = np.array([[1, 1], [2, 3]])\n",
    "print(\"Original array:\")\n",
    "print(x)\n",
    "print(\"Unique elements of the above array:\")\n",
    "print(np.unique(x))"
   ]
  },
  {
   "cell_type": "markdown",
   "metadata": {},
   "source": [
    "### Q56. Write the NumPy program to find the set exclusive-or of two arrays. Set exclusive-or will return the sorted, unique values that are in only one (not both) of the input arrays?\n",
    "\n",
    "     Array1-[01020406080]\n",
    "     \n",
    "     Array2- [10, 30, 40, 50, 70]\n",
    "     \n",
    "     Unique values that are in only one (not both) of the input arrays-\n",
    "     \n",
    "     [0203050607080]"
   ]
  },
  {
   "cell_type": "code",
   "execution_count": 145,
   "metadata": {},
   "outputs": [
    {
     "name": "stdout",
     "output_type": "stream",
     "text": [
      "Array1:  [ 0 10 20 40 60 80]\n",
      "Array2:  [10, 30, 40, 50, 70]\n",
      "Unique values that are in only one (not both) of the input arrays:\n",
      "[ 0 20 30 50 60 70 80]\n"
     ]
    }
   ],
   "source": [
    "import numpy as np\n",
    "array1 = np.array([0, 10, 20, 40, 60, 80])\n",
    "print(\"Array1: \",array1)\n",
    "array2 = [10, 30, 40, 50, 70]\n",
    "print(\"Array2: \",array2)\n",
    "print(\"Unique values that are in only one (not both) of the input arrays:\")\n",
    "print(np.setxor1d(array1, array2))"
   ]
  },
  {
   "cell_type": "markdown",
   "metadata": {},
   "source": [
    "### Q57. Write the NumPy program to test if all elements in an array evaluate to True ?\n",
    "\n",
    "    Note: 0 evaluates to False in NumPy."
   ]
  },
  {
   "cell_type": "code",
   "execution_count": 146,
   "metadata": {},
   "outputs": [
    {
     "name": "stdout",
     "output_type": "stream",
     "text": [
      "False\n",
      "True\n",
      "False\n",
      "True\n"
     ]
    }
   ],
   "source": [
    "import numpy as np\n",
    "print(np.all([[True,False],[True,True]]))\n",
    "print(np.all([[True,True],[True,True]]))\n",
    "print(np.all([10, 20, 0, -50]))\n",
    "print(np.all([10, 20, -50]))"
   ]
  },
  {
   "cell_type": "markdown",
   "metadata": {},
   "source": [
    "### Q58 Write the NumPy program to test whether any array element along the given axis evaluates to True?\n",
    "\n",
    "    Note: 0 evaluates to False in NumPy."
   ]
  },
  {
   "cell_type": "code",
   "execution_count": 148,
   "metadata": {},
   "outputs": [
    {
     "name": "stdout",
     "output_type": "stream",
     "text": [
      "False\n",
      "True\n",
      "True\n",
      "True\n"
     ]
    }
   ],
   "source": [
    "import numpy as np\n",
    "print(np.any([[False,False],[False,False]]))\n",
    "print(np.any([[True,True],[True,True]]))\n",
    "print(np.any([38, 24, 0, -50]))\n",
    "print(np.any([10, 20, -50]))"
   ]
  },
  {
   "cell_type": "markdown",
   "metadata": {},
   "source": [
    "### Q59. Write the NumPy program to construct an array by repeating?\n",
    "\n",
    "    Sample array- [1, 2, 3, 4] \n",
    "    \n",
    "    Expected Output- \n",
    "    \n",
    "    Original array [1,2,3,4]\n",
    "    \n",
    "    Repeating 2 times [12341234]\n",
    "    \n",
    "    Repeating 3 times\n",
    "    \n",
    "    [123412341234]"
   ]
  },
  {
   "cell_type": "code",
   "execution_count": 150,
   "metadata": {},
   "outputs": [
    {
     "name": "stdout",
     "output_type": "stream",
     "text": [
      "Original array\n",
      "[1, 2, 3, 4]\n",
      "Repeating 2 times\n",
      "[1 2 3 4 1 2 3 4]\n",
      "Repeating 3 times\n",
      "[1 2 3 4 1 2 3 4 1 2 3 4]\n"
     ]
    }
   ],
   "source": [
    "import numpy as np\n",
    "a = [1, 2, 3, 4]\n",
    "print(\"Original array\")\n",
    "print(a)\n",
    "print(\"Repeating 2 times\")\n",
    "x = np.tile(a, 2)\n",
    "print(x)\n",
    "print(\"Repeating 3 times\")\n",
    "x = np.tile(a, 3)\n",
    "print(x)\n"
   ]
  },
  {
   "cell_type": "markdown",
   "metadata": {},
   "source": [
    "### Q60. Write the NumPy program to find the indices of the maximum and minimum values with the given axis of an array?\n",
    "\n",
    "    Original array- [1 2 3 4 5 6]\n",
    "    \n",
    "    Maximum Values- 5\n",
    "   \n",
    "    Minimum Values- 0"
   ]
  },
  {
   "cell_type": "code",
   "execution_count": 151,
   "metadata": {},
   "outputs": [
    {
     "name": "stdout",
     "output_type": "stream",
     "text": [
      "Original array:  [1 2 3 4 5 6]\n",
      "Maximum Values:  5\n",
      "Minimum Values:  0\n"
     ]
    }
   ],
   "source": [
    "import numpy as np\n",
    "x = np.array([1, 2, 3, 4, 5, 6])\n",
    "print(\"Original array: \",x)\n",
    "print(\"Maximum Values: \",np.argmax(x))\n",
    "print(\"Minimum Values: \",np.argmin(x))"
   ]
  },
  {
   "cell_type": "markdown",
   "metadata": {},
   "source": [
    "### Q61. Write the NumPy program compare two arrays using numpy?\n",
    "\n",
    "    Array a- [1 2]\n",
    "    \n",
    "    Array b- [4 5]\n",
    "    \n",
    "    a>b\n",
    "    \n",
    "    [False False]\n",
    "\n",
    "    a >= b\n",
    "\n",
    "    [False False]\n",
    "    \n",
    "    a<b\n",
    "    \n",
    "    [ True True]\n",
    "    \n",
    "    a <= b\n",
    "    \n",
    "    [ True True]"
   ]
  },
  {
   "cell_type": "code",
   "execution_count": 152,
   "metadata": {},
   "outputs": [
    {
     "name": "stdout",
     "output_type": "stream",
     "text": [
      "Array a:  [1 2]\n",
      "Array b:  [4 5]\n",
      "a > b\n",
      "[False False]\n",
      "a >= b\n",
      "[False False]\n",
      "a < b\n",
      "[ True  True]\n",
      "a <= b\n",
      "[ True  True]\n"
     ]
    }
   ],
   "source": [
    "import numpy as np\n",
    "a = np.array([1, 2])\n",
    "b = np.array([4, 5])\n",
    "print(\"Array a: \",a)\n",
    "print(\"Array b: \",b)\n",
    "print(\"a > b\")\n",
    "print(np.greater(a, b))\n",
    "print(\"a >= b\")\n",
    "print(np.greater_equal(a, b))\n",
    "print(\"a < b\")\n",
    "print(np.less(a, b))\n",
    "print(\"a <= b\")\n",
    "print(np.less_equal(a, b))"
   ]
  },
  {
   "cell_type": "markdown",
   "metadata": {},
   "source": [
    "### Q62. Write the NumPy program to sort an along the first, last axis of an array?\n",
    "\n",
    "     Sample array -[[2,5],[4,4]]\n",
    "     \n",
    "     Expected Output-\n",
    "     \n",
    "     Original array:\n",
    "     \n",
    "     [[4 6]\n",
    "\n",
    "     [2 1]]\n",
    "     \n",
    "     Sort along the first axis:\n",
    "     \n",
    "     [[2 1]\n",
    "     \n",
    "     [4 6]]\n",
    "     \n",
    "     Sort along the last axis-\n",
    "     \n",
    "     [[1 2] \n",
    "     \n",
    "     [4 6]]"
   ]
  },
  {
   "cell_type": "code",
   "execution_count": 153,
   "metadata": {},
   "outputs": [
    {
     "name": "stdout",
     "output_type": "stream",
     "text": [
      "Original array: \n",
      "[[4 6]\n",
      " [2 1]]\n",
      "Sort along the first axis: \n",
      "[[2 1]\n",
      " [4 6]]\n",
      "Sort along the last axis: \n",
      "[[1 2]\n",
      " [4 6]]\n"
     ]
    }
   ],
   "source": [
    "import numpy as np\n",
    "a = np.array([[4, 6],[2, 1]])\n",
    "print(\"Original array: \")\n",
    "print(a)\n",
    "print(\"Sort along the first axis: \")\n",
    "x = np.sort(a, axis=0)\n",
    "print(x)\n",
    "print(\"Sort along the last axis: \")\n",
    "y = np.sort(x, axis=1)\n",
    "print(y)"
   ]
  },
  {
   "cell_type": "markdown",
   "metadata": {},
   "source": [
    "### Q63. Write the NumPy program to sort pairs of first name and last name return their indices (first by last name, then by first name).\n",
    "\n",
    "     first_names - ( Betsey, Shelley, Lanell, Genesis, Margery )\n",
    "     \n",
    "     last_names - ( Battle, Brien, Plotner, Stahl, Woolum )\n",
    "     \n",
    "     Expected Output-\n",
    "     \n",
    "     [1 3 2 4 0]\n",
    " "
   ]
  },
  {
   "cell_type": "code",
   "execution_count": 154,
   "metadata": {},
   "outputs": [
    {
     "name": "stdout",
     "output_type": "stream",
     "text": [
      "[1 3 2 4 0]\n"
     ]
    }
   ],
   "source": [
    "import numpy as np\n",
    "first_names =    ('Margery', 'Betsey', 'Shelley', 'Lanell', 'Genesis')\n",
    "last_names = ('Woolum', 'Battle', 'Plotner', 'Brien', 'Stahl')\n",
    "x = np.lexsort((first_names, last_names))\n",
    "print(x)\n"
   ]
  },
  {
   "cell_type": "markdown",
   "metadata": {},
   "source": [
    "### Q64. Write the NumPy program to get the values and indices of the elements that are bigger than 10 in the given array?\n",
    "\n",
    "\n",
    "    Original array-\n",
    "    \n",
    "    [[01020]\n",
    "    \n",
    "    [20 30 40]]\n",
    "    \n",
    "    Values bigger than 10 = [20 20 30 40]\n",
    " \n",
    "    Their indices are (array([0, 1, 1, 1]), array([2, 0, 1, 2])"
   ]
  },
  {
   "cell_type": "code",
   "execution_count": 155,
   "metadata": {},
   "outputs": [
    {
     "name": "stdout",
     "output_type": "stream",
     "text": [
      "Original array: \n",
      "[[ 0 10 20]\n",
      " [20 30 40]]\n",
      "Values bigger than 10 = [20 20 30 40]\n",
      "Their indices are  (array([0, 1, 1, 1]), array([2, 0, 1, 2]))\n"
     ]
    }
   ],
   "source": [
    "import numpy as np\n",
    "x = np.array([[0, 10, 20], [20, 30, 40]])\n",
    "print(\"Original array: \")\n",
    "print(x)\n",
    "print(\"Values bigger than 10 =\", x[x>10])\n",
    "print(\"Their indices are \", np.nonzero(x > 10))"
   ]
  },
  {
   "cell_type": "markdown",
   "metadata": {},
   "source": [
    "### Q65. Write the NumPy program to find the memory size of a NumPy array?\n",
    "\n",
    "     Expected Output-\n",
    "     \n",
    "      128 bytes"
   ]
  },
  {
   "cell_type": "code",
   "execution_count": 156,
   "metadata": {},
   "outputs": [
    {
     "name": "stdout",
     "output_type": "stream",
     "text": [
      "128 bytes\n"
     ]
    }
   ],
   "source": [
    "import numpy as np\n",
    "n = np.zeros((4,4))\n",
    "print(\"%d bytes\" % (n.size * n.itemsize))"
   ]
  },
  {
   "cell_type": "markdown",
   "metadata": {},
   "source": [
    "### Q66. Write the NumPy program to create an array of ones and an array of zeros?\n",
    "\n",
    "     Expected Output-\n",
    "     \n",
    "     Create an array of zeros\n",
    "     \n",
    "     Default type is float\n",
    "     \n",
    "     [[ 0. 0.]]\n",
    "     \n",
    "     Type changes to int\n",
    "    \n",
    "     [[0 0]]\n",
    "     \n",
    "      Create an array of ones\n",
    "      \n",
    "      Default type is float \n",
    "      \n",
    "      [[ 1. 1.]]\n",
    "      \n",
    "      Type changes to int\n",
    "      \n",
    "      [[1 1]]\n",
    " "
   ]
  },
  {
   "cell_type": "code",
   "execution_count": 157,
   "metadata": {},
   "outputs": [
    {
     "name": "stdout",
     "output_type": "stream",
     "text": [
      "Create an array of zeros\n",
      "Default type is float\n",
      "[[0. 0.]]\n",
      "Type changes to int\n",
      "[[0 0]]\n",
      "Create an array of ones\n",
      "Default type is float\n",
      "[[1. 1.]]\n",
      "Type changes to int\n",
      "[[1 1]]\n"
     ]
    }
   ],
   "source": [
    "import numpy as np\n",
    "print(\"Create an array of zeros\")\n",
    "x = np.zeros((1,2))\n",
    "print(\"Default type is float\")\n",
    "print(x)\n",
    "print(\"Type changes to int\")\n",
    "x = np.zeros((1,2), dtype = np.int)\n",
    "print(x)\n",
    "print(\"Create an array of ones\")\n",
    "y= np.ones((1,2)) \n",
    "print(\"Default type is float\")\n",
    "print(y)\n",
    "print(\"Type changes to int\")\n",
    "y = np.ones((1,2), dtype = np.int)\n",
    "print(y)"
   ]
  },
  {
   "cell_type": "markdown",
   "metadata": {},
   "source": [
    "### Q67. Write the NumPy program to change the dimension of an array?\n",
    "\n",
    "    Expected Output-\n",
    "    \n",
    "    6 rows and 0 columns\n",
    "    \n",
    "    (6,)\n",
    "    \n",
    "    (3, 3) -> 3 rows and 3 columns\n",
    " \n",
    "    [[123]\n",
    " \n",
    "    [456]\n",
    " \n",
    "    [789]]\n",
    " \n",
    "    Change array shape to (3, 3) -> 3 rows and 3 columns\n",
    " \n",
    "    [[123]\n",
    " \n",
    "    [456]\n",
    " \n",
    "    [789]]"
   ]
  },
  {
   "cell_type": "code",
   "execution_count": 158,
   "metadata": {},
   "outputs": [
    {
     "name": "stdout",
     "output_type": "stream",
     "text": [
      "6 rows and 0 columns\n",
      "(6,)\n",
      "(3, 3) -> 3 rows and 3 columns \n",
      "[[1 2 3]\n",
      " [4 5 6]\n",
      " [7 8 9]]\n",
      "Change array shape to (3, 3) -> 3 rows and 3 columns \n",
      "[[1 2 3]\n",
      " [4 5 6]\n",
      " [7 8 9]]\n"
     ]
    }
   ],
   "source": [
    "import numpy as np\n",
    "x = np.array([1, 2, 3, 4, 5, 6])\n",
    "print(\"6 rows and 0 columns\")\n",
    "print(x.shape)\n",
    "\n",
    "y = np.array([[1, 2, 3],[4, 5, 6],[7,8,9]])\n",
    "print(\"(3, 3) -> 3 rows and 3 columns \")\n",
    "print(y)\n",
    "\n",
    "x = np.array([1,2,3,4,5,6,7,8,9])\n",
    "print(\"Change array shape to (3, 3) -> 3 rows and 3 columns \")\n",
    "x.shape = (3, 3)\n",
    "print(x)\n"
   ]
  },
  {
   "cell_type": "markdown",
   "metadata": {},
   "source": [
    "### Q68. Write the NumPy program to create a new shape to an array without changing its data ?\n",
    "\n",
    "    Reshape 3x2-\n",
    "    \n",
    "    [[1 2] \n",
    "    \n",
    "    [3 4] \n",
    "    \n",
    "    [5 6]]\n",
    "    \n",
    "    Reshape 2x3-\n",
    "    \n",
    "     [[123]\n",
    "     \n",
    "     [456]]"
   ]
  },
  {
   "cell_type": "code",
   "execution_count": 159,
   "metadata": {},
   "outputs": [
    {
     "name": "stdout",
     "output_type": "stream",
     "text": [
      "Reshape 3x2:\n",
      "[[1 2]\n",
      " [3 4]\n",
      " [5 6]]\n",
      "Reshape 2x3:\n",
      "[[1 2 3]\n",
      " [4 5 6]]\n"
     ]
    }
   ],
   "source": [
    "import numpy as np\n",
    "x = np.array([1, 2, 3, 4, 5, 6])\n",
    "y = np.reshape(x,(3,2))\n",
    "print(\"Reshape 3x2:\")\n",
    "print(y)\n",
    "z = np.reshape(x,(2,3))\n",
    "print(\"Reshape 2x3:\")\n",
    "print(z)\n"
   ]
  },
  {
   "cell_type": "markdown",
   "metadata": {},
   "source": [
    "### Q69. Write the NumPy program to create a new array of 3*5, filled with 2?\n",
    "\n",
    "    Expected Output-\n",
    "     \n",
    "     [[22222]\n",
    "     \n",
    "     [22222]\n",
    "     \n",
    "     [22222]]\n",
    "     \n",
    "     [[22222]\n",
    "     \n",
    "     [22222]\n",
    "     \n",
    "     [22222]]"
   ]
  },
  {
   "cell_type": "code",
   "execution_count": 160,
   "metadata": {},
   "outputs": [
    {
     "name": "stdout",
     "output_type": "stream",
     "text": [
      "[[2 2 2 2 2]\n",
      " [2 2 2 2 2]\n",
      " [2 2 2 2 2]]\n",
      "[[2 2 2 2 2]\n",
      " [2 2 2 2 2]\n",
      " [2 2 2 2 2]]\n"
     ]
    }
   ],
   "source": [
    "import numpy as np\n",
    "#using no.full\n",
    "x = np.full((3, 5), 2, dtype=np.uint)\n",
    "print(x)\n",
    "#using no.ones\n",
    "y = np.ones([3, 5], dtype=np.uint) *2\n",
    "print(y)"
   ]
  },
  {
   "cell_type": "markdown",
   "metadata": {},
   "source": [
    "### Q70. Write the NumPy program to create a 3-D array with ones on a diagonal and zeros elsewhere?\n",
    "\n",
    "\n",
    "     Expected Output-\n",
    "     \n",
    "     [[1.0.0.]\n",
    "     \n",
    "     [0.1.0.]\n",
    " \n",
    "     [0.0.1.]]"
   ]
  },
  {
   "cell_type": "code",
   "execution_count": 161,
   "metadata": {},
   "outputs": [
    {
     "name": "stdout",
     "output_type": "stream",
     "text": [
      "[[1. 0. 0.]\n",
      " [0. 1. 0.]\n",
      " [0. 0. 1.]]\n"
     ]
    }
   ],
   "source": [
    "import numpy as np\n",
    "x = np.eye(3)\n",
    "print(x)"
   ]
  },
  {
   "cell_type": "markdown",
   "metadata": {},
   "source": [
    "### Q71. Write the NumPy program to split an array of 14 elements into the 3 arrays and each of which has 2, 4, and 8 elements in original order?\n",
    "\n",
    "     Expected Output-\n",
    "     \n",
    "     Originalarray-[1234567891011121314]\n",
    "     \n",
    "     After splitting-\n",
    "     \n",
    "         [array([1, 2]), array([3, 4, 5,6]), array([ 7, 8, 9, 10, 11, 12, 13, 14])]"
   ]
  },
  {
   "cell_type": "code",
   "execution_count": 162,
   "metadata": {},
   "outputs": [
    {
     "name": "stdout",
     "output_type": "stream",
     "text": [
      "Original array: [ 1  2  3  4  5  6  7  8  9 10 11 12 13 14]\n",
      "After splitting:\n",
      "[array([1, 2]), array([3, 4, 5, 6]), array([ 7,  8,  9, 10, 11, 12, 13, 14])]\n"
     ]
    }
   ],
   "source": [
    "import numpy as np\n",
    "x = np.arange(1, 15)\n",
    "print(\"Original array:\",x)\n",
    "print(\"After splitting:\")\n",
    "print(np.split(x, [2, 6]))"
   ]
  },
  {
   "cell_type": "markdown",
   "metadata": {},
   "source": [
    "### Q72. Write the NumPy program to split of an array of shape 4x4 it into two arrays along the second axis ?\n",
    "\n",
    "    Sample array -\n",
    "     \n",
    "     [[0123]\n",
    "     \n",
    "     [4567]\n",
    "     \n",
    "     [891011]\n",
    "     \n",
    "     [12 13 14 15]]\n",
    " \n",
    "     Expected Output-\n",
    "     \n",
    "     [array([[ 0, 1],\n",
    "     \n",
    "     [4,5],\n",
    "     \n",
    "     [8,9],\n",
    "     \n",
    "     [12, 13]]), array([[ 2, 3],\n",
    "     \n",
    "     [6,7],\n",
    "     \n",
    "     [10, 11],\n",
    " \n",
    "      [ 14, 15]]),array([], shape=(4, 0), dtype=int64)]"
   ]
  },
  {
   "cell_type": "code",
   "execution_count": 163,
   "metadata": {},
   "outputs": [
    {
     "name": "stdout",
     "output_type": "stream",
     "text": [
      "Original array: [[ 0  1  2  3]\n",
      " [ 4  5  6  7]\n",
      " [ 8  9 10 11]\n",
      " [12 13 14 15]]\n",
      "After splitting horizontally:\n",
      "[array([[ 0,  1],\n",
      "       [ 4,  5],\n",
      "       [ 8,  9],\n",
      "       [12, 13]]), array([[ 2,  3],\n",
      "       [ 6,  7],\n",
      "       [10, 11],\n",
      "       [14, 15]]), array([], shape=(4, 0), dtype=int64)]\n"
     ]
    }
   ],
   "source": [
    "import numpy as np\n",
    "x = np.arange(16).reshape((4, 4))\n",
    "print(\"Original array:\",x)\n",
    "print(\"After splitting horizontally:\")\n",
    "print(np.hsplit(x, [2, 6]))"
   ]
  },
  {
   "cell_type": "markdown",
   "metadata": {},
   "source": [
    "### Q73. Write the NumPy program to create a 5x5 matrix with row values ranging from 0 to 4?\n",
    "\n",
    "    Original array-\n",
    " \n",
    " [[0.0.0.0.0.]\n",
    " \n",
    " [0.0.0.0.0.]\n",
    " \n",
    " [0.0.0.0.0.]\n",
    " \n",
    " [0.0.0.0.0.]\n",
    " \n",
    " [0.0.0.0.0.]]\n",
    " \n",
    "     Row values ranging from 0 to 4.\n",
    " \n",
    " [[0.1.2.3.4.]\n",
    " \n",
    " [0.1.2.3.4.]\n",
    " \n",
    " [0.1.2.3.4.]\n",
    " \n",
    " [0.1.2.3.4.]\n",
    " \n",
    " [0.1.2.3.4.]]"
   ]
  },
  {
   "cell_type": "code",
   "execution_count": 164,
   "metadata": {},
   "outputs": [
    {
     "name": "stdout",
     "output_type": "stream",
     "text": [
      "Original array:\n",
      "[[0. 0. 0. 0. 0.]\n",
      " [0. 0. 0. 0. 0.]\n",
      " [0. 0. 0. 0. 0.]\n",
      " [0. 0. 0. 0. 0.]\n",
      " [0. 0. 0. 0. 0.]]\n",
      "Row values ranging from 0 to 4.\n",
      "[[0. 1. 2. 3. 4.]\n",
      " [0. 1. 2. 3. 4.]\n",
      " [0. 1. 2. 3. 4.]\n",
      " [0. 1. 2. 3. 4.]\n",
      " [0. 1. 2. 3. 4.]]\n"
     ]
    }
   ],
   "source": [
    "import numpy as np\n",
    "x = np.zeros((5,5))\n",
    "print(\"Original array:\")\n",
    "print(x)\n",
    "print(\"Row values ranging from 0 to 4.\")\n",
    "x += np.arange(5)\n",
    "print(x)"
   ]
  },
  {
   "cell_type": "markdown",
   "metadata": {},
   "source": [
    "#### Q74. Write the NumPy program to create an array of zeros and three column types (integer, float, character)?\n",
    " \n",
    "     Expected Output-\n",
    " \n",
    " [(1, 2., b'Albert Einstein') (2, 2., b'Edmond Halley')\n",
    " \n",
    " (3, 3., b'Gertrude B. Elion')]"
   ]
  },
  {
   "cell_type": "code",
   "execution_count": 165,
   "metadata": {},
   "outputs": [
    {
     "name": "stdout",
     "output_type": "stream",
     "text": [
      "[(1, 2., b'Albert Einstein') (2, 2., b'Edmond Halley')\n",
      " (3, 3., b'Gertrude B. Elion')]\n"
     ]
    }
   ],
   "source": [
    "import numpy as np\n",
    "x = np.zeros((3,), dtype=('i4,f4,a40'))\n",
    "new_data = [(1, 2., \"Albert Einstein\"), (2, 2., \"Edmond Halley\"), (3, 3., \"Gertrude B. Elion\")]\n",
    "x[:] = new_data\n",
    "print(x)\n"
   ]
  },
  {
   "cell_type": "markdown",
   "metadata": {},
   "source": [
    "### Q75. Write the NumPy program to remove the negative values in the numpy array with 0?\n",
    "\n",
    "    Expected Output-\n",
    " \n",
    " Original array:\n",
    " \n",
    " [-1-402345-6]\n",
    " \n",
    " Replace the negative values of the said array with 0-\n",
    " \n",
    " [00023450]\n",
    " "
   ]
  },
  {
   "cell_type": "code",
   "execution_count": 166,
   "metadata": {},
   "outputs": [
    {
     "name": "stdout",
     "output_type": "stream",
     "text": [
      "Original array:\n",
      "[-1 -4  0  2  3  4  5 -6]\n",
      "Replace the negative values of the said array with 0:\n",
      "[0 0 0 2 3 4 5 0]\n"
     ]
    }
   ],
   "source": [
    "    import numpy as np\n",
    "x = np.array([-1, -4, 0, 2, 3, 4, 5, -6])\n",
    "print(\"Original array:\")\n",
    "print(x)\n",
    "print(\"Replace the negative values of the said array with 0:\")\n",
    "x[x < 0] = 0\n",
    "print(x)\n"
   ]
  },
  {
   "cell_type": "markdown",
   "metadata": {},
   "source": [
    "### Q76. Write the NumPy program to compute the histogram of a set of data?"
   ]
  },
  {
   "cell_type": "code",
   "execution_count": null,
   "metadata": {},
   "outputs": [],
   "source": [
    "import numpy as np\n",
    "import pandas as pd\n",
    "import seaborn as sns\n",
    "import matplotlib.pyplot as plt\n",
    "%matplotlib inline"
   ]
  },
  {
   "cell_type": "code",
   "execution_count": 171,
   "metadata": {},
   "outputs": [
    {
     "data": {
      "text/html": [
       "<div>\n",
       "<style scoped>\n",
       "    .dataframe tbody tr th:only-of-type {\n",
       "        vertical-align: middle;\n",
       "    }\n",
       "\n",
       "    .dataframe tbody tr th {\n",
       "        vertical-align: top;\n",
       "    }\n",
       "\n",
       "    .dataframe thead th {\n",
       "        text-align: right;\n",
       "    }\n",
       "</style>\n",
       "<table border=\"1\" class=\"dataframe\">\n",
       "  <thead>\n",
       "    <tr style=\"text-align: right;\">\n",
       "      <th></th>\n",
       "      <th>sepal_length</th>\n",
       "      <th>sepal_width</th>\n",
       "      <th>petal_length</th>\n",
       "      <th>petal_width</th>\n",
       "      <th>species</th>\n",
       "    </tr>\n",
       "  </thead>\n",
       "  <tbody>\n",
       "    <tr>\n",
       "      <th>0</th>\n",
       "      <td>5.1</td>\n",
       "      <td>3.5</td>\n",
       "      <td>1.4</td>\n",
       "      <td>0.2</td>\n",
       "      <td>setosa</td>\n",
       "    </tr>\n",
       "    <tr>\n",
       "      <th>1</th>\n",
       "      <td>4.9</td>\n",
       "      <td>3.0</td>\n",
       "      <td>1.4</td>\n",
       "      <td>0.2</td>\n",
       "      <td>setosa</td>\n",
       "    </tr>\n",
       "    <tr>\n",
       "      <th>2</th>\n",
       "      <td>4.7</td>\n",
       "      <td>3.2</td>\n",
       "      <td>1.3</td>\n",
       "      <td>0.2</td>\n",
       "      <td>setosa</td>\n",
       "    </tr>\n",
       "    <tr>\n",
       "      <th>3</th>\n",
       "      <td>4.6</td>\n",
       "      <td>3.1</td>\n",
       "      <td>1.5</td>\n",
       "      <td>0.2</td>\n",
       "      <td>setosa</td>\n",
       "    </tr>\n",
       "    <tr>\n",
       "      <th>4</th>\n",
       "      <td>5.0</td>\n",
       "      <td>3.6</td>\n",
       "      <td>1.4</td>\n",
       "      <td>0.2</td>\n",
       "      <td>setosa</td>\n",
       "    </tr>\n",
       "    <tr>\n",
       "      <th>5</th>\n",
       "      <td>5.4</td>\n",
       "      <td>3.9</td>\n",
       "      <td>1.7</td>\n",
       "      <td>0.4</td>\n",
       "      <td>setosa</td>\n",
       "    </tr>\n",
       "    <tr>\n",
       "      <th>6</th>\n",
       "      <td>4.6</td>\n",
       "      <td>3.4</td>\n",
       "      <td>1.4</td>\n",
       "      <td>0.3</td>\n",
       "      <td>setosa</td>\n",
       "    </tr>\n",
       "    <tr>\n",
       "      <th>7</th>\n",
       "      <td>5.0</td>\n",
       "      <td>3.4</td>\n",
       "      <td>1.5</td>\n",
       "      <td>0.2</td>\n",
       "      <td>setosa</td>\n",
       "    </tr>\n",
       "    <tr>\n",
       "      <th>8</th>\n",
       "      <td>4.4</td>\n",
       "      <td>2.9</td>\n",
       "      <td>1.4</td>\n",
       "      <td>0.2</td>\n",
       "      <td>setosa</td>\n",
       "    </tr>\n",
       "    <tr>\n",
       "      <th>9</th>\n",
       "      <td>4.9</td>\n",
       "      <td>3.1</td>\n",
       "      <td>1.5</td>\n",
       "      <td>0.1</td>\n",
       "      <td>setosa</td>\n",
       "    </tr>\n",
       "  </tbody>\n",
       "</table>\n",
       "</div>"
      ],
      "text/plain": [
       "   sepal_length  sepal_width  petal_length  petal_width species\n",
       "0           5.1          3.5           1.4          0.2  setosa\n",
       "1           4.9          3.0           1.4          0.2  setosa\n",
       "2           4.7          3.2           1.3          0.2  setosa\n",
       "3           4.6          3.1           1.5          0.2  setosa\n",
       "4           5.0          3.6           1.4          0.2  setosa\n",
       "5           5.4          3.9           1.7          0.4  setosa\n",
       "6           4.6          3.4           1.4          0.3  setosa\n",
       "7           5.0          3.4           1.5          0.2  setosa\n",
       "8           4.4          2.9           1.4          0.2  setosa\n",
       "9           4.9          3.1           1.5          0.1  setosa"
      ]
     },
     "execution_count": 171,
     "metadata": {},
     "output_type": "execute_result"
    }
   ],
   "source": [
    "import seaborn as sns\n",
    "iris = sns.load_dataset('iris')\n",
    "iris.head(10)"
   ]
  },
  {
   "cell_type": "code",
   "execution_count": 172,
   "metadata": {},
   "outputs": [
    {
     "data": {
      "text/plain": [
       "<matplotlib.axes._subplots.AxesSubplot at 0x1a189369b0>"
      ]
     },
     "execution_count": 172,
     "metadata": {},
     "output_type": "execute_result"
    },
    {
     "data": {
      "image/png": "[encoded data removed]",
      "text/plain": [
       "<Figure size 432x288 with 1 Axes>"
      ]
     },
     "metadata": {
      "needs_background": "light"
     },
     "output_type": "display_data"
    }
   ],
   "source": [
    "iris.plot.hist()"
   ]
  },
  {
   "cell_type": "markdown",
   "metadata": {},
   "source": [
    "### Q77. Write the NumPy program to compute the line graph of a set of data?"
   ]
  },
  {
   "cell_type": "code",
   "execution_count": 181,
   "metadata": {},
   "outputs": [
    {
     "name": "stderr",
     "output_type": "stream",
     "text": [
      "/Users/santy/anaconda3/lib/python3.7/site-packages/matplotlib/figure.py:445: UserWarning: Matplotlib is currently using module://ipykernel.pylab.backend_inline, which is a non-GUI backend, so cannot show the figure.\n",
      "  % get_backend())\n"
     ]
    },
    {
     "data": {
      "image/png": "[encoded data removed]",
      "text/plain": [
       "<Figure size 432x288 with 1 Axes>"
      ]
     },
     "metadata": {
      "needs_background": "light"
     },
     "output_type": "display_data"
    }
   ],
   "source": [
    "import numpy as np    \n",
    "import matplotlib.pyplot as plt\n",
    "arr = np.random.randint(1, 50, 10)\n",
    "y, x = np.histogram(arr, bins=np.arange(51))\n",
    "fig, ax = plt.subplots()\n",
    "ax.plot(x[:-1], y)\n",
    "fig.show()"
   ]
  },
  {
   "cell_type": "code",
   "execution_count": null,
   "metadata": {},
   "outputs": [],
   "source": []
  },
  {
   "cell_type": "markdown",
   "metadata": {},
   "source": [
    "### Q78. Write the NumPy program to extracts all the elements from second row from given (4x4) array?\n",
    "\n",
    "\n",
    "     Sample Output-\n",
    "   Original array-\n",
    " \n",
    " [[0123]\n",
    " \n",
    " [4567]\n",
    " \n",
    " [891011]\n",
    " \n",
    " [12 13 14 15]]\n",
    " \n",
    "     Extracted data- Second row\n",
    " [4567]"
   ]
  },
  {
   "cell_type": "code",
   "execution_count": 175,
   "metadata": {},
   "outputs": [
    {
     "name": "stdout",
     "output_type": "stream",
     "text": [
      "Original array:\n",
      "[[ 0  1  2  3]\n",
      " [ 4  5  6  7]\n",
      " [ 8  9 10 11]\n",
      " [12 13 14 15]]\n",
      "\n",
      "Extracted data: Second row\n",
      "[4 5 6 7]\n"
     ]
    }
   ],
   "source": [
    "import numpy as np\n",
    "arra_data = np.arange(0,16).reshape((4, 4))\n",
    "print(\"Original array:\")\n",
    "print(arra_data)\n",
    "print(\"\\nExtracted data: Second row\")\n",
    "print(arra_data[1,:])"
   ]
  },
  {
   "cell_type": "markdown",
   "metadata": {},
   "source": [
    "### Q79. Write the NumPy program to extract first element of the second row and fourth element of fourth row from a given (4x4) array?\n",
    "\n",
    "     Sample Output-\n",
    " Original array-\n",
    " \n",
    " [[0123]\n",
    " \n",
    " [4567]\n",
    " \n",
    " [891011]\n",
    " \n",
    " [12 13 14 15]]\n",
    " \n",
    "     Extracted data- First element of the second row and fourth element of fourth row\n",
    " \n",
    " [415]"
   ]
  },
  {
   "cell_type": "code",
   "execution_count": 176,
   "metadata": {},
   "outputs": [
    {
     "name": "stdout",
     "output_type": "stream",
     "text": [
      "Original array:\n",
      "[[ 0  1  2  3]\n",
      " [ 4  5  6  7]\n",
      " [ 8  9 10 11]\n",
      " [12 13 14 15]]\n",
      "\n",
      "Extracted data: First element of the second row and fourth element of fourth row  \n",
      "[ 4 15]\n"
     ]
    }
   ],
   "source": [
    "import numpy as np\n",
    "arra_data = np.arange(0,16).reshape((4, 4))\n",
    "print(\"Original array:\")\n",
    "print(arra_data)\n",
    "print(\"\\nExtracted data: First element of the second row and fourth element of fourth row  \")\n",
    "print(arra_data[[1,3], [0,3]])"
   ]
  },
  {
   "cell_type": "markdown",
   "metadata": {},
   "source": [
    "### Q80. Write the NumPy program to add two arrays A and B of sizes (3,3) and (,3)?\n",
    " \n",
    "     Sample Output-\n",
    "     \n",
    "     Original array-\n",
    " Array-1\n",
    " \n",
    " [[111]\n",
    " \n",
    " [111]\n",
    " \n",
    " [111]]\n",
    " \n",
    " Array-2\n",
    " \n",
    " [012]\n",
    " \n",
    " A+B:\n",
    " \n",
    " [[123]\n",
    " \n",
    " \n",
    " [123]\n",
    "\n",
    " [123]]"
   ]
  },
  {
   "cell_type": "code",
   "execution_count": 177,
   "metadata": {},
   "outputs": [
    {
     "name": "stdout",
     "output_type": "stream",
     "text": [
      "Original array:\n",
      "Array-1\n",
      "[[1. 1. 1.]\n",
      " [1. 1. 1.]\n",
      " [1. 1. 1.]]\n",
      "Array-2\n",
      "[0 1 2]\n",
      "A + B:\n",
      "[[1. 2. 3.]\n",
      " [1. 2. 3.]\n",
      " [1. 2. 3.]]\n"
     ]
    }
   ],
   "source": [
    "import numpy as np\n",
    "A = np.ones((3,3))\n",
    "B = np.arange(3)\n",
    "print(\"Original array:\")\n",
    "print(\"Array-1\")\n",
    "print(A)\n",
    "print(\"Array-2\")\n",
    "print(B)\n",
    "print(\"A + B:\")\n",
    "new_array = A + B\n",
    "print(new_array)"
   ]
  },
  {
   "cell_type": "markdown",
   "metadata": {},
   "source": [
    "### Q81. Write the NumPy program to copy data from a given array to another array?\n",
    "\n",
    "    Sample Output-\n",
    "    \n",
    "    Original array-\n",
    " \n",
    " [242730291814]\n",
    " \n",
    " Copy of the said array-\n",
    " \n",
    " [242730291814]"
   ]
  },
  {
   "cell_type": "code",
   "execution_count": 178,
   "metadata": {},
   "outputs": [
    {
     "name": "stdout",
     "output_type": "stream",
     "text": [
      "Original array:\n",
      "[24 27 30 29 18 14]\n",
      "\n",
      "Copy of the said array:\n",
      "[24 27 30 29 18 14]\n"
     ]
    }
   ],
   "source": [
    "import numpy as np\n",
    "x = np.array([24, 27, 30, 29, 18, 14])\n",
    "print(\"Original array:\")\n",
    "print(x)\n",
    "y = np.empty_like (x)\n",
    "y[:] = x\n",
    "print(\"\\nCopy of the said array:\")\n",
    "print(y)"
   ]
  },
  {
   "cell_type": "markdown",
   "metadata": {},
   "source": [
    "### Q82. Write the NumPy program to calculate the sum of all columns of the 2D numpy array?\n",
    "\n",
    "    Sample Output-\n",
    "    \n",
    "    Original array-\n",
    " \n",
    " [[012345678]\n",
    " \n",
    " [91011121314151617]\n",
    " \n",
    " [181920212223242526]\n",
    " \n",
    " [272829303132333435]]\n",
    " \n",
    " Sum of all columns-\n",
    " \n",
    " [54 58 62 66 70 74 78 82   28]"
   ]
  },
  {
   "cell_type": "code",
   "execution_count": 179,
   "metadata": {},
   "outputs": [
    {
     "name": "stdout",
     "output_type": "stream",
     "text": [
      "Original array:\n",
      "[[ 0  1  2  3  4  5  6  7  8]\n",
      " [ 9 10 11 12 13 14 15 16 17]\n",
      " [18 19 20 21 22 23 24 25 26]\n",
      " [27 28 29 30 31 32 33 34 35]]\n",
      "\n",
      "Sum of all columns:\n",
      "[54 58 62 66 70 74 78 82 86]\n"
     ]
    }
   ],
   "source": [
    "import numpy as np\n",
    "num = np.arange(36)\n",
    "arr1 = np.reshape(num, [4, 9])\n",
    "print(\"Original array:\")\n",
    "print(arr1)\n",
    "result  = arr1.sum(axis=0)\n",
    "print(\"\\nSum of all columns:\")\n",
    "print(result)"
   ]
  },
  {
   "cell_type": "markdown",
   "metadata": {},
   "source": [
    "### Q83. Write the NumPy program to calculate averages without NaNs along the given array?\n",
    "\n",
    "     Sample Output-\n",
    "     Original array-\n",
    " \n",
    " [[10. 20. 30.]\n",
    " \n",
    " [40. 50. nan]\n",
    " \n",
    " [nan 6. nan]\n",
    " \n",
    " [nan nan nan]]\n",
    " \n",
    " Average without NaNs along said array-\n",
    " \n",
    " [20. 45. 6. nan]\n",
    " "
   ]
  },
  {
   "cell_type": "code",
   "execution_count": 180,
   "metadata": {},
   "outputs": [
    {
     "name": "stdout",
     "output_type": "stream",
     "text": [
      "Original array:\n",
      "[[10. 20. 30.]\n",
      " [40. 50. nan]\n",
      " [nan  6. nan]\n",
      " [nan nan nan]]\n",
      "Averages without NaNs along the said array:\n",
      "[20. 45.  6. nan]\n"
     ]
    }
   ],
   "source": [
    "import numpy as np\n",
    "arr1 = np.array([[10, 20 ,30], [40, 50, np.nan], [np.nan, 6, np.nan], [np.nan, np.nan, np.nan]])\n",
    "print(\"Original array:\")\n",
    "print(arr1)\n",
    "temp = np.ma.masked_array(arr1,np.isnan(arr1))\n",
    "result = np.mean(temp, axis=1)\n",
    "print(\"Averages without NaNs along the said array:\")\n",
    "print(result.filled(np.nan))\n"
   ]
  },
  {
   "cell_type": "markdown",
   "metadata": {},
   "source": [
    "### Q84. Create two arrays of six elements. Write the NumPy program to count the number of instances of a value occurring in one array on the condition of another array.\n",
    "\n",
    "    Sample Output-\n",
    "    \n",
    "    Original arrays-\n",
    " \n",
    " [10-1010-10-1010]\n",
    " \n",
    " [0.85 0.45 0.9 0.8 0.12 0.6 ]\n",
    " \n",
    " Number of instances of a value occurring in one array on the condition of another\n",
    " array: 3"
   ]
  },
  {
   "cell_type": "code",
   "execution_count": 182,
   "metadata": {},
   "outputs": [
    {
     "name": "stdout",
     "output_type": "stream",
     "text": [
      "Original arrays:\n",
      "[ 10 -10  10 -10 -10  10]\n",
      "[0.85 0.45 0.9  0.8  0.12 0.6 ]\n",
      "\n",
      "Number of instances of a value occurring in one aray on the condition of another array:\n",
      "3\n"
     ]
    }
   ],
   "source": [
    "import numpy as np\n",
    "x = np.array([10,-10,10,-10,-10,10])\n",
    "y = np.array([.85,.45,.9,.8,.12,.6])\n",
    "print(\"Original arrays:\")\n",
    "print(x)\n",
    "print(y)\n",
    "result = np.sum((x == 10) & (y > .5))\n",
    "print(\"\\nNumber of instances of a value occurring in one aray on the condition of another array:\")\n",
    "print(result)"
   ]
  },
  {
   "cell_type": "markdown",
   "metadata": {},
   "source": [
    "### Q85. Write the NumPy program to convert a Python dictionary to a Numpy ndarray ?\n",
    "\n",
    "    Original dictionary-\n",
    "\n",
    "{'column0': {'a': 1, 'b': 0.0, 'c': 0.0, 'd': 2.0},\n",
    "\n",
    "'column1': {'a': 3.0, 'b': 1, 'c': 0.0, 'd': -1.0},\n",
    "\n",
    "'column2': {'a': 4, 'b': 1, 'c': 5.0, 'd': -1.0},\n",
    "\n",
    "'column3': {'a': 3.0, 'b': -1.0, 'c': -1.0, 'd': -1.0}}\n",
    "\n",
    "Type: <class 'dict'>\n",
    "\n",
    "ndarray-\n",
    "\n",
    "[[1.0.0.2.]\n",
    "\n",
    "[3.1.0.-1.]\n",
    "\n",
    "[4.1.5.-1.]\n",
    "\n",
    "[ 3. -1. -1. -1.]]\n",
    "\n",
    "Type: <class 'numpy.ndarray'>"
   ]
  },
  {
   "cell_type": "code",
   "execution_count": 183,
   "metadata": {},
   "outputs": [
    {
     "name": "stdout",
     "output_type": "stream",
     "text": [
      "\n",
      "Original dictionary:\n",
      "{'column0': {'a': 1, 'b': 0.0, 'c': 0.0, 'd': 2.0}, 'column1': {'a': 3.0, 'b': 1, 'c': 0.0, 'd': -1.0}, 'column2': {'a': 4, 'b': 1, 'c': 5.0, 'd': -1.0}, 'column3': {'a': 3.0, 'b': -1.0, 'c': -1.0, 'd': -1.0}}\n",
      "Type:  <class 'dict'>\n",
      "\n",
      "ndarray:\n",
      "[[ 1.  0.  0.  2.]\n",
      " [ 3.  1.  0. -1.]\n",
      " [ 4.  1.  5. -1.]\n",
      " [ 3. -1. -1. -1.]]\n",
      "Type:  <class 'numpy.ndarray'>\n"
     ]
    }
   ],
   "source": [
    "import numpy as np\n",
    "from ast import literal_eval\n",
    "udict = \"\"\"{\"column0\":{\"a\":1,\"b\":0.0,\"c\":0.0,\"d\":2.0},\n",
    "   \"column1\":{\"a\":3.0,\"b\":1,\"c\":0.0,\"d\":-1.0},\n",
    "   \"column2\":{\"a\":4,\"b\":1,\"c\":5.0,\"d\":-1.0},\n",
    "   \"column3\":{\"a\":3.0,\"b\":-1.0,\"c\":-1.0,\"d\":-1.0}\n",
    "  }\"\"\"\n",
    "t = literal_eval(udict)\n",
    "print(\"\\nOriginal dictionary:\")\n",
    "print(t)\n",
    "print(\"Type: \",type(t))\n",
    "result_nparra = np.array([[v[j] for j in ['a', 'b', 'c', 'd']] for k, v in t.items()])\n",
    "print(\"\\nndarray:\")\n",
    "print(result_nparra)\n",
    "print(\"Type: \",type(result_nparra))"
   ]
  },
  {
   "cell_type": "markdown",
   "metadata": {},
   "source": [
    "### Q86. Write the Numpy program to find and store the non-zero unique rows in an array after comparing each row with other row in the given matrix?\n",
    "\n",
    "    Original array-\n",
    " \n",
    " [[110]\n",
    " \n",
    " [000]\n",
    " \n",
    " [023]\n",
    " \n",
    " [000]\n",
    " \n",
    " [0-11]\n",
    " \n",
    " [000]]\n",
    " \n",
    " Non-zero unique rows-\n",
    " \n",
    " [[110]\n",
    " \n",
    " [023]\n",
    " \n",
    " [0-11]]"
   ]
  },
  {
   "cell_type": "code",
   "execution_count": 184,
   "metadata": {},
   "outputs": [
    {
     "name": "stdout",
     "output_type": "stream",
     "text": [
      "Original array:\n",
      "[[ 1  1  0]\n",
      " [ 0  0  0]\n",
      " [ 0  2  3]\n",
      " [ 0  0  0]\n",
      " [ 0 -1  1]\n",
      " [ 0  0  0]]\n",
      "\n",
      "Non-zero unique rows:\n",
      "[[ 1  1  0]\n",
      " [ 0  2  3]\n",
      " [ 0 -1  1]]\n"
     ]
    }
   ],
   "source": [
    "import numpy as np\n",
    "arra = np.array([[ 1,  1,  0],\n",
    "                 [ 0,  0,  0],\n",
    "                 [ 0,  2,  3],\n",
    "                 [ 0,  0,  0],\n",
    "                 [ 0, -1,  1],\n",
    "                 [ 0,  0,  0]])\n",
    "\n",
    "print(\"Original array:\")\n",
    "print(arra)\n",
    "temp = {(0, 0, 0)}\n",
    "result = []\n",
    "for idx, row in enumerate(map(tuple, arra)):\n",
    "    if row not in temp:\n",
    "        result.append(idx)\n",
    "print(\"\\nNon-zero unique rows:\")\n",
    "print(arra[result])\n"
   ]
  },
  {
   "cell_type": "markdown",
   "metadata": {},
   "source": [
    "### Q87. Write the NumPy program to multiply the matrix by another matrix of complex numbers and create a new matrix of complex numbers?\n",
    "\n",
    "      Sample Output- \n",
    "      \n",
    "      First array-\n",
    " \n",
    " [ 1.+2.j 3.+4.j]\n",
    " \n",
    " Second array-\n",
    " \n",
    " [ 5.+6.j 7.+8.j]\n",
    " \n",
    " Product of above two arrays-\n",
    " \n",
    " (70-8j)"
   ]
  },
  {
   "cell_type": "code",
   "execution_count": 185,
   "metadata": {},
   "outputs": [
    {
     "name": "stdout",
     "output_type": "stream",
     "text": [
      "First array:\n",
      "[1.+2.j 3.+4.j]\n",
      "Second array:\n",
      "[5.+6.j 7.+8.j]\n",
      "Product of above two arrays:\n",
      "(70-8j)\n"
     ]
    }
   ],
   "source": [
    "import numpy as np\n",
    "x = np.array([1+2j,3+4j])\n",
    "print(\"First array:\")\n",
    "print(x)\n",
    "y = np.array([5+6j,7+8j])\n",
    "print(\"Second array:\")\n",
    "print(y)\n",
    "z = np.vdot(x, y)\n",
    "print(\"Product of above two arrays:\")\n",
    "print(z)\n"
   ]
  },
  {
   "cell_type": "markdown",
   "metadata": {},
   "source": [
    "### Q88. Write a NumPy program to generate the matrix product of two Arrays?\n",
    "\n",
    "     Sample Output-\n",
    " \n",
    " Matrices and vectors.\n",
    " \n",
    " x-\n",
    " \n",
    " [[1, 0], [1, 1]]\n",
    " \n",
    " y-\n",
    " \n",
    "  [[3, 1], [2, 2]]\n",
    " \n",
    " \n",
    "  matrix product of above two arrays-\n",
    "  \n",
    "  [[3 1] \n",
    "  \n",
    "  [5 3]]"
   ]
  },
  {
   "cell_type": "code",
   "execution_count": 186,
   "metadata": {},
   "outputs": [
    {
     "name": "stdout",
     "output_type": "stream",
     "text": [
      "Matrices and vectors.\n",
      "x:\n",
      "[[1, 0], [1, 1]]\n",
      "y:\n",
      "[[3, 1], [2, 2]]\n",
      "Matrix product of above two arrays:\n",
      "[[3 1]\n",
      " [5 3]]\n"
     ]
    }
   ],
   "source": [
    "import numpy as np\n",
    "x = [[1, 0], [1, 1]]\n",
    "y = [[3, 1], [2, 2]]\n",
    "print(\"Matrices and vectors.\")\n",
    "print(\"x:\")\n",
    "print(x)\n",
    "print(\"y:\")\n",
    "print(y)\n",
    "print(\"Matrix product of above two arrays:\")\n",
    "print(np.matmul(x, y))\n"
   ]
  },
  {
   "cell_type": "markdown",
   "metadata": {},
   "source": [
    "### Q89. Write the NumPy program to find roots of the following Polynomials?\n",
    "\n",
    "     a)(x2 -4x+7)\n",
    "     \n",
    "     b)x4-11x3+9x2 +11x?10\n",
    "     \n",
    " Sample output-\n",
    " \n",
    " Roots of the first polynomial-\n",
    "       \n",
    "       [1.1.]\n",
    "       \n",
    " Roots of the second polynomial-\n",
    " \n",
    " [ 11.04461946+0.j -0.87114210+0.j 0.91326132+0.4531004j\n",
    " \n",
    " 0.91326132-0.4531004j ]"
   ]
  },
  {
   "cell_type": "code",
   "execution_count": 187,
   "metadata": {},
   "outputs": [
    {
     "name": "stdout",
     "output_type": "stream",
     "text": [
      "Roots of the first polynomial:\n",
      "[1. 1.]\n",
      "Roots of the second polynomial:\n",
      "[11.04461946+0.j        -0.8711421 +0.j         0.91326132+0.4531004j\n",
      "  0.91326132-0.4531004j]\n"
     ]
    }
   ],
   "source": [
    "import numpy as np\n",
    "print(\"Roots of the first polynomial:\")\n",
    "print(np.roots([1, -2, 1]))\n",
    "print(\"Roots of the second polynomial:\")\n",
    "print(np.roots([1, -12, 10, 7, -10]))\n"
   ]
  },
  {
   "cell_type": "markdown",
   "metadata": {},
   "source": [
    "### Q90. Write the NumPy program to calculate inverse of sine, cosine, and inverse tangent for all elements in a given array?\n",
    "\n",
    "\n",
    "    Sample output-\n",
    " \n",
    " Inverse sine- [-1.57079633 0. 1.57079633]\n",
    " \n",
    " Inverse cosine- [3.14159265 1.57079633 0. ]\n",
    " \n",
    " Inverse tangent- [-0.78539816 0. 0.78539816]"
   ]
  },
  {
   "cell_type": "code",
   "execution_count": 188,
   "metadata": {},
   "outputs": [
    {
     "name": "stdout",
     "output_type": "stream",
     "text": [
      "Inverse sine: [-1.57079633  0.          1.57079633]\n",
      "Inverse cosine: [3.14159265 1.57079633 0.        ]\n",
      "Inverse tangent: [-0.78539816  0.          0.78539816]\n"
     ]
    }
   ],
   "source": [
    "import numpy as np\n",
    "x = np.array([-1., 0, 1.])\n",
    "print(\"Inverse sine:\", np.arcsin(x))\n",
    "print(\"Inverse cosine:\", np.arccos(x))\n",
    "print(\"Inverse tangent:\", np.arctan(x))\n"
   ]
  },
  {
   "cell_type": "markdown",
   "metadata": {},
   "source": [
    "### Q91. Write the NumPy program to calculate the difference between in neighbouring elements, element-wise of a given array?\n",
    "\n",
    "    Sample output-\n",
    "    \n",
    "    Original array-\n",
    " \n",
    "    [13570]\n",
    " \n",
    " Difference between neighbouring elements, element-wise of the said array-\n",
    " \n",
    " [2 2 2-7]\n",
    " "
   ]
  },
  {
   "cell_type": "code",
   "execution_count": 189,
   "metadata": {},
   "outputs": [
    {
     "name": "stdout",
     "output_type": "stream",
     "text": [
      "Original array: \n",
      "[1 3 5 7 0]\n",
      "Difference between neighboring elements, element-wise of the said array.\n",
      "[ 2  2  2 -7]\n"
     ]
    }
   ],
   "source": [
    "import numpy as np\n",
    "x = np.array([1, 3, 5, 7, 0])\n",
    "print(\"Original array: \")\n",
    "print(x)\n",
    "print(\"Difference between neighboring elements, element-wise of the said array.\")\n",
    "print(np.diff(x))\n"
   ]
  },
  {
   "cell_type": "markdown",
   "metadata": {},
   "source": [
    "### Q92. Write the Python program to find the maximum and the minimum value of a given flattened array?\n",
    "\n",
    "     Expected Output\n",
    "     \n",
    "     Original flattened array-\n",
    "     \n",
    "     [[0 1]\n",
    "\n",
    "     [2 3]]\n",
    "     \n",
    "     Maximum value of the above flattened array-\n",
    "     \n",
    "     3\n",
    "     \n",
    "     Minimum value of the above flattened array-\n",
    "     \n",
    "     0"
   ]
  },
  {
   "cell_type": "code",
   "execution_count": 190,
   "metadata": {},
   "outputs": [
    {
     "name": "stdout",
     "output_type": "stream",
     "text": [
      "Original flattened array:\n",
      "[[0 1]\n",
      " [2 3]]\n",
      "Maximum value of the above flattened array:\n",
      "3\n",
      "Minimum value of the above flattened array:\n",
      "0\n"
     ]
    }
   ],
   "source": [
    "import numpy as np\n",
    "a = np.arange(4).reshape((2,2))\n",
    "print(\"Original flattened array:\")\n",
    "print(a)\n",
    "print(\"Maximum value of the above flattened array:\")\n",
    "print(np.amax(a))\n",
    "print(\"Minimum value of the above flattened array:\")\n",
    "print(np.amin(a))\n"
   ]
  },
  {
   "cell_type": "markdown",
   "metadata": {},
   "source": [
    "### Q93. Write the NumPy program to calculate the difference between in the maximum and the minimum values of a given array along the second axis ?\n",
    "\n",
    "     Expected Output-\n",
    "     \n",
    "     Original array-\n",
    "     \n",
    "     [[012345]\n",
    "     \n",
    "     [67891011]]\n",
    "     \n",
    "     Difference between the maximum and the minimum values of the said array-\n",
    "     \n",
    "     [5 5]"
   ]
  },
  {
   "cell_type": "code",
   "execution_count": 191,
   "metadata": {},
   "outputs": [
    {
     "name": "stdout",
     "output_type": "stream",
     "text": [
      "\n",
      "Original array:\n",
      "[[ 0  1  2  3  4  5]\n",
      " [ 6  7  8  9 10 11]]\n",
      "\n",
      "Difference between the maximum and the minimum values of the said array:\n",
      "[5 5]\n"
     ]
    }
   ],
   "source": [
    "import numpy as np\n",
    "x = np.arange(12).reshape((2, 6))\n",
    "print(\"\\nOriginal array:\")\n",
    "print(x)\n",
    "r1 = np.ptp(x, 1)\n",
    "r2 = np.amax(x, 1) - np.amin(x, 1)\n",
    "assert np.allclose(r1, r2)\n",
    "print(\"\\nDifference between the maximum and the minimum values of the said array:\")\n",
    "print(r1)\n"
   ]
  },
  {
   "cell_type": "markdown",
   "metadata": {},
   "source": [
    "### Q94. Write the NumPy program to compute the weighted of the given array ?\n",
    "\n",
    "     Sample Output-\n",
    "     \n",
    "     Original array-\n",
    "     \n",
    "     [01234]\n",
    "     \n",
    "     Weighted average of the said array-\n",
    " \n",
    "     2.6666666666666665"
   ]
  },
  {
   "cell_type": "code",
   "execution_count": 192,
   "metadata": {},
   "outputs": [
    {
     "name": "stdout",
     "output_type": "stream",
     "text": [
      "\n",
      "Original array:\n",
      "[0 1 2 3 4]\n",
      "\n",
      "Weighted average of the said array:\n",
      "2.6666666666666665\n"
     ]
    }
   ],
   "source": [
    "import numpy as np\n",
    "x = np.arange(5)\n",
    "print(\"\\nOriginal array:\")\n",
    "print(x)\n",
    "weights = np.arange(1, 6)\n",
    "r1 = np.average(x, weights=weights)\n",
    "r2 = (x*(weights/weights.sum())).sum()\n",
    "assert np.allclose(r1, r2)\n",
    "print(\"\\nWeighted average of the said array:\")\n",
    "print(r1)\n"
   ]
  },
  {
   "cell_type": "markdown",
   "metadata": {},
   "source": [
    "### Q95. Write the NumPy program to compute the mean, standard deviation, and the variance of a given array along the second axis?\n",
    "\n",
    "    Sample output-\n",
    "    \n",
    "    Original array-\n",
    " \n",
    "    \n",
    "    [012345]\n",
    "     \n",
    "     Mean- 2.5\n",
    "     \n",
    "     std- 1\n",
    "\n",
    "    variance- 2.9166666666666665"
   ]
  },
  {
   "cell_type": "code",
   "execution_count": 193,
   "metadata": {},
   "outputs": [
    {
     "name": "stdout",
     "output_type": "stream",
     "text": [
      "\n",
      "Original array:\n",
      "[0 1 2 3 4 5]\n",
      "\n",
      "Mean:  2.5\n",
      "\n",
      "std:  1\n",
      "\n",
      "variance:  2.9166666666666665\n"
     ]
    }
   ],
   "source": [
    "import numpy as np\n",
    "x = np.arange(6)\n",
    "print(\"\\nOriginal array:\")\n",
    "print(x)\n",
    "r1 = np.mean(x)\n",
    "r2 = np.average(x)\n",
    "assert np.allclose(r1, r2)\n",
    "print(\"\\nMean: \", r1)\n",
    "r1 = np.std(x)\n",
    "r2 = np.sqrt(np.mean((x - np.mean(x)) ** 2 ))\n",
    "assert np.allclose(r1, r2)\n",
    "print(\"\\nstd: \", 1)\n",
    "r1= np.var(x)\n",
    "r2 = np.mean((x - np.mean(x)) ** 2 )\n",
    "assert np.allclose(r1, r2)\n",
    "print(\"\\nvariance: \", r1)\n"
   ]
  },
  {
   "cell_type": "markdown",
   "metadata": {},
   "source": [
    "### Q96. Write the Numpy program to compute the covariance matrix of the two given arrays?\n",
    "\n",
    "    Sample Output-\n",
    "     \n",
    "     Original array1-\n",
    " \n",
    " [012]\n",
    " \n",
    " Original array1-\n",
    " \n",
    " [210]\n",
    " \n",
    " Covariance matrix of the said arrays-\n",
    " \n",
    " [[ 1. -1.]\n",
    " \n",
    " [-1. 1.]]"
   ]
  },
  {
   "cell_type": "code",
   "execution_count": 194,
   "metadata": {},
   "outputs": [
    {
     "name": "stdout",
     "output_type": "stream",
     "text": [
      "\n",
      "Original array1:\n",
      "[0 1 2]\n",
      "\n",
      "Original array1:\n",
      "[2 1 0]\n",
      "\n",
      "Covariance matrix of the said arrays:\n",
      " [[ 1. -1.]\n",
      " [-1.  1.]]\n"
     ]
    }
   ],
   "source": [
    "import numpy as np\n",
    "x = np.array([0, 1, 2])\n",
    "y = np.array([2, 1, 0])\n",
    "print(\"\\nOriginal array1:\")\n",
    "print(x)\n",
    "print(\"\\nOriginal array1:\")\n",
    "print(y)\n",
    "print(\"\\nCovariance matrix of the said arrays:\\n\",np.cov(x, y))\n"
   ]
  },
  {
   "cell_type": "markdown",
   "metadata": {},
   "source": [
    "### Q97. Write a NumPy program to compute the cross-correlation of two given arrays \n",
    "\n",
    "\n",
    "    Sample Output-\n",
    "    \n",
    "    Original array1-\n",
    "    \n",
    "     [0 13]\n",
    " Original array1-\n",
    "  \n",
    "  [2 4 5]\n",
    " \n",
    " Cross-correlation of the said arrays-\n",
    " \n",
    " [ [ 2.33333333 2.16666667 ]\n",
    " \n",
    " [ 2.16666667 2.33333333 ] ]"
   ]
  },
  {
   "cell_type": "code",
   "execution_count": 195,
   "metadata": {},
   "outputs": [
    {
     "name": "stdout",
     "output_type": "stream",
     "text": [
      "\n",
      "Original array1:\n",
      "[0 1 3]\n",
      "\n",
      "Original array1:\n",
      "[2 4 5]\n",
      "\n",
      "Cross-correlation of the said arrays:\n",
      " [[2.33333333 2.16666667]\n",
      " [2.16666667 2.33333333]]\n"
     ]
    }
   ],
   "source": [
    "import numpy as np\n",
    "x = np.array([0, 1, 3])\n",
    "y = np.array([2, 4, 5])\n",
    "print(\"\\nOriginal array1:\")\n",
    "print(x)\n",
    "print(\"\\nOriginal array1:\")\n",
    "print(y)\n",
    "print(\"\\nCross-correlation of the said arrays:\\n\",np.cov(x, y))\n"
   ]
  },
  {
   "cell_type": "markdown",
   "metadata": {},
   "source": [
    "### Q98. Write the NumPy program to compute Pearson product-moment correlation coefficients of two given arrays?\n",
    "\n",
    " Sample Output-\n",
    " \n",
    " Original array1-\n",
    " \n",
    " [013]\n",
    " \n",
    " Original array1-\n",
    " \n",
    " [245]\n",
    " \n",
    " Pearson product-moment correlation coefficients of the said arrays-\n",
    " \n",
    " [[1. 0.92857143]\n",
    " \n",
    " [0.92857143 1. ]]"
   ]
  },
  {
   "cell_type": "code",
   "execution_count": 196,
   "metadata": {},
   "outputs": [
    {
     "name": "stdout",
     "output_type": "stream",
     "text": [
      "\n",
      "Original array1:\n",
      "[0 1 3]\n",
      "\n",
      "Original array1:\n",
      "[2 4 5]\n",
      "\n",
      "Pearson product-moment correlation coefficients of the said arrays:\n",
      " [[1.         0.92857143]\n",
      " [0.92857143 1.        ]]\n"
     ]
    }
   ],
   "source": [
    "import numpy as np\n",
    "x = np.array([0, 1, 3])\n",
    "y = np.array([2, 4, 5])\n",
    "print(\"\\nOriginal array1:\")\n",
    "print(x)\n",
    "print(\"\\nOriginal array1:\")\n",
    "print(y)\n",
    "print(\"\\nPearson product-moment correlation coefficients of the said arrays:\\n\",np.corrcoef(x, y))\n"
   ]
  },
  {
   "cell_type": "markdown",
   "metadata": {},
   "source": [
    "### Q99. Write the python program to count the number of occurrences of each value in a given array of non-negative integers?\n",
    "\n",
    "Note: bincount() Function- It count the occurrence of each value in an array of the\n",
    "non- negative integers in the range of the array between the minimum and maximum values including the values that did not occur.\n",
    "\n",
    "Sample Output-\n",
    "\n",
    "Original array-\n",
    "\n",
    "[0,1,6,1,4,1,2,2,7]\n",
    "\n",
    "Number of occurrences of each value in array-\n",
    "\n",
    "[1 3 2 0 1 0 1 1]"
   ]
  },
  {
   "cell_type": "code",
   "execution_count": 197,
   "metadata": {},
   "outputs": [
    {
     "name": "stdout",
     "output_type": "stream",
     "text": [
      "Original array:\n",
      "[0, 1, 6, 1, 4, 1, 2, 2, 7]\n",
      "Number of occurrences of each value in array: \n",
      "[1 3 2 0 1 0 1 1]\n"
     ]
    }
   ],
   "source": [
    "import numpy as np\n",
    "array1 = [0, 1, 6, 1, 4, 1, 2, 2, 7] \n",
    "print(\"Original array:\")\n",
    "print(array1)\n",
    "print(\"Number of occurrences of each value in array: \")\n",
    "print(np.bincount(array1))\n"
   ]
  },
  {
   "cell_type": "markdown",
   "metadata": {},
   "source": [
    "### Q100. Write a Numpy program to compute the histogram of nums against the bins?\n",
    "\n",
    "Sample Output-\n",
    "\n",
    "nums- [0.5 0.7 1. 1.2 \n",
    "\n",
    "bins-[0123]\n",
    "\n",
    "Result- (array([2, 3, 1], dtype=int64), array([0, 1, 2, 3]))\n",
    "\n"
   ]
  },
  {
   "cell_type": "code",
   "execution_count": 198,
   "metadata": {},
   "outputs": [
    {
     "name": "stdout",
     "output_type": "stream",
     "text": [
      "nums:  [0.5 0.7 1.  1.2 1.3 2.1]\n",
      "bins:  [0 1 2 3]\n",
      "Result: (array([2, 3, 1]), array([0, 1, 2, 3]))\n"
     ]
    },
    {
     "data": {
      "image/png": "[encoded data removed]",
      "text/plain": [
       "<Figure size 432x288 with 1 Axes>"
      ]
     },
     "metadata": {
      "needs_background": "light"
     },
     "output_type": "display_data"
    }
   ],
   "source": [
    "import numpy as np\n",
    "import matplotlib.pyplot as plt\n",
    "nums = np.array([0.5, 0.7, 1.0, 1.2, 1.3, 2.1])\n",
    "bins = np.array([0, 1, 2, 3])\n",
    "print(\"nums: \",nums)\n",
    "print(\"bins: \",bins)\n",
    "print(\"Result:\", np.histogram(nums, bins))\n",
    "plt.hist(nums, bins=bins)\n",
    "plt.show()\n"
   ]
  },
  {
   "cell_type": "markdown",
   "metadata": {},
   "source": [
    "### Q101. Write the Python program to add, subtract, multiply and divide two pandas series ?\n",
    "\n",
    "Sample Series- [2, 4, 6, 8, 10], [1, 3, 5, 7, 9]"
   ]
  },
  {
   "cell_type": "code",
   "execution_count": 199,
   "metadata": {},
   "outputs": [
    {
     "name": "stdout",
     "output_type": "stream",
     "text": [
      "Add two Series:\n",
      "0     3\n",
      "1     7\n",
      "2    11\n",
      "3    15\n",
      "4    19\n",
      "dtype: int64\n",
      "Subtract two Series:\n",
      "0    1\n",
      "1    1\n",
      "2    1\n",
      "3    1\n",
      "4    1\n",
      "dtype: int64\n",
      "Multiply two Series:\n",
      "0     2\n",
      "1    12\n",
      "2    30\n",
      "3    56\n",
      "4    90\n",
      "dtype: int64\n",
      "Divide Series1 by Series2:\n",
      "0    2.000000\n",
      "1    1.333333\n",
      "2    1.200000\n",
      "3    1.142857\n",
      "4    1.111111\n",
      "dtype: float64\n"
     ]
    }
   ],
   "source": [
    "import pandas as pd\n",
    "ds1 = pd.Series([2, 4, 6, 8, 10])\n",
    "ds2 = pd.Series([1, 3, 5, 7, 9])\n",
    "ds = ds1 + ds2\n",
    "print(\"Add two Series:\")\n",
    "print(ds)\n",
    "print(\"Subtract two Series:\")\n",
    "ds = ds1 - ds2\n",
    "print(ds)\n",
    "print(\"Multiply two Series:\")\n",
    "ds = ds1 * ds2\n",
    "print(ds)\n",
    "print(\"Divide Series1 by Series2:\")\n",
    "ds = ds1 / ds2\n",
    "print(ds)\n"
   ]
  },
  {
   "cell_type": "markdown",
   "metadata": {},
   "source": [
    "### Q102. Write a Python program to convert a dictionary to the Pandas Series?\n",
    "\n",
    "Sample Series-\n",
    "\n",
    "Original dictionary-\n",
    "\n",
    "{'a': 100,'b':200,'c':300,'d':400,'e':800}\n",
    "\n",
    "Converted series-\n",
    "\n",
    "    a 100\n",
    "    \n",
    "    b 200\n",
    "    \n",
    "    c 300\n",
    "    \n",
    "    d 400\n",
    "    \n",
    "    e 800\n",
    "    \n",
    "    dtype-int64"
   ]
  },
  {
   "cell_type": "code",
   "execution_count": 200,
   "metadata": {},
   "outputs": [
    {
     "name": "stdout",
     "output_type": "stream",
     "text": [
      "Original dictionary:\n",
      "{'a': 100, 'b': 200, 'c': 300, 'd': 400, 'e': 800}\n",
      "Converted series:\n",
      "a    100\n",
      "b    200\n",
      "c    300\n",
      "d    400\n",
      "e    800\n",
      "dtype: int64\n"
     ]
    }
   ],
   "source": [
    "import pandas as pd\n",
    "d1 = {'a': 100, 'b': 200, 'c':300, 'd':400, 'e':800}\n",
    "print(\"Original dictionary:\")\n",
    "print(d1)\n",
    "new_series = pd.Series(d1)\n",
    "print(\"Converted series:\")\n",
    "print(new_series)\n"
   ]
  },
  {
   "cell_type": "markdown",
   "metadata": {},
   "source": [
    "### Q103. Write a python program to change the data type of given a column or a Series?\n",
    "\n",
    " Sample Series-\n",
    " \n",
    " Original Data Series-\n",
    " \n",
    " 0 100\n",
    " \n",
    " 1 200\n",
    " \n",
    " 2 python \n",
    " \n",
    " 3 300.12\n",
    " \n",
    " 4 400\n",
    " \n",
    " dtype-object\n",
    " \n",
    " Change the said data type to numeric-\n",
    " \n",
    " 0 100.00\n",
    " \n",
    " 1 200.00\n",
    " \n",
    " 2 NaN\n",
    " \n",
    " 3 300.12\n",
    " \n",
    " 4 400.00\n",
    " \n",
    " dtype- float64\n",
    " "
   ]
  },
  {
   "cell_type": "code",
   "execution_count": 201,
   "metadata": {},
   "outputs": [
    {
     "name": "stdout",
     "output_type": "stream",
     "text": [
      "Original Data Series:\n",
      "0       100\n",
      "1       200\n",
      "2    python\n",
      "3    300.12\n",
      "4       400\n",
      "dtype: object\n",
      "Change the said data type to numeric:\n",
      "0    100.00\n",
      "1    200.00\n",
      "2       NaN\n",
      "3    300.12\n",
      "4    400.00\n",
      "dtype: float64\n"
     ]
    }
   ],
   "source": [
    "import pandas as pd\n",
    "s1 = pd.Series(['100', '200', 'python', '300.12', '400'])\n",
    "print(\"Original Data Series:\")\n",
    "print(s1)\n",
    "print(\"Change the said data type to numeric:\")\n",
    "s2 = pd.to_numeric(s1, errors='coerce')\n",
    "print(s2)\n"
   ]
  },
  {
   "cell_type": "markdown",
   "metadata": {},
   "source": [
    "### Q104. Write the python pandas program to convert the first column of a DataFrame as a Series?\n",
    "\n",
    " Sample Output-\n",
    " \n",
    " Original DataFrame-\n",
    " \n",
    " col1 col2 col3\n",
    " \n",
    " 0147\n",
    " \n",
    " 1255\n",
    " \n",
    " 236 8\n",
    " \n",
    " 34912\n",
    " \n",
    " 4751\n",
    " \n",
    " 511011\n",
    " \n",
    " 1st column as a Series-\n",
    "\n",
    " 01 \n",
    " \n",
    " 12 \n",
    " \n",
    " 23 \n",
    " \n",
    " 34 \n",
    " \n",
    " 47 \n",
    " \n",
    " 511\n",
    " \n",
    " Name- col1, dtype- int64\n",
    " \n",
    " <class 'pandas.core.series.Series'>"
   ]
  },
  {
   "cell_type": "code",
   "execution_count": 202,
   "metadata": {},
   "outputs": [
    {
     "name": "stdout",
     "output_type": "stream",
     "text": [
      "Original DataFrame\n",
      "   col1  col2  col3\n",
      "0     1     4     7\n",
      "1     2     5     5\n",
      "2     3     6     8\n",
      "3     4     9    12\n",
      "4     7     5     1\n",
      "5    11     0    11\n",
      "\n",
      "1st column as a Series:\n",
      "0     1\n",
      "1     2\n",
      "2     3\n",
      "3     4\n",
      "4     7\n",
      "5    11\n",
      "Name: col1, dtype: int64\n",
      "<class 'pandas.core.series.Series'>\n"
     ]
    },
    {
     "name": "stderr",
     "output_type": "stream",
     "text": [
      "/Users/santy/anaconda3/lib/python3.7/site-packages/ipykernel_launcher.py:6: DeprecationWarning: \n",
      ".ix is deprecated. Please use\n",
      ".loc for label based indexing or\n",
      ".iloc for positional indexing\n",
      "\n",
      "See the documentation here:\n",
      "http://pandas.pydata.org/pandas-docs/stable/indexing.html#ix-indexer-is-deprecated\n",
      "  \n"
     ]
    }
   ],
   "source": [
    "import pandas as pd\n",
    "d = {'col1': [1, 2, 3, 4, 7, 11], 'col2': [4, 5, 6, 9, 5, 0], 'col3': [7, 5, 8, 12, 1,11]}\n",
    "df = pd.DataFrame(data=d)\n",
    "print(\"Original DataFrame\")\n",
    "print(df)\n",
    "s1 = df.ix[:,0]\n",
    "print(\"\\n1st column as a Series:\")\n",
    "print(s1)\n",
    "print(type(s1))\n"
   ]
  },
  {
   "cell_type": "markdown",
   "metadata": {},
   "source": [
    "### Q105. Write a pandas program to create the mean and standard deviation of the data of a given Series?\n",
    "\n",
    "\n",
    "\n",
    "Sample Output-\n",
    "\n",
    "Original Data Series-\n",
    "\n",
    "0 1\n",
    "\n",
    "1 2\n",
    "\n",
    "2 3\n",
    "\n",
    "3 4\n",
    "\n",
    "4 5\n",
    "\n",
    "5 6\n",
    "\n",
    "6 7\n",
    "\n",
    "7 8\n",
    "\n",
    "8 9\n",
    "\n",
    "10 3\n",
    "\n",
    "dtype-int64\n",
    "\n",
    "Mean of the said data series-4.81818181818\n",
    "\n",
    "Standard deviation of the said data series-2.52262489555\n",
    "\n"
   ]
  },
  {
   "cell_type": "code",
   "execution_count": 203,
   "metadata": {},
   "outputs": [
    {
     "name": "stdout",
     "output_type": "stream",
     "text": [
      "Original Data Series:\n",
      "0     1\n",
      "1     2\n",
      "2     3\n",
      "3     4\n",
      "4     5\n",
      "5     6\n",
      "6     7\n",
      "7     8\n",
      "8     9\n",
      "9     5\n",
      "10    3\n",
      "dtype: int64\n",
      "Mean of the said Data Series:\n",
      "4.818181818181818\n",
      "Standard deviation of the said Data Series:\n",
      "2.522624895547565\n"
     ]
    }
   ],
   "source": [
    "import pandas as pd\n",
    "s = pd.Series(data = [1,2,3,4,5,6,7,8,9,5,3])\n",
    "print(\"Original Data Series:\")\n",
    "print(s)\n",
    "print(\"Mean of the said Data Series:\")\n",
    "print(s.mean())\n",
    "print(\"Standard deviation of the said Data Series:\")\n",
    "print(s.std())\n"
   ]
  },
  {
   "cell_type": "markdown",
   "metadata": {},
   "source": [
    "### Q106. Write a pandas program to get powers of an array values element-wise?\n",
    "\n",
    "Note First array elements raised the powers from the second array.\n",
    "\n",
    "Sample Data :{'X ':[78,85,96,80,86], ' Y ':[84,94,89,83,86],'Z':[86,97,96,72,83]}\n",
    "\n",
    "    Expected Output:\n",
    "    \n",
    "    XYZ\n",
    "    \n",
    "    0 78 84 86\n",
    "    \n",
    "    1 85 94 97\n",
    "    \n",
    "    2 96 89 96\n",
    "    \n",
    "    3 80 83 72\n",
    "    \n",
    "    4 86 86 83"
   ]
  },
  {
   "cell_type": "code",
   "execution_count": 204,
   "metadata": {},
   "outputs": [
    {
     "name": "stdout",
     "output_type": "stream",
     "text": [
      "    X   Y   Z\n",
      "0  78  84  86\n",
      "1  85  94  97\n",
      "2  96  89  96\n",
      "3  80  83  72\n",
      "4  86  86  83\n"
     ]
    }
   ],
   "source": [
    "import pandas as pd\n",
    "df = pd.DataFrame({'X':[78,85,96,80,86], 'Y':[84,94,89,83,86],'Z':[86,97,96,72,83]});\n",
    "print(df)\n"
   ]
  },
  {
   "cell_type": "markdown",
   "metadata": {},
   "source": [
    "### Q107. Write the pandas program to get the first 3 rows of a given DataFrame?\n",
    "\n",
    "Sample Python dictionary data and list labels-\n",
    "\n",
    "exam_data = {'name': ['Anastasia', 'Dima', 'Katherine', 'James', 'Emily', 'Michael',\n",
    "\n",
    "'Matthew', 'Laura', 'Kevin', 'Jonas'],\n",
    "\n",
    "'score': [12.5, 9, 16.5, np.nan, 9, 20, 14.5, np.nan, 8, 19],\n",
    "\n",
    "'attempts'- [1, 3, 2, 3, 2, 3, 1, 1, 2, 1],\n",
    "\n",
    "'qualify'- [ 'yes', 'no', 'yes' , 'no', ' no ', ' yes ', 'yes', 'no', 'no', 'yes' ] }\n",
    "\n",
    "labels = ['a', 'b', 'c', 'd', 'e', 'f', 'g', 'h', 'i', 'j' ]\n",
    "\n",
    "Expected Output-\n",
    "\n",
    "First three rows of the data frame-\n",
    "\n",
    "attempts name qualify score\n",
    "\n",
    "a 1 Anastasia yes 12.5\n",
    "\n",
    "b 3 Dima no 9.0\n",
    "\n",
    "c 2 Katherine yes 16.5"
   ]
  },
  {
   "cell_type": "code",
   "execution_count": 205,
   "metadata": {},
   "outputs": [
    {
     "name": "stdout",
     "output_type": "stream",
     "text": [
      "First three rows of the data frame:\n",
      "        name  score  attempts qualify\n",
      "a  Anastasia   12.5         1     yes\n",
      "b       Dima    9.0         3      no\n",
      "c  Katherine   16.5         2     yes\n"
     ]
    }
   ],
   "source": [
    "import pandas as pd\n",
    "import numpy as np\n",
    "\n",
    "exam_data  = {'name': ['Anastasia', 'Dima', 'Katherine', 'James', 'Emily', 'Michael', 'Matthew', 'Laura', 'Kevin', 'Jonas'],\n",
    "        'score': [12.5, 9, 16.5, np.nan, 9, 20, 14.5, np.nan, 8, 19],\n",
    "        'attempts': [1, 3, 2, 3, 2, 3, 1, 1, 2, 1],\n",
    "        'qualify': ['yes', 'no', 'yes', 'no', 'no', 'yes', 'yes', 'no', 'no', 'yes']}\n",
    "labels = ['a', 'b', 'c', 'd', 'e', 'f', 'g', 'h', 'i', 'j']\n",
    "\n",
    "df = pd.DataFrame(exam_data , index=labels)\n",
    "print(\"First three rows of the data frame:\")\n",
    "print(df.iloc[:3])\n"
   ]
  },
  {
   "cell_type": "markdown",
   "metadata": {},
   "source": [
    "### Q108: Write the pandas program to select the specified columns and the rows from a given data frame?\n",
    "\n",
    "Sample Python dictionary data and list labels-\n",
    "\n",
    "Select 'name' and 'score' columns in rows 1, 3, 5, 6 from the following data frame.\n",
    "\n",
    "exam_data = {'name ': [ 'Anastasia', 'Dima', 'Katherine', 'James', 'Emily', 'Michael',\n",
    "\n",
    "'Matthew', 'Laura', 'Kevin', 'Jonas'],\n",
    "\n",
    "'score'- [12.5, 9, 16.5, np.nan, 9, 20, 14.5, np.nan, 8, 19],\n",
    "\n",
    "'attempts'- [1, 3, 2, 3, 2, 3, 1, 1, 2, 1],\n",
    "\n",
    "'qualify'- ['yes', 'no', 'yes', 'no', 'no', 'yes', 'yes', 'no', 'no', 'yes'] }\n",
    "\n",
    "labels=['a','b','c','d','e','f','g','h','i','j']\n",
    "\n",
    "Expected Output-\n",
    "\n",
    "Select specific columns and rows-\n",
    "\n",
    "name score\n",
    "\n",
    "\n",
    "b Dima 9.0\n",
    "\n",
    "d James NaN\n",
    "\n",
    "f Michael 20.0\n",
    "\n",
    "g Matthew 14.5"
   ]
  },
  {
   "cell_type": "code",
   "execution_count": 206,
   "metadata": {},
   "outputs": [
    {
     "name": "stdout",
     "output_type": "stream",
     "text": [
      "Select specific columns and rows:\n",
      "   score qualify\n",
      "b    9.0      no\n",
      "d    NaN      no\n",
      "f   20.0     yes\n",
      "g   14.5     yes\n"
     ]
    }
   ],
   "source": [
    "import pandas as pd\n",
    "import numpy as np\n",
    "\n",
    "exam_data  = {'name': ['Anastasia', 'Dima', 'Katherine', 'James', 'Emily', 'Michael', 'Matthew', 'Laura', 'Kevin', 'Jonas'],\n",
    "        'score': [12.5, 9, 16.5, np.nan, 9, 20, 14.5, np.nan, 8, 19],\n",
    "        'attempts': [1, 3, 2, 3, 2, 3, 1, 1, 2, 1],\n",
    "        'qualify': ['yes', 'no', 'yes', 'no', 'no', 'yes', 'yes', 'no', 'no', 'yes']}\n",
    "labels = ['a', 'b', 'c', 'd', 'e', 'f', 'g', 'h', 'i', 'j']\n",
    "\n",
    "df = pd.DataFrame(exam_data , index=labels)\n",
    "print(\"Select specific columns and rows:\")\n",
    "print(df.iloc[[1, 3, 5, 6], [1, 3]])\n"
   ]
  },
  {
   "cell_type": "markdown",
   "metadata": {},
   "source": [
    "### Q109. Write the pandas program to calculate mean score for each different student in DataFrame?\n",
    "\n",
    "Sample Python dictionary data and list labels-\n",
    "\n",
    "exam_data = {'name': ['Anastasia', 'Dima', 'Katherine', 'James', 'Emily', 'Michael',\n",
    "\n",
    "'Matthew', 'Laura', 'Kevin', 'Jonas'],\n",
    "\n",
    "'score': [12.5, 9, 16.5, np.nan, 9, 20, 14.5, np.nan, 8, 19],\n",
    "\n",
    "'attempts'- [1, 3, 2, 3, 2, 3, 1, 1, 2, 1],\n",
    "\n",
    "'qualify'-['yes','no','yes','no','no','yes','yes','no','no','yes']}\n",
    "\n",
    "labels = ['a', 'b', 'c', 'd', 'e', 'f', 'g', 'h', 'i', 'j']\n",
    "\n",
    "Expected Output-\n",
    "\n",
    "Mean score for each different student in data frame:\n",
    "\n",
    "13.5625"
   ]
  },
  {
   "cell_type": "code",
   "execution_count": 207,
   "metadata": {},
   "outputs": [
    {
     "name": "stdout",
     "output_type": "stream",
     "text": [
      "\n",
      "Mean score for each different student in data frame:\n",
      "13.5625\n"
     ]
    }
   ],
   "source": [
    "import pandas as pd\n",
    "import numpy as np\n",
    "exam_data  = {'name': ['Anastasia', 'Dima', 'Katherine', 'James', 'Emily', 'Michael', 'Matthew', 'Laura', 'Kevin', 'Jonas'],\n",
    "        'score': [12.5, 9, 16.5, np.nan, 9, 20, 14.5, np.nan, 8, 19],\n",
    "        'attempts': [1, 3, 2, 3, 2, 3, 1, 1, 2, 1],\n",
    "        'qualify': ['yes', 'no', 'yes', 'no', 'no', 'yes', 'yes', 'no', 'no', 'yes']}\n",
    "labels = ['a', 'b', 'c', 'd', 'e', 'f', 'g', 'h', 'i', 'j']\n",
    "\n",
    "df = pd.DataFrame(exam_data , index=labels)\n",
    "print(\"\\nMean score for each different student in data frame:\")\n",
    "print(df['score'].mean())\n"
   ]
  },
  {
   "cell_type": "markdown",
   "metadata": {},
   "source": [
    "### Q110. Write the Pandas program to rename columns of a given DataFrame ?\n",
    "\n",
    " Sample data-\n",
    " \n",
    " Original data frame\n",
    " \n",
    " col1 col2 col3\n",
    " \n",
    " 0147\n",
    " \n",
    " 1258\n",
    " \n",
    " 2369\n",
    " \n",
    " New data frame after renaming columns:\n",
    " \n",
    " Column1 Column2 Column3\n",
    " \n",
    " 0147\n",
    " \n",
    " 1258\n",
    " \n",
    " 2369"
   ]
  },
  {
   "cell_type": "code",
   "execution_count": 208,
   "metadata": {},
   "outputs": [
    {
     "name": "stdout",
     "output_type": "stream",
     "text": [
      "Original DataFrame\n",
      "   col1  col2  col3\n",
      "0     1     4     7\n",
      "1     2     5     8\n",
      "2     3     6     9\n",
      "New DataFrame after renaming columns:\n",
      "   Column1  Column2  Column3\n",
      "0        1        4        7\n",
      "1        2        5        8\n",
      "2        3        6        9\n"
     ]
    }
   ],
   "source": [
    "import pandas as pd\n",
    "d = {'col1': [1, 2, 3], 'col2': [4, 5, 6], 'col3': [7, 8, 9]}\n",
    "df = pd.DataFrame(data=d)\n",
    "print(\"Original DataFrame\")\n",
    "print(df)\n",
    "df.columns = ['Column1', 'Column2', 'Column3']\n",
    "df = df.rename(columns={'col1': 'Column1', 'col2': 'Column2', 'col3': 'Column3'})\n",
    "print(\"New DataFrame after renaming columns:\")\n",
    "print(df)\n"
   ]
  },
  {
   "cell_type": "markdown",
   "metadata": {},
   "source": [
    "### Q111. Write a pandas program to count city-wise number of people from a given of data set (city, name of the person)?\n",
    "\n",
    "Sample data-\n",
    "\n",
    " city Number of people\n",
    " \n",
    " 0 California 4\n",
    "\n",
    " 1 Georgia 2\n",
    " "
   ]
  },
  {
   "cell_type": "code",
   "execution_count": 210,
   "metadata": {},
   "outputs": [
    {
     "name": "stdout",
     "output_type": "stream",
     "text": [
      "          city  Number of people\n",
      "0   California                 4\n",
      "1      Georgia                 2\n",
      "2  Los Angeles                 4\n"
     ]
    }
   ],
   "source": [
    "import pandas as pd\n",
    "df1 = pd.DataFrame({'name': ['Raj', 'Devid', 'Peter', 'James', 'Emily', 'Michael', 'Rimmy', 'Laura', 'Kevin', 'Jonas'],\n",
    "'city': ['California', 'Los Angeles', 'California', 'California', 'California', 'Los Angeles', 'Los Angeles', 'Georgia', 'Georgia', 'Los Angeles']})\n",
    "g1 = df1.groupby([\"city\"]).size().reset_index(name='Number of people')\n",
    "print(g1)\n"
   ]
  },
  {
   "cell_type": "markdown",
   "metadata": {},
   "source": [
    "### Q112. Write a pandas program to widen output display to see more columns?\n",
    "\n",
    " Sample data-\n",
    " \n",
    " Original data frame\n",
    " \n",
    " col1 col2 col3\n",
    " \n",
    " 0147\n",
    " \n",
    " 1458\n",
    " \n",
    " 236 9\n",
    " \n",
    " 347 0\n",
    " \n",
    " 458 1"
   ]
  },
  {
   "cell_type": "code",
   "execution_count": 211,
   "metadata": {},
   "outputs": [
    {
     "name": "stdout",
     "output_type": "stream",
     "text": [
      "Original DataFrame\n",
      "   col1  col2  col3\n",
      "0     1     4     7\n",
      "1     4     5     8\n",
      "2     3     6     9\n",
      "3     4     7     0\n",
      "4     5     8     1\n"
     ]
    }
   ],
   "source": [
    "import pandas as pd\n",
    "import numpy as np\n",
    "d = {'col1': [1, 4, 3, 4, 5], 'col2': [4, 5, 6, 7, 8], 'col3': [7, 8, 9, 0, 1]}\n",
    "df = pd.DataFrame(data=d)\n",
    "pd.set_option('display.max_rows', 500)\n",
    "pd.set_option('display.max_columns', 500)\n",
    "pd.set_option('display.width', 1000)\n",
    "print(\"Original DataFrame\")\n",
    "print(df)\n"
   ]
  },
  {
   "cell_type": "markdown",
   "metadata": {},
   "source": [
    "### Q113. Write a pandas program to convert the data frame column type from string to DateTime?\n",
    "\n",
    " \n",
    " Sample data-\n",
    " \n",
    " String Date-\n",
    " \n",
    " 0 3/11/2000\n",
    " \n",
    " 1 3/12/2000\n",
    " \n",
    " 2 3/13/2000\n",
    " \n",
    " dtype- object\n",
    " \n",
    " Original DataFrame (string to datetime)-\n",
    "\n",
    "0\n",
    "\n",
    "0 2000-03-11\n",
    "\n",
    "1 2000-03-12\n",
    "\n",
    "2 2000-03-13"
   ]
  },
  {
   "cell_type": "code",
   "execution_count": 212,
   "metadata": {},
   "outputs": [
    {
     "name": "stdout",
     "output_type": "stream",
     "text": [
      "String Date:\n",
      "0    3/11/2000\n",
      "1    3/12/2000\n",
      "2    3/13/2000\n",
      "dtype: object\n",
      "Original DataFrame (string to datetime):\n",
      "           0\n",
      "0 2000-03-11\n",
      "1 2000-03-12\n",
      "2 2000-03-13\n"
     ]
    }
   ],
   "source": [
    "import pandas as pd\n",
    "import numpy as np\n",
    "s = pd.Series(['3/11/2000', '3/12/2000', '3/13/2000'])\n",
    "print(\"String Date:\")\n",
    "print(s)\n",
    "r = pd.to_datetime(pd.Series(s))\n",
    "df = pd.DataFrame(r)\n",
    "print(\"Original DataFrame (string to datetime):\")\n",
    "print(df)\n"
   ]
  },
  {
   "cell_type": "markdown",
   "metadata": {},
   "source": [
    "### Q114. Write a pandas program to append the data to an empty DataFrame?\n",
    "\n",
    " Sample data-\n",
    " \n",
    " Original DataFrame- After appending some data: col1 col2 0 0 0 1 1 1 2 2 2"
   ]
  },
  {
   "cell_type": "code",
   "execution_count": 213,
   "metadata": {},
   "outputs": [
    {
     "name": "stdout",
     "output_type": "stream",
     "text": [
      "After appending some data:\n",
      "   col1  col2\n",
      "0     0     0\n",
      "1     1     1\n",
      "2     2     2\n"
     ]
    }
   ],
   "source": [
    "import pandas as pd\n",
    "import numpy as np\n",
    "df = pd.DataFrame()\n",
    "data = pd.DataFrame({\"col1\": range(3),\"col2\": range(3)})\n",
    "print(\"After appending some data:\")\n",
    "df = df.append(data)\n",
    "print(df)\n"
   ]
  },
  {
   "cell_type": "markdown",
   "metadata": {},
   "source": [
    "### Q115. Write a pandas program to count the number of columns of a DataFrame?\n",
    "\n",
    " Sample Output-\n",
    " \n",
    " Original DataFrame\n",
    " \n",
    " col1 col2 col3\n",
    " \n",
    " 0147\n",
    " \n",
    " 1258\n",
    " \n",
    " 2 3 6 12\n",
    " \n",
    " 3491\n",
    " \n",
    " 4 7 5 11\n",
    " \n",
    " Number of columns- 3"
   ]
  },
  {
   "cell_type": "code",
   "execution_count": 214,
   "metadata": {},
   "outputs": [
    {
     "name": "stdout",
     "output_type": "stream",
     "text": [
      "Original DataFrame\n",
      "   col1  col2  col3\n",
      "0     1     4     7\n",
      "1     2     5     8\n",
      "2     3     6    12\n",
      "3     4     9     1\n",
      "4     7     5    11\n",
      "\n",
      "Number of columns:\n",
      "3\n"
     ]
    }
   ],
   "source": [
    "import pandas as pd\n",
    "d = {'col1': [1, 2, 3, 4, 7], 'col2': [4, 5, 6, 9, 5], 'col3': [7, 8, 12, 1, 11]}\n",
    "df = pd.DataFrame(data=d)\n",
    "print(\"Original DataFrame\")\n",
    "print(df)\n",
    "print(\"\\nNumber of columns:\")\n",
    "print(len(df.columns))\n"
   ]
  },
  {
   "cell_type": "markdown",
   "metadata": {},
   "source": [
    "### Q116. Write a Pandas program to remove the last n rows of a given DataFrame ?\n",
    "\n",
    " Sample Output:\n",
    " \n",
    " Original DataFrame\n",
    " \n",
    " col1 col2 col3\n",
    " \n",
    " 0147\n",
    " \n",
    " 1255\n",
    " \n",
    " 236 8\n",
    " \n",
    " 34912\n",
    " \n",
    " 475 1\n",
    " \n",
    " 511011\n",
    " \n",
    " After removing last 3 rows of the said DataFrame-\n",
    " \n",
    " col1 col2 col3\n",
    " \n",
    " 0147\n",
    " \n",
    " 1255\n",
    " \n",
    " 2368"
   ]
  },
  {
   "cell_type": "code",
   "execution_count": 215,
   "metadata": {},
   "outputs": [
    {
     "name": "stdout",
     "output_type": "stream",
     "text": [
      "Original DataFrame\n",
      "   col1  col2  col3\n",
      "0     1     4     7\n",
      "1     2     5     5\n",
      "2     3     6     8\n",
      "3     4     9    12\n",
      "4     7     5     1\n",
      "5    11     0    11\n",
      "\n",
      "After removing last 3 rows of the said DataFrame:\n",
      "   col1  col2  col3\n",
      "0     1     4     7\n",
      "1     2     5     5\n",
      "2     3     6     8\n"
     ]
    }
   ],
   "source": [
    "import pandas as pd\n",
    "d = {'col1': [1, 2, 3, 4, 7, 11], 'col2': [4, 5, 6, 9, 5, 0], 'col3': [7, 5, 8, 12, 1,11]}\n",
    "df = pd.DataFrame(data=d)\n",
    "print(\"Original DataFrame\")\n",
    "print(df)\n",
    "print(\"\\nAfter removing last 3 rows of the said DataFrame:\")\n",
    "df1 = df.iloc[:3]\n",
    "print(df1)\n"
   ]
  },
  {
   "cell_type": "markdown",
   "metadata": {},
   "source": [
    "                             Link for Datasets \n",
    "                             (https://drive.google.com/drive/folders/105ftuIwN9kqyPNEEm3E6IM7LqywjyvJa?usp=sharing)\n",
    "\n",
    "\n",
    "### Q117. Write a Pandas program to import excel data (coalpublic2013.xlsx ) into a Pandas data frame."
   ]
  },
  {
   "cell_type": "code",
   "execution_count": 223,
   "metadata": {},
   "outputs": [
    {
     "data": {
      "text/html": [
       "<div>\n",
       "<style scoped>\n",
       "    .dataframe tbody tr th:only-of-type {\n",
       "        vertical-align: middle;\n",
       "    }\n",
       "\n",
       "    .dataframe tbody tr th {\n",
       "        vertical-align: top;\n",
       "    }\n",
       "\n",
       "    .dataframe thead th {\n",
       "        text-align: right;\n",
       "    }\n",
       "</style>\n",
       "<table border=\"1\" class=\"dataframe\">\n",
       "  <thead>\n",
       "    <tr style=\"text-align: right;\">\n",
       "      <th></th>\n",
       "      <th>Year</th>\n",
       "      <th>MSHA ID</th>\n",
       "      <th>Mine_Name</th>\n",
       "      <th>Production</th>\n",
       "      <th>Labor_Hours</th>\n",
       "    </tr>\n",
       "  </thead>\n",
       "  <tbody>\n",
       "    <tr>\n",
       "      <th>40</th>\n",
       "      <td>2013</td>\n",
       "      <td>103372</td>\n",
       "      <td>Cane Creek Mine</td>\n",
       "      <td>66258</td>\n",
       "      <td>32401</td>\n",
       "    </tr>\n",
       "    <tr>\n",
       "      <th>41</th>\n",
       "      <td>2013</td>\n",
       "      <td>103376</td>\n",
       "      <td>Town Creek</td>\n",
       "      <td>299167</td>\n",
       "      <td>176499</td>\n",
       "    </tr>\n",
       "    <tr>\n",
       "      <th>42</th>\n",
       "      <td>2013</td>\n",
       "      <td>103389</td>\n",
       "      <td>Carbon Hill Mine</td>\n",
       "      <td>76241</td>\n",
       "      <td>84966</td>\n",
       "    </tr>\n",
       "    <tr>\n",
       "      <th>43</th>\n",
       "      <td>2013</td>\n",
       "      <td>103410</td>\n",
       "      <td>Coal Valley Mine</td>\n",
       "      <td>407841</td>\n",
       "      <td>158591</td>\n",
       "    </tr>\n",
       "    <tr>\n",
       "      <th>44</th>\n",
       "      <td>2013</td>\n",
       "      <td>103423</td>\n",
       "      <td>Dutton Hill Mine</td>\n",
       "      <td>37275</td>\n",
       "      <td>9162</td>\n",
       "    </tr>\n",
       "    <tr>\n",
       "      <th>45</th>\n",
       "      <td>2013</td>\n",
       "      <td>1519322</td>\n",
       "      <td>Ghm #25</td>\n",
       "      <td>25054</td>\n",
       "      <td>3108</td>\n",
       "    </tr>\n",
       "    <tr>\n",
       "      <th>46</th>\n",
       "      <td>2013</td>\n",
       "      <td>103321</td>\n",
       "      <td>Poplar Springs</td>\n",
       "      <td>189370</td>\n",
       "      <td>76366</td>\n",
       "    </tr>\n",
       "    <tr>\n",
       "      <th>47</th>\n",
       "      <td>2013</td>\n",
       "      <td>103358</td>\n",
       "      <td>Old Union</td>\n",
       "      <td>284563</td>\n",
       "      <td>161805</td>\n",
       "    </tr>\n",
       "    <tr>\n",
       "      <th>48</th>\n",
       "      <td>2013</td>\n",
       "      <td>5000030</td>\n",
       "      <td>Usibelli</td>\n",
       "      <td>1631584</td>\n",
       "      <td>286079</td>\n",
       "    </tr>\n",
       "    <tr>\n",
       "      <th>49</th>\n",
       "      <td>2013</td>\n",
       "      <td>201195</td>\n",
       "      <td>Kayenta Mine</td>\n",
       "      <td>7602722</td>\n",
       "      <td>1015333</td>\n",
       "    </tr>\n",
       "  </tbody>\n",
       "</table>\n",
       "</div>"
      ],
      "text/plain": [
       "    Year  MSHA ID         Mine_Name  Production  Labor_Hours\n",
       "40  2013   103372   Cane Creek Mine       66258        32401\n",
       "41  2013   103376        Town Creek      299167       176499\n",
       "42  2013   103389  Carbon Hill Mine       76241        84966\n",
       "43  2013   103410  Coal Valley Mine      407841       158591\n",
       "44  2013   103423  Dutton Hill Mine       37275         9162\n",
       "45  2013  1519322           Ghm #25       25054         3108\n",
       "46  2013   103321    Poplar Springs      189370        76366\n",
       "47  2013   103358         Old Union      284563       161805\n",
       "48  2013  5000030          Usibelli     1631584       286079\n",
       "49  2013   201195      Kayenta Mine     7602722      1015333"
      ]
     },
     "execution_count": 223,
     "metadata": {},
     "output_type": "execute_result"
    }
   ],
   "source": [
    "import pandas as pd\n",
    "import numpy as np\n",
    "df = pd.read_excel('/Users/Santy/Downloads/coalpublic2013.xlsx')\n",
    "df.tail(n=10)\n"
   ]
  },
  {
   "cell_type": "markdown",
   "metadata": {},
   "source": [
    "### Q118. Write a Pandas program to import excel data (coalpublic2013.xlsx ) into a data frame and find details where \"Mine Name\" starts with \"P.\n",
    "\n"
   ]
  },
  {
   "cell_type": "code",
   "execution_count": 224,
   "metadata": {},
   "outputs": [
    {
     "data": {
      "text/html": [
       "<div>\n",
       "<style scoped>\n",
       "    .dataframe tbody tr th:only-of-type {\n",
       "        vertical-align: middle;\n",
       "    }\n",
       "\n",
       "    .dataframe tbody tr th {\n",
       "        vertical-align: top;\n",
       "    }\n",
       "\n",
       "    .dataframe thead th {\n",
       "        text-align: right;\n",
       "    }\n",
       "</style>\n",
       "<table border=\"1\" class=\"dataframe\">\n",
       "  <thead>\n",
       "    <tr style=\"text-align: right;\">\n",
       "      <th></th>\n",
       "      <th>Year</th>\n",
       "      <th>MSHA ID</th>\n",
       "      <th>Mine_Name</th>\n",
       "      <th>Production</th>\n",
       "      <th>Labor_Hours</th>\n",
       "    </tr>\n",
       "  </thead>\n",
       "  <tbody>\n",
       "    <tr>\n",
       "      <th>13</th>\n",
       "      <td>2013</td>\n",
       "      <td>103332</td>\n",
       "      <td>Powhatan Mine</td>\n",
       "      <td>140521</td>\n",
       "      <td>61394</td>\n",
       "    </tr>\n",
       "    <tr>\n",
       "      <th>18</th>\n",
       "      <td>2013</td>\n",
       "      <td>102976</td>\n",
       "      <td>Piney Woods Preparation Plant</td>\n",
       "      <td>0</td>\n",
       "      <td>14828</td>\n",
       "    </tr>\n",
       "    <tr>\n",
       "      <th>19</th>\n",
       "      <td>2013</td>\n",
       "      <td>102976</td>\n",
       "      <td>Piney Woods Preparation Plant</td>\n",
       "      <td>0</td>\n",
       "      <td>23193</td>\n",
       "    </tr>\n",
       "    <tr>\n",
       "      <th>46</th>\n",
       "      <td>2013</td>\n",
       "      <td>103321</td>\n",
       "      <td>Poplar Springs</td>\n",
       "      <td>189370</td>\n",
       "      <td>76366</td>\n",
       "    </tr>\n",
       "  </tbody>\n",
       "</table>\n",
       "</div>"
      ],
      "text/plain": [
       "    Year  MSHA ID                      Mine_Name  Production  Labor_Hours\n",
       "13  2013   103332                  Powhatan Mine      140521        61394\n",
       "18  2013   102976  Piney Woods Preparation Plant           0        14828\n",
       "19  2013   102976  Piney Woods Preparation Plant           0        23193\n",
       "46  2013   103321                 Poplar Springs      189370        76366"
      ]
     },
     "execution_count": 224,
     "metadata": {},
     "output_type": "execute_result"
    }
   ],
   "source": [
    "df = pd.read_excel('/Users/Santy/Downloads/coalpublic2013.xlsx')    \n",
    "df[df[\"Mine_Name\"].map(lambda x: x.startswith('P'))].head()"
   ]
  },
  {
   "cell_type": "markdown",
   "metadata": {},
   "source": [
    "### Q119. Write a Pandas program to import excel data (employee.xlsx ) into a Pandas dataframe and find the list of employees where hire_date> 01-01-07."
   ]
  },
  {
   "cell_type": "code",
   "execution_count": 226,
   "metadata": {},
   "outputs": [
    {
     "data": {
      "text/html": [
       "<div>\n",
       "<style scoped>\n",
       "    .dataframe tbody tr th:only-of-type {\n",
       "        vertical-align: middle;\n",
       "    }\n",
       "\n",
       "    .dataframe tbody tr th {\n",
       "        vertical-align: top;\n",
       "    }\n",
       "\n",
       "    .dataframe thead th {\n",
       "        text-align: right;\n",
       "    }\n",
       "</style>\n",
       "<table border=\"1\" class=\"dataframe\">\n",
       "  <thead>\n",
       "    <tr style=\"text-align: right;\">\n",
       "      <th></th>\n",
       "      <th>emp_id</th>\n",
       "      <th>first_name</th>\n",
       "      <th>last_name</th>\n",
       "      <th>hire_date</th>\n",
       "    </tr>\n",
       "  </thead>\n",
       "  <tbody>\n",
       "    <tr>\n",
       "      <th>4</th>\n",
       "      <td>104</td>\n",
       "      <td>Bruce</td>\n",
       "      <td>Ernst</td>\n",
       "      <td>2007-05-21</td>\n",
       "    </tr>\n",
       "    <tr>\n",
       "      <th>7</th>\n",
       "      <td>107</td>\n",
       "      <td>Diana</td>\n",
       "      <td>Lorentz</td>\n",
       "      <td>2007-02-07</td>\n",
       "    </tr>\n",
       "    <tr>\n",
       "      <th>13</th>\n",
       "      <td>113</td>\n",
       "      <td>Luis</td>\n",
       "      <td>Popp</td>\n",
       "      <td>2007-12-07</td>\n",
       "    </tr>\n",
       "    <tr>\n",
       "      <th>19</th>\n",
       "      <td>119</td>\n",
       "      <td>Karen</td>\n",
       "      <td>Colmenares</td>\n",
       "      <td>2007-08-10</td>\n",
       "    </tr>\n",
       "  </tbody>\n",
       "</table>\n",
       "</div>"
      ],
      "text/plain": [
       "    emp_id first_name   last_name  hire_date\n",
       "4      104      Bruce       Ernst 2007-05-21\n",
       "7      107      Diana     Lorentz 2007-02-07\n",
       "13     113       Luis        Popp 2007-12-07\n",
       "19     119      Karen  Colmenares 2007-08-10"
      ]
     },
     "execution_count": 226,
     "metadata": {},
     "output_type": "execute_result"
    }
   ],
   "source": [
    "df = pd.read_excel('/Users/Santy/Downloads/employee.xlsx')\n",
    "df[df['hire_date'] >='20070101']"
   ]
  },
  {
   "cell_type": "markdown",
   "metadata": {},
   "source": [
    "### Q120. Write a Pandas program to import excel data (employee.xlsx ) into a Pandas dataframe and find a list of the employees of a specified year.\n",
    "\n"
   ]
  },
  {
   "cell_type": "code",
   "execution_count": 228,
   "metadata": {},
   "outputs": [
    {
     "data": {
      "text/html": [
       "<div>\n",
       "<style scoped>\n",
       "    .dataframe tbody tr th:only-of-type {\n",
       "        vertical-align: middle;\n",
       "    }\n",
       "\n",
       "    .dataframe tbody tr th {\n",
       "        vertical-align: top;\n",
       "    }\n",
       "\n",
       "    .dataframe thead th {\n",
       "        text-align: right;\n",
       "    }\n",
       "</style>\n",
       "<table border=\"1\" class=\"dataframe\">\n",
       "  <thead>\n",
       "    <tr style=\"text-align: right;\">\n",
       "      <th></th>\n",
       "      <th>emp_id</th>\n",
       "      <th>first_name</th>\n",
       "      <th>last_name</th>\n",
       "    </tr>\n",
       "    <tr>\n",
       "      <th>hire_date</th>\n",
       "      <th></th>\n",
       "      <th></th>\n",
       "      <th></th>\n",
       "    </tr>\n",
       "  </thead>\n",
       "  <tbody>\n",
       "    <tr>\n",
       "      <th>2007-05-21</th>\n",
       "      <td>104</td>\n",
       "      <td>Bruce</td>\n",
       "      <td>Ernst</td>\n",
       "    </tr>\n",
       "    <tr>\n",
       "      <th>2007-02-07</th>\n",
       "      <td>107</td>\n",
       "      <td>Diana</td>\n",
       "      <td>Lorentz</td>\n",
       "    </tr>\n",
       "    <tr>\n",
       "      <th>2007-12-07</th>\n",
       "      <td>113</td>\n",
       "      <td>Luis</td>\n",
       "      <td>Popp</td>\n",
       "    </tr>\n",
       "    <tr>\n",
       "      <th>2007-08-10</th>\n",
       "      <td>119</td>\n",
       "      <td>Karen</td>\n",
       "      <td>Colmenares</td>\n",
       "    </tr>\n",
       "  </tbody>\n",
       "</table>\n",
       "</div>"
      ],
      "text/plain": [
       "            emp_id first_name   last_name\n",
       "hire_date                                \n",
       "2007-05-21     104      Bruce       Ernst\n",
       "2007-02-07     107      Diana     Lorentz\n",
       "2007-12-07     113       Luis        Popp\n",
       "2007-08-10     119      Karen  Colmenares"
      ]
     },
     "execution_count": 228,
     "metadata": {},
     "output_type": "execute_result"
    }
   ],
   "source": [
    "df = pd.read_excel('/Users/Santy/Downloads/employee.xlsx')\n",
    "df2 = df.set_index(['hire_date'])\n",
    "result = df2[\"2007\"]\n",
    "result"
   ]
  },
  {
   "cell_type": "markdown",
   "metadata": {},
   "source": [
    "### Q121. Write a pandas program to import three datasheets from a given excel data (coalpublic2013.xlsx ) in to a single dataframe.\n",
    " \n",
    "     Note: Structure of three datasheets are same.\n"
   ]
  },
  {
   "cell_type": "code",
   "execution_count": 233,
   "metadata": {},
   "outputs": [
    {
     "name": "stdout",
     "output_type": "stream",
     "text": [
      "    emp_id   first_name    last_name  hire_date\n",
      "0      100       Steven         King 2003-06-17\n",
      "1      101        Neena      Kochhar 2005-09-21\n",
      "2      102          Lex      De Haan 2001-01-13\n",
      "3      103    Alexander       Hunold 2006-01-03\n",
      "4      104        Bruce        Ernst 2007-05-21\n",
      "5      105        David       Austin 2005-06-25\n",
      "6      106        Valli    Pataballa 2006-02-05\n",
      "7      107        Diana      Lorentz 2007-02-07\n",
      "8      108        Nancy    Greenberg 2002-08-17\n",
      "9      109       Daniel       Faviet 2002-08-16\n",
      "10     110         John         Chen 2005-09-28\n",
      "11     111       Ismael      Sciarra 2005-09-30\n",
      "12     112  Jose Manuel        Urman 2006-03-07\n",
      "13     113         Luis         Popp 2007-12-07\n",
      "14     114          Den     Raphaely 2002-12-07\n",
      "15     115    Alexander         Khoo 2003-05-18\n",
      "16     116       Shelli        Baida 2005-12-24\n",
      "17     117        Sigal       Tobias 2005-07-24\n",
      "18     118          Guy       Himuro 2006-11-15\n",
      "19     119        Karen   Colmenares 2007-08-10\n",
      "0      120      Matthew        Weiss 2004-07-18\n",
      "1      121         Adam        Fripp 2005-04-10\n",
      "2      122        Payam     Kaufling 2003-05-01\n",
      "3      123       Shanta      Vollman 2005-10-10\n",
      "4      124        Kevin      Mourgos 2007-11-16\n",
      "5      125        Julia        Nayer 2005-07-16\n",
      "6      126        Irene  Mikkilineni 2006-09-28\n",
      "7      127        James       Landry 2007-01-14\n",
      "8      128       Steven       Markle 2008-03-08\n",
      "9      129        Laura       Bissot 2005-08-20\n",
      "10     130        Mozhe     Atkinson 2005-10-30\n",
      "11     131        James       Marlow 2005-02-16\n",
      "12     132           TJ        Olson 2007-04-10\n",
      "13     133        Jason       Mallin 2004-06-14\n",
      "14     134      Michael       Rogers 2006-08-26\n",
      "15     135           Ki          Gee 2007-12-12\n",
      "16     136        Hazel   Philtanker 2008-02-06\n",
      "17     137       Renske       Ladwig 2003-07-14\n",
      "18     138      Stephen       Stiles 2005-10-26\n",
      "0      141       Trenna         Rajs 2003-10-17\n",
      "1      142       Curtis       Davies 2005-01-29\n",
      "2      143      Randall        Matos 2006-03-15\n",
      "3      144        Peter       Vargas 2006-07-09\n",
      "4      145         John      Russell 2004-10-01\n",
      "5      146        Karen     Partners 2005-01-05\n",
      "6      147      Alberto    Errazuriz 2005-03-10\n",
      "7      148       Gerald    Cambrault 2007-10-15\n",
      "8      149        Eleni      Zlotkey 2008-01-29\n"
     ]
    }
   ],
   "source": [
    "df1 = pd.read_excel('/Users/Santy/Downloads/employee.xlsx',sheet_name=0)\n",
    "df2 = pd.read_excel('/Users/Santy/Downloads/employee.xlsx',sheet_name=1)\n",
    "df3 = pd.read_excel('/Users/Santy/Downloads/employee.xlsx',sheet_name=2)\n",
    "df = pd.concat([df1, df2, df3])\n",
    "print(df)"
   ]
  },
  {
   "cell_type": "markdown",
   "metadata": {},
   "source": [
    "### Q 122. Write a pandas program to import three datasheets from a given excel data (employee.xlsx ) into a single data frame and export the result into new Excel file.\n",
    "\n",
    "        Note: Structure of three datasheets are same."
   ]
  },
  {
   "cell_type": "code",
   "execution_count": 242,
   "metadata": {},
   "outputs": [],
   "source": [
    "import pandas as pd\n",
    "import numpy as np\n",
    "\n",
    "df1 = pd.read_excel('/Users/Santy/Downloads/employee.xlsx',sheet_name=0)\n",
    "df2 = pd.read_excel('/Users/Santy/Downloads/employee.xlsx',sheet_name=1)\n",
    "df3 = pd.read_excel('/Users/Santy/Downloads/employee.xlsx',sheet_name=2)\n",
    "df = pd.concat([df1, df2, df3])\n",
    "df.to_excel('/Users/Santy/Downloads/output.xlsx', index=False)"
   ]
  },
  {
   "cell_type": "markdown",
   "metadata": {},
   "source": [
    "### Q123. Write a pandas program to create the Pivot table with multiple indexes from the data set of the titanic.csv.\n",
    " "
   ]
  },
  {
   "cell_type": "code",
   "execution_count": 243,
   "metadata": {},
   "outputs": [
    {
     "name": "stdout",
     "output_type": "stream",
     "text": [
      "              Unnamed: 15  adult_male  alone      fare  parch  pclass  sibsp  survived\n",
      "sex    age                                                                            \n",
      "female 0.75           0.0         0.0    0.0   38.5166      2       6      4         2\n",
      "       1.00           0.0         0.0    0.0   26.8750      3       6      1         2\n",
      "       2.00           0.0         0.0    0.0  259.4750      9      15      9         2\n",
      "       3.00           0.0         0.0    0.0   62.6542      3       5      4         1\n",
      "       4.00           0.0         0.0    0.0  114.1417      6      13      4         5\n",
      "       5.00           0.0         0.0    1.0   90.8708      5      11      7         4\n",
      "       6.00           0.0         0.0    0.0   64.2750      3       5      4         1\n",
      "       7.00           0.0         0.0    0.0   26.2500      2       2      0         1\n",
      "       8.00           0.0         0.0    0.0   47.3250      3       5      3         1\n",
      "       9.00           0.0         0.0    0.0  108.7958      7      12     10         0\n",
      "       10.00          0.0         0.0    0.0   24.1500      2       3      0         0\n",
      "       11.00          0.0         0.0    0.0   31.2750      2       3      4         0\n",
      "       13.00          0.0         0.0    1.0   26.7292      1       5      0         2\n",
      "       14.00          0.0         0.0    1.0  169.1667      2       9      3         3\n",
      "       14.50          0.0         0.0    0.0   14.4542      0       3      1         0\n",
      "       15.00          0.0         0.0    2.0  241.0459      1      10      1         4\n",
      "       16.00          0.0         0.0    3.0  246.2625      4      12      5         5\n",
      "       17.00          0.0         0.0    3.0  210.7833      2      12      6         5\n",
      "       18.00          0.0         0.0    4.0  697.0167      9      31      6         8\n",
      "       19.00          0.0         0.0    3.0  215.0959      2      13      3         7\n",
      "       20.00          0.0         0.0    1.0   18.4875      0       6      1         0\n",
      "       21.00          0.0         0.0    4.0  410.4333      4      16      5         4\n",
      "       22.00          0.0         0.0    7.0  444.1084      6      26      3        10\n",
      "       23.00          0.0         0.0    3.0  405.5417      2      10      4         4\n",
      "       24.00          0.0         0.0    7.0  772.1708     15      31     10        14\n",
      "       25.00          0.0         0.0    1.0  223.2500      4      11      3         2\n",
      "       26.00          0.0         0.0    3.0  136.7292      1      12      2         3\n",
      "       27.00          0.0         0.0    2.0   76.8916      3      15      2         5\n",
      "       28.00          0.0         0.0    4.0  110.9458      1      16      3         5\n",
      "       29.00          0.0         0.0    2.0  320.6208      7      16      3         5\n",
      "       30.00          0.0         0.0    9.0  465.9917      1      20      4         9\n",
      "       30.50          0.0         0.0    1.0    7.7500      0       3      0         0\n",
      "       31.00          0.0         0.0    2.0  359.4542      4      16      4         5\n",
      "       32.00          0.0         0.0    2.0  104.7917      1       6      1         2\n",
      "       32.50          0.0         0.0    1.0   13.0000      0       2      0         1\n",
      "       33.00          0.0         0.0    1.0  299.2000      4      10      6         6\n",
      "       34.00          0.0         0.0    2.0   79.0000      2       8      1         4\n",
      "       35.00          0.0         0.0    3.0  967.7875      1      11      5         8\n",
      "       36.00          0.0         0.0    3.0  396.0333      4      12      3         7\n",
      "       37.00          0.0         0.0    1.0    9.5875      0       3      0         0\n",
      "       38.00          0.0         0.0    3.0  423.1958      5       8      2         4\n",
      "       39.00          0.0         0.0    0.0  389.9916     13      10      5         4\n",
      "       40.00          0.0         0.0    3.0  365.1875      2      11      3         5\n",
      "       41.00          0.0         0.0    1.0  213.9000      8       9      0         2\n",
      "       42.00          0.0         0.0    2.0  266.5250      0       5      1         3\n",
      "       43.00          0.0         0.0    0.0  258.2375      7       4      1         1\n",
      "       44.00          0.0         0.0    1.0  111.7000      1       4      1         2\n",
      "       45.00          0.0         0.0    2.0  254.7209      7      14      3         3\n",
      "       47.00          0.0         0.0    0.0   67.0542      1       4      2         1\n",
      "       48.00          0.0         0.0    1.0  164.9042      5       7      3         3\n",
      "       49.00          0.0         0.0    1.0  102.6584      0       2      1         2\n",
      "       50.00          0.0         0.0    3.0  323.2333      2       8      0         4\n",
      "       51.00          0.0         0.0    0.0   77.9583      0       1      1         1\n",
      "       52.00          0.0         0.0    0.0  171.7667      1       2      2         2\n",
      "       53.00          0.0         0.0    0.0   51.4792      0       1      2         1\n",
      "       54.00          0.0         0.0    0.0  160.6667      3       4      3         3\n",
      "       55.00          0.0         0.0    1.0   16.0000      0       2      0         1\n",
      "       56.00          0.0         0.0    0.0   83.1583      1       1      0         1\n",
      "       57.00          0.0         0.0    1.0   10.5000      0       2      0         0\n",
      "       58.00          0.0         0.0    2.0  326.5333      1       3      0         3\n",
      "       60.00          0.0         0.0    0.0   75.2500      0       1      1         1\n",
      "       62.00          0.0         0.0    1.0   80.0000      0       1      0         1\n",
      "       63.00          0.0         0.0    1.0   87.5458      0       4      1         2\n",
      "male   0.42           0.0         0.0    0.0    8.5167      1       3      0         1\n",
      "       0.67           0.0         0.0    0.0   14.5000      1       2      1         1\n",
      "       0.83           0.0         0.0    0.0   47.7500      3       4      1         2\n",
      "       0.92           0.0         0.0    0.0  151.5500      2       1      1         1\n",
      "       1.00           0.0         0.0    0.0  183.1667      8      13     12         3\n",
      "       2.00           0.0         0.0    0.0  115.8875      4      11     12         1\n",
      "       3.00           0.0         0.0    0.0   92.0375      5      10      7         4\n",
      "       4.00           0.0         0.0    0.0  181.2916      8      13     12         2\n",
      "       6.00           0.0         0.0    0.0   12.4750      1       3      0         1\n",
      "       7.00           0.0         0.0    0.0   68.8125      2       6      8         0\n",
      "       8.00           0.0         0.0    0.0   65.8750      2       5      5         1\n",
      "       9.00           0.0         0.0    0.0  114.7125      7      12     10         2\n",
      "       10.00          0.0         0.0    0.0   27.9000      2       3      3         0\n",
      "       11.00          0.0         0.0    1.0  185.6875      4       7      6         1\n",
      "       12.00          0.0         0.0    0.0   11.2417      0       3      1         1\n",
      "       14.00          0.0         0.0    0.0   86.5875      3       6      9         0\n",
      "       15.00          0.0         0.0    0.0    7.2292      1       3      1         0\n",
      "       16.00          0.0        11.0    7.0  191.4042      5      31      8         1\n",
      "       17.00          0.0         7.0    4.0  158.2792      3      19      2         1\n",
      "       18.00          0.0        13.0    9.0  292.6333      2      33      4         1\n",
      "       19.00          0.0        18.0   15.0  481.6415      3      46      5         2\n",
      "       20.00          0.0        13.0   11.0  110.8751      1      39      2         3\n",
      "       20.50          0.0         1.0    1.0    7.2500      0       3      0         0\n",
      "       21.00          0.0        17.0   14.0  347.1416      1      46      3         1\n",
      "       22.00          0.0        15.0   14.0  244.5207      0      43      1         1\n",
      "       23.00          0.0        10.0    8.0  164.3791      2      22      2         1\n",
      "       23.50          0.0         1.0    1.0    7.2292      0       3      0         0\n",
      "       24.00          0.0        14.0   10.0  518.8999      1      35      5         1\n",
      "       24.50          0.0         1.0    1.0    8.0500      0       3      0         0\n",
      "       25.00          0.0        18.0   11.0  338.3126      2      45      7         4\n",
      "       26.00          0.0        13.0    9.0  206.8333      2      36      5         3\n",
      "       27.00          0.0        12.0    9.0  469.6125      2      25      2         6\n",
      "       28.00          0.0        18.0   14.0  414.5582      1      42      4         2\n",
      "       28.50          0.0         2.0    2.0   23.3292      0       6      0         0\n",
      "       29.00          0.0        13.0    9.0  221.1957      0      32      4         3\n",
      "       30.00          0.0        14.0   12.0  172.5500      0      35      2         1\n",
      "       30.50          0.0         1.0    1.0    8.0500      0       3      0         0\n",
      "       31.00          0.0        10.0    6.0  269.7000      2      20      4         3\n",
      "       32.00          0.0        15.0   12.0  333.0291      0      40      4         7\n",
      "       32.50          0.0         1.0    0.0   30.0708      0       2      1         0\n",
      "       33.00          0.0         9.0    8.0   88.1833      1      24      1         0\n",
      "       34.00          0.0        11.0    7.0  170.5458      1      25      4         2\n",
      "       34.50          0.0         1.0    1.0    6.4375      0       3      0         0\n",
      "       35.00          0.0        10.0   10.0  639.8375      0      22      0         3\n",
      "       36.00          0.0        15.0    9.0  923.1958      6      29      5         4\n",
      "       36.50          0.0         1.0    0.0   26.0000      2       2      0         0\n",
      "       37.00          0.0         5.0    0.0  169.2792      2       8      5         1\n",
      "       38.00          0.0         6.0    4.0  267.0708      1      12      1         1\n",
      "       39.00          0.0         8.0    7.0  123.2750      5      19      1         1\n",
      "       40.00          0.0         7.0    5.0  117.2416      5      15      2         1\n",
      "       40.50          0.0         2.0    1.0   22.2500      2       6      0         0\n",
      "       41.00          0.0         2.0    1.0   21.2333      0       6      2         0\n",
      "       42.00          0.0        10.0    6.0  216.1084      1      21      3         3\n",
      "       43.00          0.0         3.0    2.0   40.7500      1       8      1         0\n",
      "       44.00          0.0         6.0    3.0  156.1250      1      15      3         1\n",
      "       45.00          0.0         6.0    5.0  187.1000      0      10      1         2\n",
      "       45.50          0.0         2.0    2.0   35.7250      0       4      0         0\n",
      "       46.00          0.0         3.0    2.0  166.3750      0       4      1         0\n",
      "       47.00          0.0         7.0    7.0  181.3583      0      12      0         0\n",
      "       48.00          0.0         5.0    3.0  176.1334      0       8      2         3\n",
      "       49.00          0.0         4.0    1.0  256.9167      1       6      3         2\n",
      "       50.00          0.0         5.0    2.0  317.0250      0       8      4         1\n",
      "       51.00          0.0         6.0    5.0  123.3084      1      13      0         1\n",
      "       52.00          0.0         4.0    3.0  136.6500      1       6      1         1\n",
      "       54.00          0.0         5.0    3.0  195.1500      1       8      1         0\n",
      "       55.00          0.0         1.0    1.0   30.5000      0       1      0         0\n",
      "       55.50          0.0         1.0    1.0    8.0500      0       3      0         0\n",
      "       56.00          0.0         3.0    3.0   92.7458      0       3      0         1\n",
      "       57.00          0.0         1.0    1.0   12.3500      0       2      0         0\n",
      "       58.00          0.0         2.0    1.0  142.9750      2       2      0         0\n",
      "       59.00          0.0         2.0    2.0   20.7500      0       5      0         0\n",
      "       60.00          0.0         3.0    1.0  144.7500      2       4      2         1\n",
      "       61.00          0.0         3.0    3.0   72.0583      0       5      0         0\n",
      "       62.00          0.0         3.0    3.0   63.6000      0       4      0         1\n",
      "       64.00          0.0         2.0    1.0  289.0000      4       2      1         0\n",
      "       65.00          0.0         3.0    2.0   96.2792      1       5      0         0\n",
      "       66.00          0.0         1.0    1.0   10.5000      0       2      0         0\n",
      "       70.00          0.0         2.0    1.0   81.5000      1       3      1         0\n",
      "       70.50          0.0         1.0    1.0    7.7500      0       3      0         0\n",
      "       71.00          0.0         2.0    2.0   84.1584      0       2      0         0\n",
      "       74.00          0.0         1.0    1.0    7.7750      0       3      0         0\n",
      "       80.00          0.0         1.0    1.0   30.0000      0       1      0         1\n"
     ]
    }
   ],
   "source": [
    "df = pd.read_csv('/Users/Santy/Downloads/titanic.csv')\n",
    "result = pd.pivot_table(df, index = [\"sex\",\"age\"], aggfunc=np.sum)\n",
    "print(result)"
   ]
  },
  {
   "cell_type": "markdown",
   "metadata": {},
   "source": [
    "### Q124. Write a Pandas program to create the Pivot table and find survival rate by gender?\n",
    "\n"
   ]
  },
  {
   "cell_type": "code",
   "execution_count": 244,
   "metadata": {},
   "outputs": [
    {
     "name": "stdout",
     "output_type": "stream",
     "text": [
      "class            First    Second     Third\n",
      "sex    age                                \n",
      "female 0.75        NaN       NaN  1.000000\n",
      "       1.00        NaN       NaN  1.000000\n",
      "       2.00   0.000000  1.000000  0.250000\n",
      "       3.00        NaN  1.000000  0.000000\n",
      "       4.00        NaN  1.000000  1.000000\n",
      "       5.00        NaN  1.000000  1.000000\n",
      "       6.00        NaN  1.000000  0.000000\n",
      "       7.00        NaN  1.000000       NaN\n",
      "       8.00        NaN  1.000000  0.000000\n",
      "       9.00        NaN       NaN  0.000000\n",
      "       10.00       NaN       NaN  0.000000\n",
      "       11.00       NaN       NaN  0.000000\n",
      "       13.00       NaN  1.000000  1.000000\n",
      "       14.00  1.000000  1.000000  0.500000\n",
      "       14.50       NaN       NaN  0.000000\n",
      "       15.00  1.000000       NaN  1.000000\n",
      "       16.00  1.000000       NaN  0.666667\n",
      "       17.00  1.000000  1.000000  0.500000\n",
      "       18.00  1.000000  1.000000  0.375000\n",
      "       19.00  1.000000  1.000000  1.000000\n",
      "       20.00       NaN       NaN  0.000000\n",
      "       21.00  1.000000  1.000000  0.250000\n",
      "       22.00  1.000000  1.000000  0.666667\n",
      "       23.00  1.000000  1.000000  0.500000\n",
      "       24.00  1.000000  0.857143  0.750000\n",
      "       25.00  0.000000  1.000000  0.000000\n",
      "       26.00  1.000000  0.000000  0.666667\n",
      "       27.00       NaN  0.666667  1.000000\n",
      "       28.00       NaN  1.000000  0.000000\n",
      "       29.00  1.000000  1.000000  0.333333\n",
      "       30.00  1.000000  1.000000  0.333333\n",
      "       30.50       NaN       NaN  0.000000\n",
      "       31.00  1.000000  1.000000  0.500000\n",
      "       32.00  1.000000  1.000000  0.000000\n",
      "       32.50       NaN  1.000000       NaN\n",
      "       33.00  1.000000  1.000000  1.000000\n",
      "       34.00       NaN  1.000000       NaN\n",
      "       35.00  1.000000  1.000000  1.000000\n",
      "       36.00  1.000000  1.000000  1.000000\n",
      "       37.00       NaN       NaN  0.000000\n",
      "       38.00  1.000000  0.000000  1.000000\n",
      "       39.00  1.000000       NaN  0.000000\n",
      "       40.00  1.000000  1.000000  0.000000\n",
      "       41.00  1.000000  1.000000  0.000000\n",
      "       42.00  1.000000  1.000000       NaN\n",
      "       43.00  1.000000       NaN  0.000000\n",
      "       44.00  1.000000  0.000000       NaN\n",
      "       45.00  1.000000  1.000000  0.000000\n",
      "       47.00  1.000000       NaN  0.000000\n",
      "       48.00  1.000000  1.000000  0.000000\n",
      "       49.00  1.000000       NaN       NaN\n",
      "       50.00  0.500000  1.000000       NaN\n",
      "       51.00  1.000000       NaN       NaN\n",
      "       52.00  1.000000       NaN       NaN\n",
      "       53.00  1.000000       NaN       NaN\n",
      "       54.00  1.000000  1.000000       NaN\n",
      "       55.00       NaN  1.000000       NaN\n",
      "       56.00  1.000000       NaN       NaN\n",
      "       57.00       NaN  0.000000       NaN\n",
      "       58.00  1.000000       NaN       NaN\n",
      "       60.00  1.000000       NaN       NaN\n",
      "       62.00  1.000000       NaN       NaN\n",
      "       63.00  1.000000       NaN  1.000000\n",
      "male   0.42        NaN       NaN  1.000000\n",
      "       0.67        NaN  1.000000       NaN\n",
      "       0.83        NaN  1.000000       NaN\n",
      "       0.92   1.000000       NaN       NaN\n",
      "       1.00        NaN  1.000000  0.333333\n",
      "       2.00        NaN  1.000000  0.000000\n",
      "       3.00        NaN  1.000000  1.000000\n",
      "       4.00   1.000000       NaN  0.250000\n",
      "       6.00        NaN       NaN  1.000000\n",
      "       7.00        NaN       NaN  0.000000\n",
      "       8.00        NaN  1.000000  0.000000\n",
      "       9.00        NaN       NaN  0.500000\n",
      "       10.00       NaN       NaN  0.000000\n",
      "       11.00  1.000000       NaN  0.000000\n",
      "       12.00       NaN       NaN  1.000000\n",
      "       14.00       NaN       NaN  0.000000\n",
      "       15.00       NaN       NaN  0.000000\n",
      "       16.00       NaN  0.000000  0.111111\n",
      "       17.00  1.000000       NaN  0.000000\n",
      "       18.00  0.000000  0.000000  0.125000\n",
      "       19.00  0.000000  0.250000  0.083333\n",
      "       20.00       NaN       NaN  0.230769\n",
      "       20.50       NaN       NaN  0.000000\n",
      "       21.00  0.000000  0.000000  0.076923\n",
      "       22.00  0.000000       NaN  0.071429\n",
      "       23.00  1.000000  0.000000  0.000000\n",
      "       23.50       NaN       NaN  0.000000\n",
      "       24.00  0.000000  0.000000  0.111111\n",
      "       24.50       NaN       NaN  0.000000\n",
      "       25.00  1.000000  0.000000  0.181818\n",
      "       26.00  1.000000  0.000000  0.181818\n",
      "       27.00  0.750000  0.000000  0.600000\n",
      "       28.00  0.500000  0.000000  0.000000\n",
      "       28.50       NaN       NaN  0.000000\n",
      "       29.00  0.000000  0.000000  0.375000\n",
      "       30.00  0.000000  0.000000  0.125000\n",
      "       30.50       NaN       NaN  0.000000\n",
      "       31.00  0.333333  0.250000  0.333333\n",
      "       32.00  1.000000  0.333333  0.454545\n",
      "       32.50       NaN  0.000000       NaN\n",
      "       33.00  0.000000  0.000000  0.000000\n",
      "       34.00  1.000000  0.166667  0.000000\n",
      "       34.50       NaN       NaN  0.000000\n",
      "       35.00  1.000000  0.000000  0.000000\n",
      "       36.00  0.666667  0.000000  0.000000\n",
      "       36.50       NaN  0.000000       NaN\n",
      "       37.00  0.333333  0.000000  0.000000\n",
      "       38.00  0.333333       NaN  0.000000\n",
      "       39.00  0.000000  0.000000  0.250000\n",
      "       40.00  0.333333       NaN  0.000000\n",
      "       40.50       NaN       NaN  0.000000\n",
      "       41.00       NaN       NaN  0.000000\n",
      "       42.00  0.666667  0.333333  0.000000\n",
      "       43.00       NaN  0.000000  0.000000\n",
      "       44.00  0.000000  0.000000  0.250000\n",
      "       45.00  0.250000       NaN  0.500000\n",
      "       45.50  0.000000       NaN  0.000000\n",
      "       46.00  0.000000  0.000000       NaN\n",
      "       47.00  0.000000  0.000000  0.000000\n",
      "       48.00  1.000000  0.000000  0.000000\n",
      "       49.00  0.666667       NaN  0.000000\n",
      "       50.00  0.333333  0.000000  0.000000\n",
      "       51.00  0.500000  0.000000  0.000000\n",
      "       52.00  0.500000  0.000000       NaN\n",
      "       54.00  0.000000  0.000000       NaN\n",
      "       55.00  0.000000       NaN       NaN\n",
      "       55.50       NaN       NaN  0.000000\n",
      "       56.00  0.333333       NaN       NaN\n",
      "       57.00       NaN  0.000000       NaN\n",
      "       58.00  0.000000       NaN       NaN\n",
      "       59.00       NaN  0.000000  0.000000\n",
      "       60.00  0.500000  0.000000       NaN\n",
      "       61.00  0.000000       NaN  0.000000\n",
      "       62.00  0.000000  1.000000       NaN\n",
      "       64.00  0.000000       NaN       NaN\n",
      "       65.00  0.000000       NaN  0.000000\n",
      "       66.00       NaN  0.000000       NaN\n",
      "       70.00  0.000000  0.000000       NaN\n",
      "       70.50       NaN       NaN  0.000000\n",
      "       71.00  0.000000       NaN       NaN\n",
      "       74.00       NaN       NaN  0.000000\n",
      "       80.00  1.000000       NaN       NaN\n"
     ]
    }
   ],
   "source": [
    "df = pd.read_csv('/Users/Santy/Downloads/titanic.csv')\n",
    "result  =  df.pivot_table('survived', index=['sex','age'], columns='class')\n",
    "print(result)"
   ]
  },
  {
   "cell_type": "markdown",
   "metadata": {},
   "source": [
    "### Q125. Write a pandas program to make partition each of the passengers into 4 categories based on their age.\n",
    "\n",
    "    Note: Age categories- (0, 10), (10, 30), (30, 60), (60, 80)\n"
   ]
  },
  {
   "cell_type": "code",
   "execution_count": 246,
   "metadata": {},
   "outputs": [
    {
     "name": "stdout",
     "output_type": "stream",
     "text": [
      "0      (10.0, 30.0]\n",
      "1      (30.0, 60.0]\n",
      "2      (10.0, 30.0]\n",
      "3      (30.0, 60.0]\n",
      "4      (30.0, 60.0]\n",
      "5               NaN\n",
      "6      (30.0, 60.0]\n",
      "7       (0.0, 10.0]\n",
      "8      (10.0, 30.0]\n",
      "9      (10.0, 30.0]\n",
      "10      (0.0, 10.0]\n",
      "11     (30.0, 60.0]\n",
      "12     (10.0, 30.0]\n",
      "13     (30.0, 60.0]\n",
      "14     (10.0, 30.0]\n",
      "15     (30.0, 60.0]\n",
      "16      (0.0, 10.0]\n",
      "17              NaN\n",
      "18     (30.0, 60.0]\n",
      "19              NaN\n",
      "20     (30.0, 60.0]\n",
      "21     (30.0, 60.0]\n",
      "22     (10.0, 30.0]\n",
      "23     (10.0, 30.0]\n",
      "24      (0.0, 10.0]\n",
      "25     (30.0, 60.0]\n",
      "26              NaN\n",
      "27     (10.0, 30.0]\n",
      "28              NaN\n",
      "29              NaN\n",
      "30     (30.0, 60.0]\n",
      "31              NaN\n",
      "32              NaN\n",
      "33     (60.0, 80.0]\n",
      "34     (10.0, 30.0]\n",
      "35     (30.0, 60.0]\n",
      "36              NaN\n",
      "37     (10.0, 30.0]\n",
      "38     (10.0, 30.0]\n",
      "39     (10.0, 30.0]\n",
      "40     (30.0, 60.0]\n",
      "41     (10.0, 30.0]\n",
      "42              NaN\n",
      "43      (0.0, 10.0]\n",
      "44     (10.0, 30.0]\n",
      "45              NaN\n",
      "46              NaN\n",
      "47              NaN\n",
      "48              NaN\n",
      "49     (10.0, 30.0]\n",
      "50      (0.0, 10.0]\n",
      "51     (10.0, 30.0]\n",
      "52     (30.0, 60.0]\n",
      "53     (10.0, 30.0]\n",
      "54     (60.0, 80.0]\n",
      "55              NaN\n",
      "56     (10.0, 30.0]\n",
      "57     (10.0, 30.0]\n",
      "58      (0.0, 10.0]\n",
      "59     (10.0, 30.0]\n",
      "60     (10.0, 30.0]\n",
      "61     (30.0, 60.0]\n",
      "62     (30.0, 60.0]\n",
      "63      (0.0, 10.0]\n",
      "64              NaN\n",
      "65              NaN\n",
      "66     (10.0, 30.0]\n",
      "67     (10.0, 30.0]\n",
      "68     (10.0, 30.0]\n",
      "69     (10.0, 30.0]\n",
      "70     (30.0, 60.0]\n",
      "71     (10.0, 30.0]\n",
      "72     (10.0, 30.0]\n",
      "73     (10.0, 30.0]\n",
      "74     (30.0, 60.0]\n",
      "75     (10.0, 30.0]\n",
      "76              NaN\n",
      "77              NaN\n",
      "78      (0.0, 10.0]\n",
      "79     (10.0, 30.0]\n",
      "80     (10.0, 30.0]\n",
      "81     (10.0, 30.0]\n",
      "82              NaN\n",
      "83     (10.0, 30.0]\n",
      "84     (10.0, 30.0]\n",
      "85     (30.0, 60.0]\n",
      "86     (10.0, 30.0]\n",
      "87              NaN\n",
      "88     (10.0, 30.0]\n",
      "89     (10.0, 30.0]\n",
      "90     (10.0, 30.0]\n",
      "91     (10.0, 30.0]\n",
      "92     (30.0, 60.0]\n",
      "93     (10.0, 30.0]\n",
      "94     (30.0, 60.0]\n",
      "95              NaN\n",
      "96     (60.0, 80.0]\n",
      "97     (10.0, 30.0]\n",
      "98     (30.0, 60.0]\n",
      "99     (30.0, 60.0]\n",
      "100    (10.0, 30.0]\n",
      "101             NaN\n",
      "102    (10.0, 30.0]\n",
      "103    (30.0, 60.0]\n",
      "104    (30.0, 60.0]\n",
      "105    (10.0, 30.0]\n",
      "106    (10.0, 30.0]\n",
      "107             NaN\n",
      "108    (30.0, 60.0]\n",
      "109             NaN\n",
      "110    (30.0, 60.0]\n",
      "111    (10.0, 30.0]\n",
      "112    (10.0, 30.0]\n",
      "113    (10.0, 30.0]\n",
      "114    (10.0, 30.0]\n",
      "115    (10.0, 30.0]\n",
      "116    (60.0, 80.0]\n",
      "117    (10.0, 30.0]\n",
      "118    (10.0, 30.0]\n",
      "119     (0.0, 10.0]\n",
      "120    (10.0, 30.0]\n",
      "121             NaN\n",
      "122    (30.0, 60.0]\n",
      "123    (30.0, 60.0]\n",
      "124    (30.0, 60.0]\n",
      "125    (10.0, 30.0]\n",
      "126             NaN\n",
      "127    (10.0, 30.0]\n",
      "128             NaN\n",
      "129    (30.0, 60.0]\n",
      "130    (30.0, 60.0]\n",
      "131    (10.0, 30.0]\n",
      "132    (30.0, 60.0]\n",
      "133    (10.0, 30.0]\n",
      "134    (10.0, 30.0]\n",
      "135    (10.0, 30.0]\n",
      "136    (10.0, 30.0]\n",
      "137    (30.0, 60.0]\n",
      "138    (10.0, 30.0]\n",
      "139    (10.0, 30.0]\n",
      "140             NaN\n",
      "141    (10.0, 30.0]\n",
      "142    (10.0, 30.0]\n",
      "143    (10.0, 30.0]\n",
      "144    (10.0, 30.0]\n",
      "145    (10.0, 30.0]\n",
      "146    (10.0, 30.0]\n",
      "147     (0.0, 10.0]\n",
      "148    (30.0, 60.0]\n",
      "149    (30.0, 60.0]\n",
      "150    (30.0, 60.0]\n",
      "151    (10.0, 30.0]\n",
      "152    (30.0, 60.0]\n",
      "153    (30.0, 60.0]\n",
      "154             NaN\n",
      "155    (30.0, 60.0]\n",
      "156    (10.0, 30.0]\n",
      "157    (10.0, 30.0]\n",
      "158             NaN\n",
      "159             NaN\n",
      "160    (30.0, 60.0]\n",
      "161    (30.0, 60.0]\n",
      "162    (10.0, 30.0]\n",
      "163    (10.0, 30.0]\n",
      "164     (0.0, 10.0]\n",
      "165     (0.0, 10.0]\n",
      "166             NaN\n",
      "167    (30.0, 60.0]\n",
      "168             NaN\n",
      "169    (10.0, 30.0]\n",
      "170    (60.0, 80.0]\n",
      "171     (0.0, 10.0]\n",
      "172     (0.0, 10.0]\n",
      "173    (10.0, 30.0]\n",
      "174    (30.0, 60.0]\n",
      "175    (10.0, 30.0]\n",
      "176             NaN\n",
      "177    (30.0, 60.0]\n",
      "178    (10.0, 30.0]\n",
      "179    (30.0, 60.0]\n",
      "180             NaN\n",
      "181             NaN\n",
      "182     (0.0, 10.0]\n",
      "183     (0.0, 10.0]\n",
      "184     (0.0, 10.0]\n",
      "185             NaN\n",
      "186             NaN\n",
      "187    (30.0, 60.0]\n",
      "188    (30.0, 60.0]\n",
      "189    (30.0, 60.0]\n",
      "190    (30.0, 60.0]\n",
      "191    (10.0, 30.0]\n",
      "192    (10.0, 30.0]\n",
      "193     (0.0, 10.0]\n",
      "194    (30.0, 60.0]\n",
      "195    (30.0, 60.0]\n",
      "196             NaN\n",
      "197    (30.0, 60.0]\n",
      "198             NaN\n",
      "199    (10.0, 30.0]\n",
      "200    (10.0, 30.0]\n",
      "201             NaN\n",
      "202    (30.0, 60.0]\n",
      "203    (30.0, 60.0]\n",
      "204    (10.0, 30.0]\n",
      "205     (0.0, 10.0]\n",
      "206    (30.0, 60.0]\n",
      "207    (10.0, 30.0]\n",
      "208    (10.0, 30.0]\n",
      "209    (30.0, 60.0]\n",
      "210    (10.0, 30.0]\n",
      "211    (30.0, 60.0]\n",
      "212    (10.0, 30.0]\n",
      "213    (10.0, 30.0]\n",
      "214             NaN\n",
      "215    (30.0, 60.0]\n",
      "216    (10.0, 30.0]\n",
      "217    (30.0, 60.0]\n",
      "218    (30.0, 60.0]\n",
      "219    (10.0, 30.0]\n",
      "220    (10.0, 30.0]\n",
      "221    (10.0, 30.0]\n",
      "222    (30.0, 60.0]\n",
      "223             NaN\n",
      "224    (30.0, 60.0]\n",
      "225    (10.0, 30.0]\n",
      "226    (10.0, 30.0]\n",
      "227    (10.0, 30.0]\n",
      "228    (10.0, 30.0]\n",
      "229             NaN\n",
      "230    (30.0, 60.0]\n",
      "231    (10.0, 30.0]\n",
      "232    (30.0, 60.0]\n",
      "233     (0.0, 10.0]\n",
      "234    (10.0, 30.0]\n",
      "235             NaN\n",
      "236    (30.0, 60.0]\n",
      "237     (0.0, 10.0]\n",
      "238    (10.0, 30.0]\n",
      "239    (30.0, 60.0]\n",
      "240             NaN\n",
      "241             NaN\n",
      "242    (10.0, 30.0]\n",
      "243    (10.0, 30.0]\n",
      "244    (10.0, 30.0]\n",
      "245    (30.0, 60.0]\n",
      "246    (10.0, 30.0]\n",
      "247    (10.0, 30.0]\n",
      "248    (30.0, 60.0]\n",
      "249    (30.0, 60.0]\n",
      "           ...     \n",
      "641    (10.0, 30.0]\n",
      "642     (0.0, 10.0]\n",
      "643             NaN\n",
      "644     (0.0, 10.0]\n",
      "645    (30.0, 60.0]\n",
      "646    (10.0, 30.0]\n",
      "647    (30.0, 60.0]\n",
      "648             NaN\n",
      "649    (10.0, 30.0]\n",
      "650             NaN\n",
      "651    (10.0, 30.0]\n",
      "652    (10.0, 30.0]\n",
      "653             NaN\n",
      "654    (10.0, 30.0]\n",
      "655    (10.0, 30.0]\n",
      "656             NaN\n",
      "657    (30.0, 60.0]\n",
      "658    (10.0, 30.0]\n",
      "659    (30.0, 60.0]\n",
      "660    (30.0, 60.0]\n",
      "661    (30.0, 60.0]\n",
      "662    (30.0, 60.0]\n",
      "663    (30.0, 60.0]\n",
      "664    (10.0, 30.0]\n",
      "665    (30.0, 60.0]\n",
      "666    (10.0, 30.0]\n",
      "667             NaN\n",
      "668    (30.0, 60.0]\n",
      "669             NaN\n",
      "670    (30.0, 60.0]\n",
      "671    (30.0, 60.0]\n",
      "672    (60.0, 80.0]\n",
      "673    (30.0, 60.0]\n",
      "674             NaN\n",
      "675    (10.0, 30.0]\n",
      "676    (10.0, 30.0]\n",
      "677    (10.0, 30.0]\n",
      "678    (30.0, 60.0]\n",
      "679    (30.0, 60.0]\n",
      "680             NaN\n",
      "681    (10.0, 30.0]\n",
      "682    (10.0, 30.0]\n",
      "683    (10.0, 30.0]\n",
      "684    (30.0, 60.0]\n",
      "685    (10.0, 30.0]\n",
      "686    (10.0, 30.0]\n",
      "687    (10.0, 30.0]\n",
      "688    (10.0, 30.0]\n",
      "689    (10.0, 30.0]\n",
      "690    (30.0, 60.0]\n",
      "691     (0.0, 10.0]\n",
      "692             NaN\n",
      "693    (10.0, 30.0]\n",
      "694    (30.0, 60.0]\n",
      "695    (30.0, 60.0]\n",
      "696    (30.0, 60.0]\n",
      "697             NaN\n",
      "698    (30.0, 60.0]\n",
      "699    (30.0, 60.0]\n",
      "700    (10.0, 30.0]\n",
      "701    (30.0, 60.0]\n",
      "702    (10.0, 30.0]\n",
      "703    (10.0, 30.0]\n",
      "704    (10.0, 30.0]\n",
      "705    (30.0, 60.0]\n",
      "706    (30.0, 60.0]\n",
      "707    (30.0, 60.0]\n",
      "708    (10.0, 30.0]\n",
      "709             NaN\n",
      "710    (10.0, 30.0]\n",
      "711             NaN\n",
      "712    (30.0, 60.0]\n",
      "713    (10.0, 30.0]\n",
      "714    (30.0, 60.0]\n",
      "715    (10.0, 30.0]\n",
      "716    (30.0, 60.0]\n",
      "717    (10.0, 30.0]\n",
      "718             NaN\n",
      "719    (30.0, 60.0]\n",
      "720     (0.0, 10.0]\n",
      "721    (10.0, 30.0]\n",
      "722    (30.0, 60.0]\n",
      "723    (30.0, 60.0]\n",
      "724    (10.0, 30.0]\n",
      "725    (10.0, 30.0]\n",
      "726    (10.0, 30.0]\n",
      "727             NaN\n",
      "728    (10.0, 30.0]\n",
      "729    (10.0, 30.0]\n",
      "730    (10.0, 30.0]\n",
      "731    (10.0, 30.0]\n",
      "732             NaN\n",
      "733    (10.0, 30.0]\n",
      "734    (10.0, 30.0]\n",
      "735    (10.0, 30.0]\n",
      "736    (30.0, 60.0]\n",
      "737    (30.0, 60.0]\n",
      "738             NaN\n",
      "739             NaN\n",
      "740             NaN\n",
      "741    (30.0, 60.0]\n",
      "742    (10.0, 30.0]\n",
      "743    (10.0, 30.0]\n",
      "744    (30.0, 60.0]\n",
      "745    (60.0, 80.0]\n",
      "746    (10.0, 30.0]\n",
      "747    (10.0, 30.0]\n",
      "748    (10.0, 30.0]\n",
      "749    (30.0, 60.0]\n",
      "750     (0.0, 10.0]\n",
      "751     (0.0, 10.0]\n",
      "752    (30.0, 60.0]\n",
      "753    (10.0, 30.0]\n",
      "754    (30.0, 60.0]\n",
      "755     (0.0, 10.0]\n",
      "756    (10.0, 30.0]\n",
      "757    (10.0, 30.0]\n",
      "758    (30.0, 60.0]\n",
      "759    (30.0, 60.0]\n",
      "760             NaN\n",
      "761    (30.0, 60.0]\n",
      "762    (10.0, 30.0]\n",
      "763    (30.0, 60.0]\n",
      "764    (10.0, 30.0]\n",
      "765    (30.0, 60.0]\n",
      "766             NaN\n",
      "767    (30.0, 60.0]\n",
      "768             NaN\n",
      "769    (30.0, 60.0]\n",
      "770    (10.0, 30.0]\n",
      "771    (30.0, 60.0]\n",
      "772    (30.0, 60.0]\n",
      "773             NaN\n",
      "774    (30.0, 60.0]\n",
      "775    (10.0, 30.0]\n",
      "776             NaN\n",
      "777     (0.0, 10.0]\n",
      "778             NaN\n",
      "779    (30.0, 60.0]\n",
      "780    (10.0, 30.0]\n",
      "781    (10.0, 30.0]\n",
      "782    (10.0, 30.0]\n",
      "783             NaN\n",
      "784    (10.0, 30.0]\n",
      "785    (10.0, 30.0]\n",
      "786    (10.0, 30.0]\n",
      "787     (0.0, 10.0]\n",
      "788     (0.0, 10.0]\n",
      "789    (30.0, 60.0]\n",
      "790             NaN\n",
      "791    (10.0, 30.0]\n",
      "792             NaN\n",
      "793             NaN\n",
      "794    (10.0, 30.0]\n",
      "795    (30.0, 60.0]\n",
      "796    (30.0, 60.0]\n",
      "797    (30.0, 60.0]\n",
      "798    (10.0, 30.0]\n",
      "799    (10.0, 30.0]\n",
      "800    (30.0, 60.0]\n",
      "801    (30.0, 60.0]\n",
      "802    (10.0, 30.0]\n",
      "803     (0.0, 10.0]\n",
      "804    (10.0, 30.0]\n",
      "805    (30.0, 60.0]\n",
      "806    (30.0, 60.0]\n",
      "807    (10.0, 30.0]\n",
      "808    (30.0, 60.0]\n",
      "809    (30.0, 60.0]\n",
      "810    (10.0, 30.0]\n",
      "811    (30.0, 60.0]\n",
      "812    (30.0, 60.0]\n",
      "813     (0.0, 10.0]\n",
      "814    (30.0, 60.0]\n",
      "815             NaN\n",
      "816    (10.0, 30.0]\n",
      "817    (30.0, 60.0]\n",
      "818    (30.0, 60.0]\n",
      "819     (0.0, 10.0]\n",
      "820    (30.0, 60.0]\n",
      "821    (10.0, 30.0]\n",
      "822    (30.0, 60.0]\n",
      "823    (10.0, 30.0]\n",
      "824     (0.0, 10.0]\n",
      "825             NaN\n",
      "826             NaN\n",
      "827     (0.0, 10.0]\n",
      "828             NaN\n",
      "829    (60.0, 80.0]\n",
      "830    (10.0, 30.0]\n",
      "831     (0.0, 10.0]\n",
      "832             NaN\n",
      "833    (10.0, 30.0]\n",
      "834    (10.0, 30.0]\n",
      "835    (30.0, 60.0]\n",
      "836    (10.0, 30.0]\n",
      "837             NaN\n",
      "838    (30.0, 60.0]\n",
      "839             NaN\n",
      "840    (10.0, 30.0]\n",
      "841    (10.0, 30.0]\n",
      "842    (10.0, 30.0]\n",
      "843    (30.0, 60.0]\n",
      "844    (10.0, 30.0]\n",
      "845    (30.0, 60.0]\n",
      "846             NaN\n",
      "847    (30.0, 60.0]\n",
      "848    (10.0, 30.0]\n",
      "849             NaN\n",
      "850     (0.0, 10.0]\n",
      "851    (60.0, 80.0]\n",
      "852     (0.0, 10.0]\n",
      "853    (10.0, 30.0]\n",
      "854    (30.0, 60.0]\n",
      "855    (10.0, 30.0]\n",
      "856    (30.0, 60.0]\n",
      "857    (30.0, 60.0]\n",
      "858    (10.0, 30.0]\n",
      "859             NaN\n",
      "860    (30.0, 60.0]\n",
      "861    (10.0, 30.0]\n",
      "862    (30.0, 60.0]\n",
      "863             NaN\n",
      "864    (10.0, 30.0]\n",
      "865    (30.0, 60.0]\n",
      "866    (10.0, 30.0]\n",
      "867    (30.0, 60.0]\n",
      "868             NaN\n",
      "869     (0.0, 10.0]\n",
      "870    (10.0, 30.0]\n",
      "871    (30.0, 60.0]\n",
      "872    (30.0, 60.0]\n",
      "873    (30.0, 60.0]\n",
      "874    (10.0, 30.0]\n",
      "875    (10.0, 30.0]\n",
      "876    (10.0, 30.0]\n",
      "877    (10.0, 30.0]\n",
      "878             NaN\n",
      "879    (30.0, 60.0]\n",
      "880    (10.0, 30.0]\n",
      "881    (30.0, 60.0]\n",
      "882    (10.0, 30.0]\n",
      "883    (10.0, 30.0]\n",
      "884    (10.0, 30.0]\n",
      "885    (30.0, 60.0]\n",
      "886    (10.0, 30.0]\n",
      "887    (10.0, 30.0]\n",
      "888             NaN\n",
      "889    (10.0, 30.0]\n",
      "890    (30.0, 60.0]\n",
      "Name: age, Length: 891, dtype: category\n",
      "Categories (4, interval[int64]): [(0, 10] < (10, 30] < (30, 60] < (60, 80]]\n"
     ]
    }
   ],
   "source": [
    "df = pd.read_csv('/Users/Santy/Downloads/titanic.csv')\n",
    "result = pd.cut(df['age'], [0, 10, 30, 60, 80])\n",
    "print(result)"
   ]
  },
  {
   "cell_type": "markdown",
   "metadata": {},
   "source": [
    "### Q126. Write a pandas program to create the Pivot table and find survival rate by the gender, age of the different categories of various classes."
   ]
  },
  {
   "cell_type": "code",
   "execution_count": 247,
   "metadata": {},
   "outputs": [
    {
     "name": "stdout",
     "output_type": "stream",
     "text": [
      "class            First    Second     Third\n",
      "sex    age                                \n",
      "female 0.75        NaN       NaN  1.000000\n",
      "       1.00        NaN       NaN  1.000000\n",
      "       2.00   0.000000  1.000000  0.250000\n",
      "       3.00        NaN  1.000000  0.000000\n",
      "       4.00        NaN  1.000000  1.000000\n",
      "       5.00        NaN  1.000000  1.000000\n",
      "       6.00        NaN  1.000000  0.000000\n",
      "       7.00        NaN  1.000000       NaN\n",
      "       8.00        NaN  1.000000  0.000000\n",
      "       9.00        NaN       NaN  0.000000\n",
      "       10.00       NaN       NaN  0.000000\n",
      "       11.00       NaN       NaN  0.000000\n",
      "       13.00       NaN  1.000000  1.000000\n",
      "       14.00  1.000000  1.000000  0.500000\n",
      "       14.50       NaN       NaN  0.000000\n",
      "       15.00  1.000000       NaN  1.000000\n",
      "       16.00  1.000000       NaN  0.666667\n",
      "       17.00  1.000000  1.000000  0.500000\n",
      "       18.00  1.000000  1.000000  0.375000\n",
      "       19.00  1.000000  1.000000  1.000000\n",
      "       20.00       NaN       NaN  0.000000\n",
      "       21.00  1.000000  1.000000  0.250000\n",
      "       22.00  1.000000  1.000000  0.666667\n",
      "       23.00  1.000000  1.000000  0.500000\n",
      "       24.00  1.000000  0.857143  0.750000\n",
      "       25.00  0.000000  1.000000  0.000000\n",
      "       26.00  1.000000  0.000000  0.666667\n",
      "       27.00       NaN  0.666667  1.000000\n",
      "       28.00       NaN  1.000000  0.000000\n",
      "       29.00  1.000000  1.000000  0.333333\n",
      "       30.00  1.000000  1.000000  0.333333\n",
      "       30.50       NaN       NaN  0.000000\n",
      "       31.00  1.000000  1.000000  0.500000\n",
      "       32.00  1.000000  1.000000  0.000000\n",
      "       32.50       NaN  1.000000       NaN\n",
      "       33.00  1.000000  1.000000  1.000000\n",
      "       34.00       NaN  1.000000       NaN\n",
      "       35.00  1.000000  1.000000  1.000000\n",
      "       36.00  1.000000  1.000000  1.000000\n",
      "       37.00       NaN       NaN  0.000000\n",
      "       38.00  1.000000  0.000000  1.000000\n",
      "       39.00  1.000000       NaN  0.000000\n",
      "       40.00  1.000000  1.000000  0.000000\n",
      "       41.00  1.000000  1.000000  0.000000\n",
      "       42.00  1.000000  1.000000       NaN\n",
      "       43.00  1.000000       NaN  0.000000\n",
      "       44.00  1.000000  0.000000       NaN\n",
      "       45.00  1.000000  1.000000  0.000000\n",
      "       47.00  1.000000       NaN  0.000000\n",
      "       48.00  1.000000  1.000000  0.000000\n",
      "       49.00  1.000000       NaN       NaN\n",
      "       50.00  0.500000  1.000000       NaN\n",
      "       51.00  1.000000       NaN       NaN\n",
      "       52.00  1.000000       NaN       NaN\n",
      "       53.00  1.000000       NaN       NaN\n",
      "       54.00  1.000000  1.000000       NaN\n",
      "       55.00       NaN  1.000000       NaN\n",
      "       56.00  1.000000       NaN       NaN\n",
      "       57.00       NaN  0.000000       NaN\n",
      "       58.00  1.000000       NaN       NaN\n",
      "       60.00  1.000000       NaN       NaN\n",
      "       62.00  1.000000       NaN       NaN\n",
      "       63.00  1.000000       NaN  1.000000\n",
      "male   0.42        NaN       NaN  1.000000\n",
      "       0.67        NaN  1.000000       NaN\n",
      "       0.83        NaN  1.000000       NaN\n",
      "       0.92   1.000000       NaN       NaN\n",
      "       1.00        NaN  1.000000  0.333333\n",
      "       2.00        NaN  1.000000  0.000000\n",
      "       3.00        NaN  1.000000  1.000000\n",
      "       4.00   1.000000       NaN  0.250000\n",
      "       6.00        NaN       NaN  1.000000\n",
      "       7.00        NaN       NaN  0.000000\n",
      "       8.00        NaN  1.000000  0.000000\n",
      "       9.00        NaN       NaN  0.500000\n",
      "       10.00       NaN       NaN  0.000000\n",
      "       11.00  1.000000       NaN  0.000000\n",
      "       12.00       NaN       NaN  1.000000\n",
      "       14.00       NaN       NaN  0.000000\n",
      "       15.00       NaN       NaN  0.000000\n",
      "       16.00       NaN  0.000000  0.111111\n",
      "       17.00  1.000000       NaN  0.000000\n",
      "       18.00  0.000000  0.000000  0.125000\n",
      "       19.00  0.000000  0.250000  0.083333\n",
      "       20.00       NaN       NaN  0.230769\n",
      "       20.50       NaN       NaN  0.000000\n",
      "       21.00  0.000000  0.000000  0.076923\n",
      "       22.00  0.000000       NaN  0.071429\n",
      "       23.00  1.000000  0.000000  0.000000\n",
      "       23.50       NaN       NaN  0.000000\n",
      "       24.00  0.000000  0.000000  0.111111\n",
      "       24.50       NaN       NaN  0.000000\n",
      "       25.00  1.000000  0.000000  0.181818\n",
      "       26.00  1.000000  0.000000  0.181818\n",
      "       27.00  0.750000  0.000000  0.600000\n",
      "       28.00  0.500000  0.000000  0.000000\n",
      "       28.50       NaN       NaN  0.000000\n",
      "       29.00  0.000000  0.000000  0.375000\n",
      "       30.00  0.000000  0.000000  0.125000\n",
      "       30.50       NaN       NaN  0.000000\n",
      "       31.00  0.333333  0.250000  0.333333\n",
      "       32.00  1.000000  0.333333  0.454545\n",
      "       32.50       NaN  0.000000       NaN\n",
      "       33.00  0.000000  0.000000  0.000000\n",
      "       34.00  1.000000  0.166667  0.000000\n",
      "       34.50       NaN       NaN  0.000000\n",
      "       35.00  1.000000  0.000000  0.000000\n",
      "       36.00  0.666667  0.000000  0.000000\n",
      "       36.50       NaN  0.000000       NaN\n",
      "       37.00  0.333333  0.000000  0.000000\n",
      "       38.00  0.333333       NaN  0.000000\n",
      "       39.00  0.000000  0.000000  0.250000\n",
      "       40.00  0.333333       NaN  0.000000\n",
      "       40.50       NaN       NaN  0.000000\n",
      "       41.00       NaN       NaN  0.000000\n",
      "       42.00  0.666667  0.333333  0.000000\n",
      "       43.00       NaN  0.000000  0.000000\n",
      "       44.00  0.000000  0.000000  0.250000\n",
      "       45.00  0.250000       NaN  0.500000\n",
      "       45.50  0.000000       NaN  0.000000\n",
      "       46.00  0.000000  0.000000       NaN\n",
      "       47.00  0.000000  0.000000  0.000000\n",
      "       48.00  1.000000  0.000000  0.000000\n",
      "       49.00  0.666667       NaN  0.000000\n",
      "       50.00  0.333333  0.000000  0.000000\n",
      "       51.00  0.500000  0.000000  0.000000\n",
      "       52.00  0.500000  0.000000       NaN\n",
      "       54.00  0.000000  0.000000       NaN\n",
      "       55.00  0.000000       NaN       NaN\n",
      "       55.50       NaN       NaN  0.000000\n",
      "       56.00  0.333333       NaN       NaN\n",
      "       57.00       NaN  0.000000       NaN\n",
      "       58.00  0.000000       NaN       NaN\n",
      "       59.00       NaN  0.000000  0.000000\n",
      "       60.00  0.500000  0.000000       NaN\n",
      "       61.00  0.000000       NaN  0.000000\n",
      "       62.00  0.000000  1.000000       NaN\n",
      "       64.00  0.000000       NaN       NaN\n",
      "       65.00  0.000000       NaN  0.000000\n",
      "       66.00       NaN  0.000000       NaN\n",
      "       70.00  0.000000  0.000000       NaN\n",
      "       70.50       NaN       NaN  0.000000\n",
      "       71.00  0.000000       NaN       NaN\n",
      "       74.00       NaN       NaN  0.000000\n",
      "       80.00  1.000000       NaN       NaN\n"
     ]
    }
   ],
   "source": [
    "df = pd.read_csv('/Users/Santy/Downloads/titanic.csv')\n",
    "result  =  df.pivot_table('survived', index=['sex','age'], columns='class')\n",
    "print(result)"
   ]
  },
  {
   "cell_type": "markdown",
   "metadata": {},
   "source": [
    "### Q127. Write a pandas program to create the Pivot table and calculate number of women and men were in a particular cabin class.\n"
   ]
  },
  {
   "cell_type": "code",
   "execution_count": 248,
   "metadata": {},
   "outputs": [
    {
     "name": "stdout",
     "output_type": "stream",
     "text": [
      "       Unnamed: 15       adult_male            age          alive           alone           class           deck        embark_town           embarked           fare           parch           sibsp           survived            who          \n",
      "pclass           1  2  3          1    2    3    1   2    3     1    2    3     1    2    3     1    2    3    1   2  3           1    2    3        1    2    3    1    2    3     1    2    3     1    2    3        1    2    3    1    2    3\n",
      "sex                                                                                                                                                                                                                                              \n",
      "female           0  0  0         94   76  144   85  74  102    94   76  144    94   76  144    94   76  144   81  10  6          92   76  144       92   76  144   94   76  144    94   76  144    94   76  144       94   76  144   94   76  144\n",
      "male             0  0  0        122  108  347  101  99  253   122  108  347   122  108  347   122  108  347   94   6  6         122  108  347      122  108  347  122  108  347   122  108  347   122  108  347      122  108  347  122  108  347\n"
     ]
    }
   ],
   "source": [
    "df = pd.read_csv('/Users/Santy/Downloads/titanic.csv')\n",
    "result = df.pivot_table(index=['sex'], columns=['pclass'], aggfunc='count')\n",
    "print(result)"
   ]
  },
  {
   "cell_type": "markdown",
   "metadata": {},
   "source": [
    "### Q128. Write a pandas program to create the Pivot table and separate the gender according to whether they travelled alone or not to get the probability of survival\n"
   ]
  },
  {
   "cell_type": "code",
   "execution_count": 250,
   "metadata": {},
   "outputs": [
    {
     "name": "stdout",
     "output_type": "stream",
     "text": [
      "class            First    Second     Third\n",
      "sex    alone                              \n",
      "female False  0.966667  0.931818  0.416667\n",
      "       True   0.970588  0.906250  0.616667\n",
      "male   False  0.425532  0.277778  0.180723\n",
      "       True   0.333333  0.097222  0.121212\n"
     ]
    }
   ],
   "source": [
    "df = pd.read_csv('/Users/Santy/Downloads/titanic.csv')\n",
    "result = df.pivot_table( 'survived' , [ 'sex' , 'alone' ] , 'class' )\n",
    "print(result)"
   ]
  },
  {
   "cell_type": "markdown",
   "metadata": {},
   "source": [
    "### Q129. Write a pandas program to create the Pivot table and find the probability of survival by class, gender, solo boarding, and the port of embarkation."
   ]
  },
  {
   "cell_type": "code",
   "execution_count": 251,
   "metadata": {},
   "outputs": [
    {
     "name": "stdout",
     "output_type": "stream",
     "text": [
      "embark_town  Cherbourg                     Queenstown                  Southampton                    \n",
      "class            First    Second     Third      First Second     Third       First    Second     Third\n",
      "sex    alone                                                                                          \n",
      "female False  1.000000  1.000000  0.611111        1.0    NaN  0.625000    0.941176  0.923077  0.327586\n",
      "       True   0.944444  1.000000  0.800000        NaN    1.0  0.760000    1.000000  0.892857  0.466667\n",
      "male   False  0.473684  0.166667  0.500000        0.0    NaN  0.100000    0.407407  0.300000  0.142857\n",
      "       True   0.347826  0.250000  0.151515        NaN    0.0  0.068966    0.326923  0.089552  0.123762\n"
     ]
    }
   ],
   "source": [
    "df = pd.read_csv('/Users/Santy/Downloads/titanic.csv')\n",
    "result = df.pivot_table('survived', ['sex' , 'alone' ], [ 'embark_town', 'class' ])\n",
    "print(result)"
   ]
  },
  {
   "cell_type": "markdown",
   "metadata": {},
   "source": [
    "### Q130. Write a pandas program to get current date, oldest date and number of days between Current date and the oldest date of Ufo dataset."
   ]
  },
  {
   "cell_type": "code",
   "execution_count": 5,
   "metadata": {},
   "outputs": [
    {
     "ename": "FileNotFoundError",
     "evalue": "[Errno 2] File b'ufo.csv' does not exist: b'ufo.csv'",
     "output_type": "error",
     "traceback": [
      "\u001b[0;31m---------------------------------------------------------------------------\u001b[0m",
      "\u001b[0;31mFileNotFoundError\u001b[0m                         Traceback (most recent call last)",
      "\u001b[0;32m<ipython-input-5-0f1bb08cd682>\u001b[0m in \u001b[0;36m<module>\u001b[0;34m\u001b[0m\n\u001b[1;32m      1\u001b[0m \u001b[0;32mimport\u001b[0m \u001b[0mpandas\u001b[0m \u001b[0;32mas\u001b[0m \u001b[0mpd\u001b[0m\u001b[0;34m\u001b[0m\u001b[0;34m\u001b[0m\u001b[0m\n\u001b[0;32m----> 2\u001b[0;31m \u001b[0mdf\u001b[0m \u001b[0;34m=\u001b[0m \u001b[0mpd\u001b[0m\u001b[0;34m.\u001b[0m\u001b[0mread_csv\u001b[0m\u001b[0;34m(\u001b[0m\u001b[0;34mr'ufo.csv'\u001b[0m\u001b[0;34m)\u001b[0m\u001b[0;34m\u001b[0m\u001b[0;34m\u001b[0m\u001b[0m\n\u001b[0m\u001b[1;32m      3\u001b[0m \u001b[0mdf\u001b[0m\u001b[0;34m[\u001b[0m\u001b[0;34m'Date_time'\u001b[0m\u001b[0;34m]\u001b[0m \u001b[0;34m=\u001b[0m \u001b[0mdf\u001b[0m\u001b[0;34m[\u001b[0m\u001b[0;34m'Date_time'\u001b[0m\u001b[0;34m]\u001b[0m\u001b[0;34m.\u001b[0m\u001b[0mastype\u001b[0m\u001b[0;34m(\u001b[0m\u001b[0;34m'datetime64[ns]'\u001b[0m\u001b[0;34m)\u001b[0m\u001b[0;34m\u001b[0m\u001b[0;34m\u001b[0m\u001b[0m\n\u001b[1;32m      4\u001b[0m \u001b[0mprint\u001b[0m\u001b[0;34m(\u001b[0m\u001b[0;34m\"Original Dataframe:\"\u001b[0m\u001b[0;34m)\u001b[0m\u001b[0;34m\u001b[0m\u001b[0;34m\u001b[0m\u001b[0m\n\u001b[1;32m      5\u001b[0m \u001b[0mprint\u001b[0m\u001b[0;34m(\u001b[0m\u001b[0mdf\u001b[0m\u001b[0;34m.\u001b[0m\u001b[0mhead\u001b[0m\u001b[0;34m(\u001b[0m\u001b[0;34m)\u001b[0m\u001b[0;34m)\u001b[0m\u001b[0;34m\u001b[0m\u001b[0;34m\u001b[0m\u001b[0m\n",
      "\u001b[0;32m~/anaconda3/lib/python3.7/site-packages/pandas/io/parsers.py\u001b[0m in \u001b[0;36mparser_f\u001b[0;34m(filepath_or_buffer, sep, delimiter, header, names, index_col, usecols, squeeze, prefix, mangle_dupe_cols, dtype, engine, converters, true_values, false_values, skipinitialspace, skiprows, skipfooter, nrows, na_values, keep_default_na, na_filter, verbose, skip_blank_lines, parse_dates, infer_datetime_format, keep_date_col, date_parser, dayfirst, iterator, chunksize, compression, thousands, decimal, lineterminator, quotechar, quoting, doublequote, escapechar, comment, encoding, dialect, tupleize_cols, error_bad_lines, warn_bad_lines, delim_whitespace, low_memory, memory_map, float_precision)\u001b[0m\n\u001b[1;32m    700\u001b[0m                     skip_blank_lines=skip_blank_lines)\n\u001b[1;32m    701\u001b[0m \u001b[0;34m\u001b[0m\u001b[0m\n\u001b[0;32m--> 702\u001b[0;31m         \u001b[0;32mreturn\u001b[0m \u001b[0m_read\u001b[0m\u001b[0;34m(\u001b[0m\u001b[0mfilepath_or_buffer\u001b[0m\u001b[0;34m,\u001b[0m \u001b[0mkwds\u001b[0m\u001b[0;34m)\u001b[0m\u001b[0;34m\u001b[0m\u001b[0;34m\u001b[0m\u001b[0m\n\u001b[0m\u001b[1;32m    703\u001b[0m \u001b[0;34m\u001b[0m\u001b[0m\n\u001b[1;32m    704\u001b[0m     \u001b[0mparser_f\u001b[0m\u001b[0;34m.\u001b[0m\u001b[0m__name__\u001b[0m \u001b[0;34m=\u001b[0m \u001b[0mname\u001b[0m\u001b[0;34m\u001b[0m\u001b[0;34m\u001b[0m\u001b[0m\n",
      "\u001b[0;32m~/anaconda3/lib/python3.7/site-packages/pandas/io/parsers.py\u001b[0m in \u001b[0;36m_read\u001b[0;34m(filepath_or_buffer, kwds)\u001b[0m\n\u001b[1;32m    427\u001b[0m \u001b[0;34m\u001b[0m\u001b[0m\n\u001b[1;32m    428\u001b[0m     \u001b[0;31m# Create the parser.\u001b[0m\u001b[0;34m\u001b[0m\u001b[0;34m\u001b[0m\u001b[0;34m\u001b[0m\u001b[0m\n\u001b[0;32m--> 429\u001b[0;31m     \u001b[0mparser\u001b[0m \u001b[0;34m=\u001b[0m \u001b[0mTextFileReader\u001b[0m\u001b[0;34m(\u001b[0m\u001b[0mfilepath_or_buffer\u001b[0m\u001b[0;34m,\u001b[0m \u001b[0;34m**\u001b[0m\u001b[0mkwds\u001b[0m\u001b[0;34m)\u001b[0m\u001b[0;34m\u001b[0m\u001b[0;34m\u001b[0m\u001b[0m\n\u001b[0m\u001b[1;32m    430\u001b[0m \u001b[0;34m\u001b[0m\u001b[0m\n\u001b[1;32m    431\u001b[0m     \u001b[0;32mif\u001b[0m \u001b[0mchunksize\u001b[0m \u001b[0;32mor\u001b[0m \u001b[0miterator\u001b[0m\u001b[0;34m:\u001b[0m\u001b[0;34m\u001b[0m\u001b[0;34m\u001b[0m\u001b[0m\n",
      "\u001b[0;32m~/anaconda3/lib/python3.7/site-packages/pandas/io/parsers.py\u001b[0m in \u001b[0;36m__init__\u001b[0;34m(self, f, engine, **kwds)\u001b[0m\n\u001b[1;32m    893\u001b[0m             \u001b[0mself\u001b[0m\u001b[0;34m.\u001b[0m\u001b[0moptions\u001b[0m\u001b[0;34m[\u001b[0m\u001b[0;34m'has_index_names'\u001b[0m\u001b[0;34m]\u001b[0m \u001b[0;34m=\u001b[0m \u001b[0mkwds\u001b[0m\u001b[0;34m[\u001b[0m\u001b[0;34m'has_index_names'\u001b[0m\u001b[0;34m]\u001b[0m\u001b[0;34m\u001b[0m\u001b[0;34m\u001b[0m\u001b[0m\n\u001b[1;32m    894\u001b[0m \u001b[0;34m\u001b[0m\u001b[0m\n\u001b[0;32m--> 895\u001b[0;31m         \u001b[0mself\u001b[0m\u001b[0;34m.\u001b[0m\u001b[0m_make_engine\u001b[0m\u001b[0;34m(\u001b[0m\u001b[0mself\u001b[0m\u001b[0;34m.\u001b[0m\u001b[0mengine\u001b[0m\u001b[0;34m)\u001b[0m\u001b[0;34m\u001b[0m\u001b[0;34m\u001b[0m\u001b[0m\n\u001b[0m\u001b[1;32m    896\u001b[0m \u001b[0;34m\u001b[0m\u001b[0m\n\u001b[1;32m    897\u001b[0m     \u001b[0;32mdef\u001b[0m \u001b[0mclose\u001b[0m\u001b[0;34m(\u001b[0m\u001b[0mself\u001b[0m\u001b[0;34m)\u001b[0m\u001b[0;34m:\u001b[0m\u001b[0;34m\u001b[0m\u001b[0;34m\u001b[0m\u001b[0m\n",
      "\u001b[0;32m~/anaconda3/lib/python3.7/site-packages/pandas/io/parsers.py\u001b[0m in \u001b[0;36m_make_engine\u001b[0;34m(self, engine)\u001b[0m\n\u001b[1;32m   1120\u001b[0m     \u001b[0;32mdef\u001b[0m \u001b[0m_make_engine\u001b[0m\u001b[0;34m(\u001b[0m\u001b[0mself\u001b[0m\u001b[0;34m,\u001b[0m \u001b[0mengine\u001b[0m\u001b[0;34m=\u001b[0m\u001b[0;34m'c'\u001b[0m\u001b[0;34m)\u001b[0m\u001b[0;34m:\u001b[0m\u001b[0;34m\u001b[0m\u001b[0;34m\u001b[0m\u001b[0m\n\u001b[1;32m   1121\u001b[0m         \u001b[0;32mif\u001b[0m \u001b[0mengine\u001b[0m \u001b[0;34m==\u001b[0m \u001b[0;34m'c'\u001b[0m\u001b[0;34m:\u001b[0m\u001b[0;34m\u001b[0m\u001b[0;34m\u001b[0m\u001b[0m\n\u001b[0;32m-> 1122\u001b[0;31m             \u001b[0mself\u001b[0m\u001b[0;34m.\u001b[0m\u001b[0m_engine\u001b[0m \u001b[0;34m=\u001b[0m \u001b[0mCParserWrapper\u001b[0m\u001b[0;34m(\u001b[0m\u001b[0mself\u001b[0m\u001b[0;34m.\u001b[0m\u001b[0mf\u001b[0m\u001b[0;34m,\u001b[0m \u001b[0;34m**\u001b[0m\u001b[0mself\u001b[0m\u001b[0;34m.\u001b[0m\u001b[0moptions\u001b[0m\u001b[0;34m)\u001b[0m\u001b[0;34m\u001b[0m\u001b[0;34m\u001b[0m\u001b[0m\n\u001b[0m\u001b[1;32m   1123\u001b[0m         \u001b[0;32melse\u001b[0m\u001b[0;34m:\u001b[0m\u001b[0;34m\u001b[0m\u001b[0;34m\u001b[0m\u001b[0m\n\u001b[1;32m   1124\u001b[0m             \u001b[0;32mif\u001b[0m \u001b[0mengine\u001b[0m \u001b[0;34m==\u001b[0m \u001b[0;34m'python'\u001b[0m\u001b[0;34m:\u001b[0m\u001b[0;34m\u001b[0m\u001b[0;34m\u001b[0m\u001b[0m\n",
      "\u001b[0;32m~/anaconda3/lib/python3.7/site-packages/pandas/io/parsers.py\u001b[0m in \u001b[0;36m__init__\u001b[0;34m(self, src, **kwds)\u001b[0m\n\u001b[1;32m   1851\u001b[0m         \u001b[0mkwds\u001b[0m\u001b[0;34m[\u001b[0m\u001b[0;34m'usecols'\u001b[0m\u001b[0;34m]\u001b[0m \u001b[0;34m=\u001b[0m \u001b[0mself\u001b[0m\u001b[0;34m.\u001b[0m\u001b[0musecols\u001b[0m\u001b[0;34m\u001b[0m\u001b[0;34m\u001b[0m\u001b[0m\n\u001b[1;32m   1852\u001b[0m \u001b[0;34m\u001b[0m\u001b[0m\n\u001b[0;32m-> 1853\u001b[0;31m         \u001b[0mself\u001b[0m\u001b[0;34m.\u001b[0m\u001b[0m_reader\u001b[0m \u001b[0;34m=\u001b[0m \u001b[0mparsers\u001b[0m\u001b[0;34m.\u001b[0m\u001b[0mTextReader\u001b[0m\u001b[0;34m(\u001b[0m\u001b[0msrc\u001b[0m\u001b[0;34m,\u001b[0m \u001b[0;34m**\u001b[0m\u001b[0mkwds\u001b[0m\u001b[0;34m)\u001b[0m\u001b[0;34m\u001b[0m\u001b[0;34m\u001b[0m\u001b[0m\n\u001b[0m\u001b[1;32m   1854\u001b[0m         \u001b[0mself\u001b[0m\u001b[0;34m.\u001b[0m\u001b[0munnamed_cols\u001b[0m \u001b[0;34m=\u001b[0m \u001b[0mself\u001b[0m\u001b[0;34m.\u001b[0m\u001b[0m_reader\u001b[0m\u001b[0;34m.\u001b[0m\u001b[0munnamed_cols\u001b[0m\u001b[0;34m\u001b[0m\u001b[0;34m\u001b[0m\u001b[0m\n\u001b[1;32m   1855\u001b[0m \u001b[0;34m\u001b[0m\u001b[0m\n",
      "\u001b[0;32mpandas/_libs/parsers.pyx\u001b[0m in \u001b[0;36mpandas._libs.parsers.TextReader.__cinit__\u001b[0;34m()\u001b[0m\n",
      "\u001b[0;32mpandas/_libs/parsers.pyx\u001b[0m in \u001b[0;36mpandas._libs.parsers.TextReader._setup_parser_source\u001b[0;34m()\u001b[0m\n",
      "\u001b[0;31mFileNotFoundError\u001b[0m: [Errno 2] File b'ufo.csv' does not exist: b'ufo.csv'"
     ]
    }
   ],
   "source": [
    "import pandas as pd\n",
    "df = pd.read_csv(r'ufo.csv')\n",
    "df['Date_time'] = df['Date_time'].astype('datetime64[ns]')\n",
    "print(\"Original Dataframe:\")\n",
    "print(df.head())\n",
    "print(\"\\nSighting days of the unidentified flying object (ufo) between 1949-10-10 and 1960-10-10:\")\n",
    "selected_period = df[(df['Date_time'] >= '1950-01-01 00:00:00') & (df['Date_time'] <= '1960-12-31 23:59:59')]\n",
    "print(selected_period)\n"
   ]
  },
  {
   "cell_type": "markdown",
   "metadata": {},
   "source": [
    "### Q131. Write a pandas program to get all sighting days of the unidentified flying object (ufo) between 1950-10-10 and 1960-10- 10."
   ]
  },
  {
   "cell_type": "code",
   "execution_count": null,
   "metadata": {},
   "outputs": [],
   "source": [
    "#### Dataset is not available ..."
   ]
  },
  {
   "cell_type": "markdown",
   "metadata": {},
   "source": [
    "### Q141. Write a python program to draw the line using given axis values with the suitable label in the x-axis, y-axis, and a title."
   ]
  },
  {
   "cell_type": "code",
   "execution_count": null,
   "metadata": {},
   "outputs": [],
   "source": []
  },
  {
   "cell_type": "markdown",
   "metadata": {},
   "source": [
    "### Q142. Write a python program to draw the line charts of the financial data of the Alphabet Inc., between October.\n",
    " \n",
    "  3, 2016 to October 7 2016.\n",
    "  \n",
    "  Sample Financial data (fdata.csv)-\n",
    "  \n",
    "  Date,Open,High,Low,Close\n",
    " \n",
    "  10-03-16,774.25,776.065002,769.5,772.559998\n",
    " "
   ]
  },
  {
   "cell_type": "code",
   "execution_count": null,
   "metadata": {},
   "outputs": [],
   "source": [
    "Solution :"
   ]
  },
  {
   "cell_type": "markdown",
   "metadata": {},
   "source": [
    "### Q143.Write a Python program to plot two or more lines on same plot with the suitable legends of each line."
   ]
  },
  {
   "cell_type": "code",
   "execution_count": 298,
   "metadata": {},
   "outputs": [
    {
     "data": {
      "image/png": "[encoded data removed]",
      "text/plain": [
       "<Figure size 432x288 with 1 Axes>"
      ]
     },
     "metadata": {
      "needs_background": "light"
     },
     "output_type": "display_data"
    }
   ],
   "source": [
    "import matplotlib.pyplot as plt\n",
    "# line 1 points\n",
    "x1 = [10,20,30]\n",
    "y1 = [20,40,10]\n",
    "# line 2 points\n",
    "x2 = [10,20,30]\n",
    "y2 = [40,10,30]\n",
    "# Set the x axis label of the current axis.\n",
    "plt.xlabel('x - axis')\n",
    "# Set the y axis label of the current axis.\n",
    "plt.ylabel('y - axis')\n",
    "# Set a title \n",
    "plt.title('Two or more lines with different widths and colors with suitable legends ')\n",
    "# Display the figure.\n",
    "plt.plot(x1,y1, color='blue', linewidth = 1,  label = 'line1-width-1')\n",
    "plt.plot(x2,y2, color='green', linewidth = 2,  label = 'line2-width-2')\n",
    "# show a legend on the plot\n",
    "plt.legend()\n",
    "plt.show()\n"
   ]
  },
  {
   "cell_type": "markdown",
   "metadata": {},
   "source": [
    "### Q144. Write a python programming to display a bar chart of the popularity of programming languages.\n",
    "\n",
    "Sample data:\n",
    "\n",
    "10-06-16 , 779 , 780.47998,775.539978,776.859985\n",
    "\n",
    "10-07-16,779.659973, 779.659973 , 770.75 , 775.080017\n",
    "\n",
    "The code snippet gives the output shown in the screenshot:\n",
    "\n",
    "programming languages- Java, Python, PHP, JavaScript, C#, C++\n",
    "\n",
    "Popularity- 22.2, 17.6, 8.8, 8, 7.7 , 6.7\n",
    " "
   ]
  },
  {
   "cell_type": "code",
   "execution_count": 305,
   "metadata": {},
   "outputs": [
    {
     "data": {
      "image/png": "[encoded data removed]",
      "text/plain": [
       "<Figure size 432x288 with 1 Axes>"
      ]
     },
     "metadata": {
      "needs_background": "light"
     },
     "output_type": "display_data"
    }
   ],
   "source": [
    "import matplotlib.pyplot as plt\n",
    "x = ['Java', 'Python', 'PHP', 'JavaScript', 'C#', 'C++']\n",
    "popularity = [22.2, 17.6, 8.8, 8, 7.7, 6.7]\n",
    "x_pos = [i for i, _ in enumerate(x)]\n",
    "\n",
    "plt.bar(x_pos, popularity, color=(0.4, 0.6, 0.8, 1.0), edgecolor='blue')\n",
    "\n",
    "plt.xlabel(\"Languages\")\n",
    "plt.ylabel(\"Popularity\")\n",
    "plt.title(\"PopularitY of Programming Language\\n\" + \"Worldwide, Oct 2017 compared to a year ago\")\n",
    "plt.xticks(x_pos, x)\n",
    "# Turn on the grid\n",
    "plt.minorticks_on()\n",
    "plt.grid(which='major', linestyle='-', linewidth='0.5', color='red')\n",
    "# Customize the minor grid\n",
    "plt.grid(which='minor', linestyle=':', linewidth='0.5', color='black')\n",
    "plt.show()\n"
   ]
  },
  {
   "cell_type": "markdown",
   "metadata": {},
   "source": [
    "### Q145. Write a python programming to display a horizontal bar chart of the popularity of programming languages.\n",
    "\n",
    " Sample data:\n",
    " \n",
    " \n",
    " programming languages- Java, Python, PHP, JavaScript, C#, C++\n",
    " \n",
    " Popularity- 22.2, 17.6, 8.8, 8, 7.7 , 6.7\n",
    " \n",
    " The code snippet gives the output shown in the screenshot:"
   ]
  },
  {
   "cell_type": "code",
   "execution_count": 306,
   "metadata": {},
   "outputs": [
    {
     "data": {
      "image/png": "[encoded data removed]",
      "text/plain": [
       "<Figure size 432x288 with 1 Axes>"
      ]
     },
     "metadata": {
      "needs_background": "light"
     },
     "output_type": "display_data"
    }
   ],
   "source": [
    "import matplotlib.pyplot as plt\n",
    "x = ['Java', 'Python', 'PHP', 'JS', 'C#', 'C++']\n",
    "popularity = [22.2, 17.6, 8.8, 8, 7.7, 6.7]\n",
    "x_pos = [i for i, _ in enumerate(x)]\n",
    "plt.barh(x_pos, popularity, color='green')\n",
    "plt.xlabel(\"Popularity\")\n",
    "plt.ylabel(\"Languages\")\n",
    "plt.title(\"PopularitY of Programming Language\\n\" + \"Worldwide, Oct 2017 compared to a year ago\")\n",
    "plt.yticks(x_pos, x)\n",
    "# Turn on the grid\n",
    "plt.minorticks_on()\n",
    "plt.grid(which='major', linestyle='-', linewidth='0.5', color='red')\n",
    "# Customize the minor grid\n",
    "plt.grid(which='minor', linestyle=':', linewidth='0.5', color='black')\n",
    "plt.show()\n"
   ]
  },
  {
   "cell_type": "markdown",
   "metadata": {},
   "source": [
    "### Q146. Write a python programming to display a bar chart of the Popularity of programming languages. Increase bottom margin.\n",
    "\n",
    "Sample data:\n",
    "\n",
    "\n",
    "programming languages: Java, Python, PHP, JavaScript, C#, C++\n",
    "\n",
    "Popularity: 22.2, 17.6, 8.8, 8, 7.7 , 6.7\n",
    "\n",
    "The code snippet gives the output shown in th"
   ]
  },
  {
   "cell_type": "code",
   "execution_count": 307,
   "metadata": {},
   "outputs": [
    {
     "data": {
      "image/png": "[encoded data removed]",
      "text/plain": [
       "<Figure size 432x288 with 1 Axes>"
      ]
     },
     "metadata": {
      "needs_background": "light"
     },
     "output_type": "display_data"
    }
   ],
   "source": [
    "import matplotlib.pyplot as plt\n",
    "x = ['Java', 'Python', 'PHP', 'JavaScript', 'C#', 'C++']\n",
    "popularity = [22.2, 17.6, 8.8, 8, 7.7, 6.7]\n",
    "x_pos = [i for i, _ in enumerate(x)]\n",
    "plt.bar(x_pos, popularity, color=(0.4, 0.6, 0.8, 1.0))\n",
    "plt.xlabel(\"Languages\")\n",
    "plt.ylabel(\"Popularity\")\n",
    "plt.title(\"PopularitY of Programming Language\\n\" + \"Worldwide, Oct 2017 compared to a year ago\")\n",
    "# Rotation of the bars names\n",
    "plt.xticks(x_pos, x, rotation=90)\n",
    "# Custom the subplot layout\n",
    "plt.subplots_adjust(bottom=0.4, top=.8)\n",
    "# Turn on the grid\n",
    "plt.minorticks_on()\n",
    "plt.grid(which='major', linestyle='-', linewidth='0.5', color='red')\n",
    "# Customize the minor grid\n",
    "plt.grid(which='minor', linestyle=':', linewidth='0.5', color='black')\n",
    "plt.show()\n"
   ]
  },
  {
   "cell_type": "markdown",
   "metadata": {},
   "source": [
    "### Q147. Write a python program to create the bar plot from a DataFrame.\n",
    "\n",
    "abcde\n",
    "\n",
    "2 4,8,5,7,6\n",
    "\n",
    "4 2,3,4,2,6\n",
    "\n",
    "6 4,7,4,7, 8\n",
    "\n",
    "8 2,6,4,8, 6\n",
    "\n",
    "10 2,4,3,3, 2\n",
    " "
   ]
  },
  {
   "cell_type": "code",
   "execution_count": 308,
   "metadata": {},
   "outputs": [
    {
     "data": {
      "image/png": "[encoded data removed]",
      "text/plain": [
       "<Figure size 432x288 with 1 Axes>"
      ]
     },
     "metadata": {
      "needs_background": "light"
     },
     "output_type": "display_data"
    }
   ],
   "source": [
    "from pandas import DataFrame\n",
    "import matplotlib.pyplot as plt\n",
    "import numpy as np\n",
    "\n",
    "a=np.array([[4,8,5,7,6],[2,3,4,2,6],[4,7,4,7,8],[2,6,4,8,6],[2,4,3,3,2]])\n",
    "df=DataFrame(a, columns=['a','b','c','d','e'], index=[2,4,6,8,10])\n",
    "\n",
    "df.plot(kind='bar')\n",
    "# Turn on the grid\n",
    "plt.minorticks_on()\n",
    "plt.grid(which='major', linestyle='-', linewidth='0.5', color='green')\n",
    "plt.grid(which='minor', linestyle=':', linewidth='0.5', color='black')\n",
    "\n",
    "plt.show()\n"
   ]
  },
  {
   "cell_type": "markdown",
   "metadata": {},
   "source": [
    "### Q148. Write a python program to draw the scatter plot comparing two subject marks of Mathematics and Science. Use marks of 10 students.\n",
    "\n",
    "Sample data:\n",
    "\n",
    "Test Data-\n",
    "\n",
    "math_marks = [88, 92 , 80, 89, 100, 80, 60, 100, 80, 34] science_marks = [35, 79, 79 , 48, \n",
    "\n",
    "100, 88, 32, 45, 20, 30] marks_range = [10, 20, 30, 40, 50, 60, 70, 80, 90, 100]"
   ]
  },
  {
   "cell_type": "code",
   "execution_count": 309,
   "metadata": {},
   "outputs": [
    {
     "data": {
      "image/png": "[encoded data removed]",
      "text/plain": [
       "<Figure size 432x288 with 1 Axes>"
      ]
     },
     "metadata": {
      "needs_background": "light"
     },
     "output_type": "display_data"
    }
   ],
   "source": [
    "import matplotlib.pyplot as plt\n",
    "import pandas as pd\n",
    "math_marks = [88, 92, 80, 89, 100, 80, 60, 100, 80, 34]\n",
    "science_marks = [35, 79, 79, 48, 100, 88, 32, 45, 20, 30]\n",
    "marks_range = [10, 20, 30, 40, 50, 60, 70, 80, 90, 100]\n",
    "plt.scatter(marks_range, math_marks, label='Math marks', color='r')\n",
    "plt.scatter(marks_range, science_marks, label='Science marks', color='g')\n",
    "plt.title('Scatter Plot')\n",
    "plt.xlabel('Marks Range')\n",
    "plt.ylabel('Marks Scored')\n",
    "plt.legend()\n",
    "plt.show()\n"
   ]
  },
  {
   "cell_type": "markdown",
   "metadata": {},
   "source": [
    "### Q149. Write a python program to draw the scatter plot for three different groups comparing weights and heights.\n"
   ]
  },
  {
   "cell_type": "code",
   "execution_count": null,
   "metadata": {},
   "outputs": [],
   "source": [
    "Solution: "
   ]
  },
  {
   "cell_type": "markdown",
   "metadata": {},
   "source": [
    "### Q150. Write a python program to draw a scatter plot to find sea-level rise in past 100 years."
   ]
  },
  {
   "cell_type": "code",
   "execution_count": null,
   "metadata": {},
   "outputs": [],
   "source": [
    "Solution: ## DataSet is not available "
   ]
  },
  {
   "cell_type": "code",
   "execution_count": null,
   "metadata": {},
   "outputs": [],
   "source": []
  },
  {
   "cell_type": "markdown",
   "metadata": {},
   "source": [
    "-------------------------------------------------------------------------------------------------------------------"
   ]
  },
  {
   "cell_type": "code",
   "execution_count": null,
   "metadata": {},
   "outputs": [],
   "source": []
  },
  {
   "cell_type": "code",
   "execution_count": null,
   "metadata": {},
   "outputs": [],
   "source": []
  },
  {
   "cell_type": "code",
   "execution_count": null,
   "metadata": {},
   "outputs": [],
   "source": []
  },
  {
   "cell_type": "code",
   "execution_count": null,
   "metadata": {},
   "outputs": [],
   "source": []
  },
  {
   "cell_type": "code",
   "execution_count": null,
   "metadata": {},
   "outputs": [],
   "source": []
  },
  {
   "cell_type": "code",
   "execution_count": null,
   "metadata": {},
   "outputs": [],
   "source": []
  }
 ],
 "metadata": {
  "kernelspec": {
   "display_name": "Python 3",
   "language": "python",
   "name": "python3"
  },
  "language_info": {
   "codemirror_mode": {
    "name": "ipython",
    "version": 3
   },
   "file_extension": ".py",
   "mimetype": "text/x-python",
   "name": "python",
   "nbconvert_exporter": "python",
   "pygments_lexer": "ipython3",
   "version": "3.7.3"
  }
 },
 "nbformat": 4,
 "nbformat_minor": 2
}
